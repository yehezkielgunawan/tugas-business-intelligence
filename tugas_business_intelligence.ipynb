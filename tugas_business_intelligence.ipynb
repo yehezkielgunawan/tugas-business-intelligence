{
  "nbformat": 4,
  "nbformat_minor": 0,
  "metadata": {
    "colab": {
      "provenance": [],
      "include_colab_link": true
    },
    "kernelspec": {
      "name": "python3",
      "display_name": "Python 3"
    },
    "language_info": {
      "name": "python"
    }
  },
  "cells": [
    {
      "cell_type": "markdown",
      "metadata": {
        "id": "view-in-github",
        "colab_type": "text"
      },
      "source": [
        "<a href=\"https://colab.research.google.com/github/yehezkielgunawan/tugas-business-intelligence/blob/main/tugas_business_intelligence.ipynb\" target=\"_parent\"><img src=\"https://colab.research.google.com/assets/colab-badge.svg\" alt=\"Open In Colab\"/></a>"
      ]
    },
    {
      "cell_type": "markdown",
      "source": [
        "# Import Dataset & Install Libraries"
      ],
      "metadata": {
        "id": "b0w95U7m55K1"
      }
    },
    {
      "cell_type": "code",
      "execution_count": 38,
      "metadata": {
        "id": "RuqDJRLC3Sqw",
        "colab": {
          "base_uri": "https://localhost:8080/"
        },
        "outputId": "1ba3129e-584a-4c94-ba2d-a4934191c1eb"
      },
      "outputs": [
        {
          "output_type": "stream",
          "name": "stdout",
          "text": [
            "Looking in indexes: https://pypi.org/simple, https://us-python.pkg.dev/colab-wheels/public/simple/\n",
            "Requirement already satisfied: bert-tensorflow in /usr/local/lib/python3.10/dist-packages (1.0.4)\n",
            "Requirement already satisfied: six in /usr/local/lib/python3.10/dist-packages (from bert-tensorflow) (1.16.0)\n"
          ]
        }
      ],
      "source": [
        "import numpy as np\n",
        "import pandas as pd\n",
        "import tensorflow as tf\n",
        "import tensorflow_hub as hub\n",
        "from tensorflow.keras.models import Model\n",
        "import os\n",
        "import warnings\n",
        "!pip install bert-tensorflow\n",
        "warnings.filterwarnings('ignore')\n",
        "os.environ['TF_CPP_MIN_LOG_LEVEL'] = '3'\n",
        "\n",
        "# Verbosity is now 5\n",
        "\n",
        "tf.autograph.set_verbosity(0)"
      ]
    },
    {
      "cell_type": "code",
      "source": [
        "from google.colab import drive\n",
        "drive.mount('/content/gdrive')"
      ],
      "metadata": {
        "colab": {
          "base_uri": "https://localhost:8080/"
        },
        "id": "jI9uX3_X6Efr",
        "outputId": "f714cee8-a9d4-4b53-81b3-566cf87a73b1"
      },
      "execution_count": 39,
      "outputs": [
        {
          "output_type": "stream",
          "name": "stdout",
          "text": [
            "Drive already mounted at /content/gdrive; to attempt to forcibly remount, call drive.mount(\"/content/gdrive\", force_remount=True).\n"
          ]
        }
      ]
    },
    {
      "cell_type": "code",
      "source": [
        "df1 = pd.read_csv('/content/gdrive/My Drive/Tugas Business Intelligence/Reviews.csv')\n",
        "df1.head(5)"
      ],
      "metadata": {
        "colab": {
          "base_uri": "https://localhost:8080/",
          "height": 337
        },
        "id": "Gv7FdChB7q5g",
        "outputId": "c4ed9d1b-2ea1-488b-c63a-209f73db1964"
      },
      "execution_count": 40,
      "outputs": [
        {
          "output_type": "execute_result",
          "data": {
            "text/plain": [
              "   Id   ProductId          UserId                      ProfileName  \\\n",
              "0   1  B001E4KFG0  A3SGXH7AUHU8GW                       delmartian   \n",
              "1   2  B00813GRG4  A1D87F6ZCVE5NK                           dll pa   \n",
              "2   3  B000LQOCH0   ABXLMWJIXXAIN  Natalia Corres \"Natalia Corres\"   \n",
              "3   4  B000UA0QIQ  A395BORC6FGVXV                             Karl   \n",
              "4   5  B006K2ZZ7K  A1UQRSCLF8GW1T    Michael D. Bigham \"M. Wassir\"   \n",
              "\n",
              "   HelpfulnessNumerator  HelpfulnessDenominator  Score        Time  \\\n",
              "0                     1                       1      5  1303862400   \n",
              "1                     0                       0      1  1346976000   \n",
              "2                     1                       1      4  1219017600   \n",
              "3                     3                       3      2  1307923200   \n",
              "4                     0                       0      5  1350777600   \n",
              "\n",
              "                 Summary                                               Text  \n",
              "0  Good Quality Dog Food  I have bought several of the Vitality canned d...  \n",
              "1      Not as Advertised  Product arrived labeled as Jumbo Salted Peanut...  \n",
              "2  \"Delight\" says it all  This is a confection that has been around a fe...  \n",
              "3         Cough Medicine  If you are looking for the secret ingredient i...  \n",
              "4            Great taffy  Great taffy at a great price.  There was a wid...  "
            ],
            "text/html": [
              "\n",
              "  <div id=\"df-39367a49-2a08-4152-93a9-e374eaa1c60f\">\n",
              "    <div class=\"colab-df-container\">\n",
              "      <div>\n",
              "<style scoped>\n",
              "    .dataframe tbody tr th:only-of-type {\n",
              "        vertical-align: middle;\n",
              "    }\n",
              "\n",
              "    .dataframe tbody tr th {\n",
              "        vertical-align: top;\n",
              "    }\n",
              "\n",
              "    .dataframe thead th {\n",
              "        text-align: right;\n",
              "    }\n",
              "</style>\n",
              "<table border=\"1\" class=\"dataframe\">\n",
              "  <thead>\n",
              "    <tr style=\"text-align: right;\">\n",
              "      <th></th>\n",
              "      <th>Id</th>\n",
              "      <th>ProductId</th>\n",
              "      <th>UserId</th>\n",
              "      <th>ProfileName</th>\n",
              "      <th>HelpfulnessNumerator</th>\n",
              "      <th>HelpfulnessDenominator</th>\n",
              "      <th>Score</th>\n",
              "      <th>Time</th>\n",
              "      <th>Summary</th>\n",
              "      <th>Text</th>\n",
              "    </tr>\n",
              "  </thead>\n",
              "  <tbody>\n",
              "    <tr>\n",
              "      <th>0</th>\n",
              "      <td>1</td>\n",
              "      <td>B001E4KFG0</td>\n",
              "      <td>A3SGXH7AUHU8GW</td>\n",
              "      <td>delmartian</td>\n",
              "      <td>1</td>\n",
              "      <td>1</td>\n",
              "      <td>5</td>\n",
              "      <td>1303862400</td>\n",
              "      <td>Good Quality Dog Food</td>\n",
              "      <td>I have bought several of the Vitality canned d...</td>\n",
              "    </tr>\n",
              "    <tr>\n",
              "      <th>1</th>\n",
              "      <td>2</td>\n",
              "      <td>B00813GRG4</td>\n",
              "      <td>A1D87F6ZCVE5NK</td>\n",
              "      <td>dll pa</td>\n",
              "      <td>0</td>\n",
              "      <td>0</td>\n",
              "      <td>1</td>\n",
              "      <td>1346976000</td>\n",
              "      <td>Not as Advertised</td>\n",
              "      <td>Product arrived labeled as Jumbo Salted Peanut...</td>\n",
              "    </tr>\n",
              "    <tr>\n",
              "      <th>2</th>\n",
              "      <td>3</td>\n",
              "      <td>B000LQOCH0</td>\n",
              "      <td>ABXLMWJIXXAIN</td>\n",
              "      <td>Natalia Corres \"Natalia Corres\"</td>\n",
              "      <td>1</td>\n",
              "      <td>1</td>\n",
              "      <td>4</td>\n",
              "      <td>1219017600</td>\n",
              "      <td>\"Delight\" says it all</td>\n",
              "      <td>This is a confection that has been around a fe...</td>\n",
              "    </tr>\n",
              "    <tr>\n",
              "      <th>3</th>\n",
              "      <td>4</td>\n",
              "      <td>B000UA0QIQ</td>\n",
              "      <td>A395BORC6FGVXV</td>\n",
              "      <td>Karl</td>\n",
              "      <td>3</td>\n",
              "      <td>3</td>\n",
              "      <td>2</td>\n",
              "      <td>1307923200</td>\n",
              "      <td>Cough Medicine</td>\n",
              "      <td>If you are looking for the secret ingredient i...</td>\n",
              "    </tr>\n",
              "    <tr>\n",
              "      <th>4</th>\n",
              "      <td>5</td>\n",
              "      <td>B006K2ZZ7K</td>\n",
              "      <td>A1UQRSCLF8GW1T</td>\n",
              "      <td>Michael D. Bigham \"M. Wassir\"</td>\n",
              "      <td>0</td>\n",
              "      <td>0</td>\n",
              "      <td>5</td>\n",
              "      <td>1350777600</td>\n",
              "      <td>Great taffy</td>\n",
              "      <td>Great taffy at a great price.  There was a wid...</td>\n",
              "    </tr>\n",
              "  </tbody>\n",
              "</table>\n",
              "</div>\n",
              "      <button class=\"colab-df-convert\" onclick=\"convertToInteractive('df-39367a49-2a08-4152-93a9-e374eaa1c60f')\"\n",
              "              title=\"Convert this dataframe to an interactive table.\"\n",
              "              style=\"display:none;\">\n",
              "        \n",
              "  <svg xmlns=\"http://www.w3.org/2000/svg\" height=\"24px\"viewBox=\"0 0 24 24\"\n",
              "       width=\"24px\">\n",
              "    <path d=\"M0 0h24v24H0V0z\" fill=\"none\"/>\n",
              "    <path d=\"M18.56 5.44l.94 2.06.94-2.06 2.06-.94-2.06-.94-.94-2.06-.94 2.06-2.06.94zm-11 1L8.5 8.5l.94-2.06 2.06-.94-2.06-.94L8.5 2.5l-.94 2.06-2.06.94zm10 10l.94 2.06.94-2.06 2.06-.94-2.06-.94-.94-2.06-.94 2.06-2.06.94z\"/><path d=\"M17.41 7.96l-1.37-1.37c-.4-.4-.92-.59-1.43-.59-.52 0-1.04.2-1.43.59L10.3 9.45l-7.72 7.72c-.78.78-.78 2.05 0 2.83L4 21.41c.39.39.9.59 1.41.59.51 0 1.02-.2 1.41-.59l7.78-7.78 2.81-2.81c.8-.78.8-2.07 0-2.86zM5.41 20L4 18.59l7.72-7.72 1.47 1.35L5.41 20z\"/>\n",
              "  </svg>\n",
              "      </button>\n",
              "      \n",
              "  <style>\n",
              "    .colab-df-container {\n",
              "      display:flex;\n",
              "      flex-wrap:wrap;\n",
              "      gap: 12px;\n",
              "    }\n",
              "\n",
              "    .colab-df-convert {\n",
              "      background-color: #E8F0FE;\n",
              "      border: none;\n",
              "      border-radius: 50%;\n",
              "      cursor: pointer;\n",
              "      display: none;\n",
              "      fill: #1967D2;\n",
              "      height: 32px;\n",
              "      padding: 0 0 0 0;\n",
              "      width: 32px;\n",
              "    }\n",
              "\n",
              "    .colab-df-convert:hover {\n",
              "      background-color: #E2EBFA;\n",
              "      box-shadow: 0px 1px 2px rgba(60, 64, 67, 0.3), 0px 1px 3px 1px rgba(60, 64, 67, 0.15);\n",
              "      fill: #174EA6;\n",
              "    }\n",
              "\n",
              "    [theme=dark] .colab-df-convert {\n",
              "      background-color: #3B4455;\n",
              "      fill: #D2E3FC;\n",
              "    }\n",
              "\n",
              "    [theme=dark] .colab-df-convert:hover {\n",
              "      background-color: #434B5C;\n",
              "      box-shadow: 0px 1px 3px 1px rgba(0, 0, 0, 0.15);\n",
              "      filter: drop-shadow(0px 1px 2px rgba(0, 0, 0, 0.3));\n",
              "      fill: #FFFFFF;\n",
              "    }\n",
              "  </style>\n",
              "\n",
              "      <script>\n",
              "        const buttonEl =\n",
              "          document.querySelector('#df-39367a49-2a08-4152-93a9-e374eaa1c60f button.colab-df-convert');\n",
              "        buttonEl.style.display =\n",
              "          google.colab.kernel.accessAllowed ? 'block' : 'none';\n",
              "\n",
              "        async function convertToInteractive(key) {\n",
              "          const element = document.querySelector('#df-39367a49-2a08-4152-93a9-e374eaa1c60f');\n",
              "          const dataTable =\n",
              "            await google.colab.kernel.invokeFunction('convertToInteractive',\n",
              "                                                     [key], {});\n",
              "          if (!dataTable) return;\n",
              "\n",
              "          const docLinkHtml = 'Like what you see? Visit the ' +\n",
              "            '<a target=\"_blank\" href=https://colab.research.google.com/notebooks/data_table.ipynb>data table notebook</a>'\n",
              "            + ' to learn more about interactive tables.';\n",
              "          element.innerHTML = '';\n",
              "          dataTable['output_type'] = 'display_data';\n",
              "          await google.colab.output.renderOutput(dataTable, element);\n",
              "          const docLink = document.createElement('div');\n",
              "          docLink.innerHTML = docLinkHtml;\n",
              "          element.appendChild(docLink);\n",
              "        }\n",
              "      </script>\n",
              "    </div>\n",
              "  </div>\n",
              "  "
            ]
          },
          "metadata": {},
          "execution_count": 40
        }
      ]
    },
    {
      "cell_type": "markdown",
      "source": [
        "# Preprocessing Data"
      ],
      "metadata": {
        "id": "uZCOqF9G-cpF"
      }
    },
    {
      "cell_type": "code",
      "source": [
        "df1.describe()"
      ],
      "metadata": {
        "colab": {
          "base_uri": "https://localhost:8080/",
          "height": 300
        },
        "id": "YMqyMDRy9mSV",
        "outputId": "a6404323-a40c-4a7b-92da-9aeda0f55817"
      },
      "execution_count": 41,
      "outputs": [
        {
          "output_type": "execute_result",
          "data": {
            "text/plain": [
              "                  Id  HelpfulnessNumerator  HelpfulnessDenominator  \\\n",
              "count  568454.000000         568454.000000            568454.00000   \n",
              "mean   284227.500000              1.743817                 2.22881   \n",
              "std    164098.679298              7.636513                 8.28974   \n",
              "min         1.000000              0.000000                 0.00000   \n",
              "25%    142114.250000              0.000000                 0.00000   \n",
              "50%    284227.500000              0.000000                 1.00000   \n",
              "75%    426340.750000              2.000000                 2.00000   \n",
              "max    568454.000000            866.000000               923.00000   \n",
              "\n",
              "               Score          Time  \n",
              "count  568454.000000  5.684540e+05  \n",
              "mean        4.183199  1.296257e+09  \n",
              "std         1.310436  4.804331e+07  \n",
              "min         1.000000  9.393408e+08  \n",
              "25%         4.000000  1.271290e+09  \n",
              "50%         5.000000  1.311120e+09  \n",
              "75%         5.000000  1.332720e+09  \n",
              "max         5.000000  1.351210e+09  "
            ],
            "text/html": [
              "\n",
              "  <div id=\"df-b7b36c80-41e0-42e4-acde-8a6c1f65e8cd\">\n",
              "    <div class=\"colab-df-container\">\n",
              "      <div>\n",
              "<style scoped>\n",
              "    .dataframe tbody tr th:only-of-type {\n",
              "        vertical-align: middle;\n",
              "    }\n",
              "\n",
              "    .dataframe tbody tr th {\n",
              "        vertical-align: top;\n",
              "    }\n",
              "\n",
              "    .dataframe thead th {\n",
              "        text-align: right;\n",
              "    }\n",
              "</style>\n",
              "<table border=\"1\" class=\"dataframe\">\n",
              "  <thead>\n",
              "    <tr style=\"text-align: right;\">\n",
              "      <th></th>\n",
              "      <th>Id</th>\n",
              "      <th>HelpfulnessNumerator</th>\n",
              "      <th>HelpfulnessDenominator</th>\n",
              "      <th>Score</th>\n",
              "      <th>Time</th>\n",
              "    </tr>\n",
              "  </thead>\n",
              "  <tbody>\n",
              "    <tr>\n",
              "      <th>count</th>\n",
              "      <td>568454.000000</td>\n",
              "      <td>568454.000000</td>\n",
              "      <td>568454.00000</td>\n",
              "      <td>568454.000000</td>\n",
              "      <td>5.684540e+05</td>\n",
              "    </tr>\n",
              "    <tr>\n",
              "      <th>mean</th>\n",
              "      <td>284227.500000</td>\n",
              "      <td>1.743817</td>\n",
              "      <td>2.22881</td>\n",
              "      <td>4.183199</td>\n",
              "      <td>1.296257e+09</td>\n",
              "    </tr>\n",
              "    <tr>\n",
              "      <th>std</th>\n",
              "      <td>164098.679298</td>\n",
              "      <td>7.636513</td>\n",
              "      <td>8.28974</td>\n",
              "      <td>1.310436</td>\n",
              "      <td>4.804331e+07</td>\n",
              "    </tr>\n",
              "    <tr>\n",
              "      <th>min</th>\n",
              "      <td>1.000000</td>\n",
              "      <td>0.000000</td>\n",
              "      <td>0.00000</td>\n",
              "      <td>1.000000</td>\n",
              "      <td>9.393408e+08</td>\n",
              "    </tr>\n",
              "    <tr>\n",
              "      <th>25%</th>\n",
              "      <td>142114.250000</td>\n",
              "      <td>0.000000</td>\n",
              "      <td>0.00000</td>\n",
              "      <td>4.000000</td>\n",
              "      <td>1.271290e+09</td>\n",
              "    </tr>\n",
              "    <tr>\n",
              "      <th>50%</th>\n",
              "      <td>284227.500000</td>\n",
              "      <td>0.000000</td>\n",
              "      <td>1.00000</td>\n",
              "      <td>5.000000</td>\n",
              "      <td>1.311120e+09</td>\n",
              "    </tr>\n",
              "    <tr>\n",
              "      <th>75%</th>\n",
              "      <td>426340.750000</td>\n",
              "      <td>2.000000</td>\n",
              "      <td>2.00000</td>\n",
              "      <td>5.000000</td>\n",
              "      <td>1.332720e+09</td>\n",
              "    </tr>\n",
              "    <tr>\n",
              "      <th>max</th>\n",
              "      <td>568454.000000</td>\n",
              "      <td>866.000000</td>\n",
              "      <td>923.00000</td>\n",
              "      <td>5.000000</td>\n",
              "      <td>1.351210e+09</td>\n",
              "    </tr>\n",
              "  </tbody>\n",
              "</table>\n",
              "</div>\n",
              "      <button class=\"colab-df-convert\" onclick=\"convertToInteractive('df-b7b36c80-41e0-42e4-acde-8a6c1f65e8cd')\"\n",
              "              title=\"Convert this dataframe to an interactive table.\"\n",
              "              style=\"display:none;\">\n",
              "        \n",
              "  <svg xmlns=\"http://www.w3.org/2000/svg\" height=\"24px\"viewBox=\"0 0 24 24\"\n",
              "       width=\"24px\">\n",
              "    <path d=\"M0 0h24v24H0V0z\" fill=\"none\"/>\n",
              "    <path d=\"M18.56 5.44l.94 2.06.94-2.06 2.06-.94-2.06-.94-.94-2.06-.94 2.06-2.06.94zm-11 1L8.5 8.5l.94-2.06 2.06-.94-2.06-.94L8.5 2.5l-.94 2.06-2.06.94zm10 10l.94 2.06.94-2.06 2.06-.94-2.06-.94-.94-2.06-.94 2.06-2.06.94z\"/><path d=\"M17.41 7.96l-1.37-1.37c-.4-.4-.92-.59-1.43-.59-.52 0-1.04.2-1.43.59L10.3 9.45l-7.72 7.72c-.78.78-.78 2.05 0 2.83L4 21.41c.39.39.9.59 1.41.59.51 0 1.02-.2 1.41-.59l7.78-7.78 2.81-2.81c.8-.78.8-2.07 0-2.86zM5.41 20L4 18.59l7.72-7.72 1.47 1.35L5.41 20z\"/>\n",
              "  </svg>\n",
              "      </button>\n",
              "      \n",
              "  <style>\n",
              "    .colab-df-container {\n",
              "      display:flex;\n",
              "      flex-wrap:wrap;\n",
              "      gap: 12px;\n",
              "    }\n",
              "\n",
              "    .colab-df-convert {\n",
              "      background-color: #E8F0FE;\n",
              "      border: none;\n",
              "      border-radius: 50%;\n",
              "      cursor: pointer;\n",
              "      display: none;\n",
              "      fill: #1967D2;\n",
              "      height: 32px;\n",
              "      padding: 0 0 0 0;\n",
              "      width: 32px;\n",
              "    }\n",
              "\n",
              "    .colab-df-convert:hover {\n",
              "      background-color: #E2EBFA;\n",
              "      box-shadow: 0px 1px 2px rgba(60, 64, 67, 0.3), 0px 1px 3px 1px rgba(60, 64, 67, 0.15);\n",
              "      fill: #174EA6;\n",
              "    }\n",
              "\n",
              "    [theme=dark] .colab-df-convert {\n",
              "      background-color: #3B4455;\n",
              "      fill: #D2E3FC;\n",
              "    }\n",
              "\n",
              "    [theme=dark] .colab-df-convert:hover {\n",
              "      background-color: #434B5C;\n",
              "      box-shadow: 0px 1px 3px 1px rgba(0, 0, 0, 0.15);\n",
              "      filter: drop-shadow(0px 1px 2px rgba(0, 0, 0, 0.3));\n",
              "      fill: #FFFFFF;\n",
              "    }\n",
              "  </style>\n",
              "\n",
              "      <script>\n",
              "        const buttonEl =\n",
              "          document.querySelector('#df-b7b36c80-41e0-42e4-acde-8a6c1f65e8cd button.colab-df-convert');\n",
              "        buttonEl.style.display =\n",
              "          google.colab.kernel.accessAllowed ? 'block' : 'none';\n",
              "\n",
              "        async function convertToInteractive(key) {\n",
              "          const element = document.querySelector('#df-b7b36c80-41e0-42e4-acde-8a6c1f65e8cd');\n",
              "          const dataTable =\n",
              "            await google.colab.kernel.invokeFunction('convertToInteractive',\n",
              "                                                     [key], {});\n",
              "          if (!dataTable) return;\n",
              "\n",
              "          const docLinkHtml = 'Like what you see? Visit the ' +\n",
              "            '<a target=\"_blank\" href=https://colab.research.google.com/notebooks/data_table.ipynb>data table notebook</a>'\n",
              "            + ' to learn more about interactive tables.';\n",
              "          element.innerHTML = '';\n",
              "          dataTable['output_type'] = 'display_data';\n",
              "          await google.colab.output.renderOutput(dataTable, element);\n",
              "          const docLink = document.createElement('div');\n",
              "          docLink.innerHTML = docLinkHtml;\n",
              "          element.appendChild(docLink);\n",
              "        }\n",
              "      </script>\n",
              "    </div>\n",
              "  </div>\n",
              "  "
            ]
          },
          "metadata": {},
          "execution_count": 41
        }
      ]
    },
    {
      "cell_type": "code",
      "source": [
        "df1.info()"
      ],
      "metadata": {
        "colab": {
          "base_uri": "https://localhost:8080/"
        },
        "id": "Yn-T4hmO9vs1",
        "outputId": "310ff135-4f20-4adb-9a64-ea071c38f08d"
      },
      "execution_count": 42,
      "outputs": [
        {
          "output_type": "stream",
          "name": "stdout",
          "text": [
            "<class 'pandas.core.frame.DataFrame'>\n",
            "RangeIndex: 568454 entries, 0 to 568453\n",
            "Data columns (total 10 columns):\n",
            " #   Column                  Non-Null Count   Dtype \n",
            "---  ------                  --------------   ----- \n",
            " 0   Id                      568454 non-null  int64 \n",
            " 1   ProductId               568454 non-null  object\n",
            " 2   UserId                  568454 non-null  object\n",
            " 3   ProfileName             568438 non-null  object\n",
            " 4   HelpfulnessNumerator    568454 non-null  int64 \n",
            " 5   HelpfulnessDenominator  568454 non-null  int64 \n",
            " 6   Score                   568454 non-null  int64 \n",
            " 7   Time                    568454 non-null  int64 \n",
            " 8   Summary                 568427 non-null  object\n",
            " 9   Text                    568454 non-null  object\n",
            "dtypes: int64(5), object(5)\n",
            "memory usage: 43.4+ MB\n"
          ]
        }
      ]
    },
    {
      "cell_type": "markdown",
      "source": [
        "## We only use Text, and Score column for classification purpose"
      ],
      "metadata": {
        "id": "ePaZdaWkAHfK"
      }
    },
    {
      "cell_type": "code",
      "source": [
        "all_cols = df1.columns\n",
        "keep_cols = ['Score', 'Text']\n",
        "df1.drop([c for c in all_cols if c not in keep_cols], axis=1, inplace=True)\n",
        "df1.head(10)"
      ],
      "metadata": {
        "colab": {
          "base_uri": "https://localhost:8080/",
          "height": 363
        },
        "id": "ffiH55Jv9zdX",
        "outputId": "1cad6e54-16f1-43db-9cad-10a260c1a81e"
      },
      "execution_count": 43,
      "outputs": [
        {
          "output_type": "execute_result",
          "data": {
            "text/plain": [
              "   Score                                               Text\n",
              "0      5  I have bought several of the Vitality canned d...\n",
              "1      1  Product arrived labeled as Jumbo Salted Peanut...\n",
              "2      4  This is a confection that has been around a fe...\n",
              "3      2  If you are looking for the secret ingredient i...\n",
              "4      5  Great taffy at a great price.  There was a wid...\n",
              "5      4  I got a wild hair for taffy and ordered this f...\n",
              "6      5  This saltwater taffy had great flavors and was...\n",
              "7      5  This taffy is so good.  It is very soft and ch...\n",
              "8      5  Right now I'm mostly just sprouting this so my...\n",
              "9      5  This is a very healthy dog food. Good for thei..."
            ],
            "text/html": [
              "\n",
              "  <div id=\"df-e86522e9-646b-4e24-8219-495979f1aea1\">\n",
              "    <div class=\"colab-df-container\">\n",
              "      <div>\n",
              "<style scoped>\n",
              "    .dataframe tbody tr th:only-of-type {\n",
              "        vertical-align: middle;\n",
              "    }\n",
              "\n",
              "    .dataframe tbody tr th {\n",
              "        vertical-align: top;\n",
              "    }\n",
              "\n",
              "    .dataframe thead th {\n",
              "        text-align: right;\n",
              "    }\n",
              "</style>\n",
              "<table border=\"1\" class=\"dataframe\">\n",
              "  <thead>\n",
              "    <tr style=\"text-align: right;\">\n",
              "      <th></th>\n",
              "      <th>Score</th>\n",
              "      <th>Text</th>\n",
              "    </tr>\n",
              "  </thead>\n",
              "  <tbody>\n",
              "    <tr>\n",
              "      <th>0</th>\n",
              "      <td>5</td>\n",
              "      <td>I have bought several of the Vitality canned d...</td>\n",
              "    </tr>\n",
              "    <tr>\n",
              "      <th>1</th>\n",
              "      <td>1</td>\n",
              "      <td>Product arrived labeled as Jumbo Salted Peanut...</td>\n",
              "    </tr>\n",
              "    <tr>\n",
              "      <th>2</th>\n",
              "      <td>4</td>\n",
              "      <td>This is a confection that has been around a fe...</td>\n",
              "    </tr>\n",
              "    <tr>\n",
              "      <th>3</th>\n",
              "      <td>2</td>\n",
              "      <td>If you are looking for the secret ingredient i...</td>\n",
              "    </tr>\n",
              "    <tr>\n",
              "      <th>4</th>\n",
              "      <td>5</td>\n",
              "      <td>Great taffy at a great price.  There was a wid...</td>\n",
              "    </tr>\n",
              "    <tr>\n",
              "      <th>5</th>\n",
              "      <td>4</td>\n",
              "      <td>I got a wild hair for taffy and ordered this f...</td>\n",
              "    </tr>\n",
              "    <tr>\n",
              "      <th>6</th>\n",
              "      <td>5</td>\n",
              "      <td>This saltwater taffy had great flavors and was...</td>\n",
              "    </tr>\n",
              "    <tr>\n",
              "      <th>7</th>\n",
              "      <td>5</td>\n",
              "      <td>This taffy is so good.  It is very soft and ch...</td>\n",
              "    </tr>\n",
              "    <tr>\n",
              "      <th>8</th>\n",
              "      <td>5</td>\n",
              "      <td>Right now I'm mostly just sprouting this so my...</td>\n",
              "    </tr>\n",
              "    <tr>\n",
              "      <th>9</th>\n",
              "      <td>5</td>\n",
              "      <td>This is a very healthy dog food. Good for thei...</td>\n",
              "    </tr>\n",
              "  </tbody>\n",
              "</table>\n",
              "</div>\n",
              "      <button class=\"colab-df-convert\" onclick=\"convertToInteractive('df-e86522e9-646b-4e24-8219-495979f1aea1')\"\n",
              "              title=\"Convert this dataframe to an interactive table.\"\n",
              "              style=\"display:none;\">\n",
              "        \n",
              "  <svg xmlns=\"http://www.w3.org/2000/svg\" height=\"24px\"viewBox=\"0 0 24 24\"\n",
              "       width=\"24px\">\n",
              "    <path d=\"M0 0h24v24H0V0z\" fill=\"none\"/>\n",
              "    <path d=\"M18.56 5.44l.94 2.06.94-2.06 2.06-.94-2.06-.94-.94-2.06-.94 2.06-2.06.94zm-11 1L8.5 8.5l.94-2.06 2.06-.94-2.06-.94L8.5 2.5l-.94 2.06-2.06.94zm10 10l.94 2.06.94-2.06 2.06-.94-2.06-.94-.94-2.06-.94 2.06-2.06.94z\"/><path d=\"M17.41 7.96l-1.37-1.37c-.4-.4-.92-.59-1.43-.59-.52 0-1.04.2-1.43.59L10.3 9.45l-7.72 7.72c-.78.78-.78 2.05 0 2.83L4 21.41c.39.39.9.59 1.41.59.51 0 1.02-.2 1.41-.59l7.78-7.78 2.81-2.81c.8-.78.8-2.07 0-2.86zM5.41 20L4 18.59l7.72-7.72 1.47 1.35L5.41 20z\"/>\n",
              "  </svg>\n",
              "      </button>\n",
              "      \n",
              "  <style>\n",
              "    .colab-df-container {\n",
              "      display:flex;\n",
              "      flex-wrap:wrap;\n",
              "      gap: 12px;\n",
              "    }\n",
              "\n",
              "    .colab-df-convert {\n",
              "      background-color: #E8F0FE;\n",
              "      border: none;\n",
              "      border-radius: 50%;\n",
              "      cursor: pointer;\n",
              "      display: none;\n",
              "      fill: #1967D2;\n",
              "      height: 32px;\n",
              "      padding: 0 0 0 0;\n",
              "      width: 32px;\n",
              "    }\n",
              "\n",
              "    .colab-df-convert:hover {\n",
              "      background-color: #E2EBFA;\n",
              "      box-shadow: 0px 1px 2px rgba(60, 64, 67, 0.3), 0px 1px 3px 1px rgba(60, 64, 67, 0.15);\n",
              "      fill: #174EA6;\n",
              "    }\n",
              "\n",
              "    [theme=dark] .colab-df-convert {\n",
              "      background-color: #3B4455;\n",
              "      fill: #D2E3FC;\n",
              "    }\n",
              "\n",
              "    [theme=dark] .colab-df-convert:hover {\n",
              "      background-color: #434B5C;\n",
              "      box-shadow: 0px 1px 3px 1px rgba(0, 0, 0, 0.15);\n",
              "      filter: drop-shadow(0px 1px 2px rgba(0, 0, 0, 0.3));\n",
              "      fill: #FFFFFF;\n",
              "    }\n",
              "  </style>\n",
              "\n",
              "      <script>\n",
              "        const buttonEl =\n",
              "          document.querySelector('#df-e86522e9-646b-4e24-8219-495979f1aea1 button.colab-df-convert');\n",
              "        buttonEl.style.display =\n",
              "          google.colab.kernel.accessAllowed ? 'block' : 'none';\n",
              "\n",
              "        async function convertToInteractive(key) {\n",
              "          const element = document.querySelector('#df-e86522e9-646b-4e24-8219-495979f1aea1');\n",
              "          const dataTable =\n",
              "            await google.colab.kernel.invokeFunction('convertToInteractive',\n",
              "                                                     [key], {});\n",
              "          if (!dataTable) return;\n",
              "\n",
              "          const docLinkHtml = 'Like what you see? Visit the ' +\n",
              "            '<a target=\"_blank\" href=https://colab.research.google.com/notebooks/data_table.ipynb>data table notebook</a>'\n",
              "            + ' to learn more about interactive tables.';\n",
              "          element.innerHTML = '';\n",
              "          dataTable['output_type'] = 'display_data';\n",
              "          await google.colab.output.renderOutput(dataTable, element);\n",
              "          const docLink = document.createElement('div');\n",
              "          docLink.innerHTML = docLinkHtml;\n",
              "          element.appendChild(docLink);\n",
              "        }\n",
              "      </script>\n",
              "    </div>\n",
              "  </div>\n",
              "  "
            ]
          },
          "metadata": {},
          "execution_count": 43
        }
      ]
    },
    {
      "cell_type": "code",
      "source": [
        "import seaborn as sns\n",
        "import matplotlib.pyplot as plt\n",
        "plt.figure(figsize=(8,6))\n",
        "plt.title('Score distribution')\n",
        "sns.histplot(df1['Score'], discrete=True);"
      ],
      "metadata": {
        "colab": {
          "base_uri": "https://localhost:8080/",
          "height": 593
        },
        "id": "56aI5pX4-oBd",
        "outputId": "45869cdd-5ba2-4307-bfe2-5bf634c80c95"
      },
      "execution_count": 44,
      "outputs": [
        {
          "output_type": "display_data",
          "data": {
            "text/plain": [
              "<Figure size 800x600 with 1 Axes>"
            ],
            "image/png": "[encoded data removed]"
          },
          "metadata": {}
        }
      ]
    },
    {
      "cell_type": "markdown",
      "source": [
        "## Take just 10k row data as sample, too much data takes more time to be trained"
      ],
      "metadata": {
        "id": "9HGbtLnnZ5bT"
      }
    },
    {
      "cell_type": "code",
      "source": [
        "df1 = df1.sample(n=10000, random_state=30)"
      ],
      "metadata": {
        "id": "a8IImT43Zf8D"
      },
      "execution_count": 45,
      "outputs": []
    },
    {
      "cell_type": "code",
      "source": [
        "import re\n",
        "df1['Text']=df1['Text'].apply(lambda row : re.sub('<.*?>','',row))"
      ],
      "metadata": {
        "id": "7B-fhYtPPCPH"
      },
      "execution_count": 46,
      "outputs": []
    },
    {
      "cell_type": "markdown",
      "source": [
        "We are doing sentiment analysis hence we will convert label to 0 or 1¶\n",
        "0: Negative Review\n",
        "1: Positive Review"
      ],
      "metadata": {
        "id": "4yKH0lbnTGLa"
      }
    },
    {
      "cell_type": "code",
      "source": [
        "df1.loc[df1['Score'] <=2, 'Score'] = 0\n",
        "df1.loc[df1['Score'] > 3, 'Score'] = 1"
      ],
      "metadata": {
        "id": "tzxW_qBITETr"
      },
      "execution_count": 47,
      "outputs": []
    },
    {
      "cell_type": "code",
      "source": [
        "df1.drop(df1[df1['Score']==3].index,inplace=True)"
      ],
      "metadata": {
        "id": "YM-lLc3_TNtv"
      },
      "execution_count": 48,
      "outputs": []
    },
    {
      "cell_type": "code",
      "source": [
        "df1['len'] = df1.Text.apply(lambda x: len(x.split()))"
      ],
      "metadata": {
        "id": "006269ttTOci"
      },
      "execution_count": 49,
      "outputs": []
    },
    {
      "cell_type": "code",
      "source": [
        "df1 = df1[df1.len<50]"
      ],
      "metadata": {
        "id": "7oiNXM98TT7T"
      },
      "execution_count": 50,
      "outputs": []
    },
    {
      "cell_type": "markdown",
      "source": [
        "# Train Test Split the Dataset"
      ],
      "metadata": {
        "id": "WT7Nu533BL5y"
      }
    },
    {
      "cell_type": "code",
      "source": [
        "from sklearn.model_selection import train_test_split\n",
        "\n",
        "X_train, X_test, y_train, y_test = train_test_split(df1[['Text','len']],df1.Score, test_size=0.2, random_state=42, stratify=df1.Score)"
      ],
      "metadata": {
        "id": "NEDhd9vLAuwD"
      },
      "execution_count": 51,
      "outputs": []
    },
    {
      "cell_type": "code",
      "source": [
        "X_train.shape,X_test.shape"
      ],
      "metadata": {
        "colab": {
          "base_uri": "https://localhost:8080/"
        },
        "id": "-Vvd02kzOdAW",
        "outputId": "46a4ef7d-0cca-4c23-c130-ff5bb05b6c0c"
      },
      "execution_count": 52,
      "outputs": [
        {
          "output_type": "execute_result",
          "data": {
            "text/plain": [
              "((3321, 2), (831, 2))"
            ]
          },
          "metadata": {},
          "execution_count": 52
        }
      ]
    },
    {
      "cell_type": "markdown",
      "source": [
        "# Classification using BERT"
      ],
      "metadata": {
        "id": "uvJNcoW1Dfx5"
      }
    },
    {
      "cell_type": "code",
      "source": [
        "max_seq_length = 55\n",
        "tf.keras.backend.clear_session()\n",
        "input_word_ids = tf.keras.layers.Input(shape=(max_seq_length,), dtype=tf.int32, name=\"input_word_ids\")\n",
        "                # ids of words\n",
        "input_mask = tf.keras.layers.Input(shape=(max_seq_length,), dtype=tf.int32, name=\"input_mask\")\n",
        "                # masking of ids\n",
        "segment_ids = tf.keras.layers.Input(shape=(max_seq_length,), dtype=tf.int32, name=\"segment_ids\")\n",
        "                # segment of ids\n",
        "bert_layer = hub.KerasLayer(\"https://tfhub.dev/tensorflow/bert_en_uncased_L-12_H-768_A-12/1\", trainable=False)\n",
        "pooled_output, sequence_output = bert_layer([input_word_ids, input_mask, segment_ids])\n",
        "\n",
        "bert_model = Model(inputs=[input_word_ids, input_mask, segment_ids], outputs=pooled_output)"
      ],
      "metadata": {
        "id": "Y_pUKe_ICnMD"
      },
      "execution_count": 53,
      "outputs": []
    },
    {
      "cell_type": "code",
      "source": [
        "bert_model.summary()"
      ],
      "metadata": {
        "colab": {
          "base_uri": "https://localhost:8080/"
        },
        "id": "nrlEYqEGDed3",
        "outputId": "c5140b6d-102b-477d-8daf-87c3ef8705f7"
      },
      "execution_count": 54,
      "outputs": [
        {
          "output_type": "stream",
          "name": "stdout",
          "text": [
            "Model: \"model\"\n",
            "__________________________________________________________________________________________________\n",
            " Layer (type)                   Output Shape         Param #     Connected to                     \n",
            "==================================================================================================\n",
            " input_word_ids (InputLayer)    [(None, 55)]         0           []                               \n",
            "                                                                                                  \n",
            " input_mask (InputLayer)        [(None, 55)]         0           []                               \n",
            "                                                                                                  \n",
            " segment_ids (InputLayer)       [(None, 55)]         0           []                               \n",
            "                                                                                                  \n",
            " keras_layer (KerasLayer)       [(None, 768),        109482241   ['input_word_ids[0][0]',         \n",
            "                                 (None, 55, 768)]                 'input_mask[0][0]',             \n",
            "                                                                  'segment_ids[0][0]']            \n",
            "                                                                                                  \n",
            "==================================================================================================\n",
            "Total params: 109,482,241\n",
            "Trainable params: 0\n",
            "Non-trainable params: 109,482,241\n",
            "__________________________________________________________________________________________________\n"
          ]
        }
      ]
    },
    {
      "cell_type": "code",
      "source": [
        "vocab_file = bert_layer.resolved_object.vocab_file.asset_path.numpy()\n",
        "do_lower_case = bert_layer.resolved_object.do_lower_case.numpy()"
      ],
      "metadata": {
        "id": "D_rNZXZwQMpq"
      },
      "execution_count": 55,
      "outputs": []
    },
    {
      "cell_type": "code",
      "source": [
        "!wget --quiet https://raw.githubusercontent.com/tensorflow/models/master/official/nlp/bert/tokenization.py"
      ],
      "metadata": {
        "id": "f8HL0lu1QPxP"
      },
      "execution_count": 56,
      "outputs": []
    },
    {
      "cell_type": "code",
      "source": [
        "def bert_preprocess(sentence,tokenizer,max_seq_len=512):\n",
        "    tokens=[]\n",
        "    masks=[]\n",
        "    segments=[]\n",
        "    for word in sentence:\n",
        "        word=tokenizer.tokenize(word)\n",
        "        word=word[:max_seq_len-2]\n",
        "        seq=[\"[CLS]\"] + word + [\"[SEP]\"]\n",
        "        token = tokenizer.convert_tokens_to_ids(seq)\n",
        "        padding_tokens=token+[0]*(max_seq_len-len(token))\n",
        "        mask=[1]*len(seq)\n",
        "        masking=mask+[0]*(max_seq_len-len(token))\n",
        "        segment=np.zeros(max_seq_length)\n",
        "        \n",
        "        tokens.append(padding_tokens)\n",
        "        masks.append(masking)\n",
        "        segments.append(segment)\n",
        "    return np.array(tokens),np.array(masks),np.array(segments)"
      ],
      "metadata": {
        "id": "--DtNVC8QUzl"
      },
      "execution_count": 57,
      "outputs": []
    },
    {
      "cell_type": "code",
      "source": [
        "from bert import tokenization\n",
        "tokenizer =tokenization.FullTokenizer(vocab_file,do_lower_case)"
      ],
      "metadata": {
        "id": "JeDvwkvgQblH"
      },
      "execution_count": 58,
      "outputs": []
    },
    {
      "cell_type": "code",
      "source": [
        "bert_model.input"
      ],
      "metadata": {
        "colab": {
          "base_uri": "https://localhost:8080/"
        },
        "id": "QEW_ninKRUbj",
        "outputId": "24c54840-77a0-41e5-9039-157e55b8527d"
      },
      "execution_count": 59,
      "outputs": [
        {
          "output_type": "execute_result",
          "data": {
            "text/plain": [
              "[<KerasTensor: shape=(None, 55) dtype=int32 (created by layer 'input_word_ids')>,\n",
              " <KerasTensor: shape=(None, 55) dtype=int32 (created by layer 'input_mask')>,\n",
              " <KerasTensor: shape=(None, 55) dtype=int32 (created by layer 'segment_ids')>]"
            ]
          },
          "metadata": {},
          "execution_count": 59
        }
      ]
    },
    {
      "cell_type": "code",
      "source": [
        "bert_model.output"
      ],
      "metadata": {
        "colab": {
          "base_uri": "https://localhost:8080/"
        },
        "id": "FAxfPZtrRW0i",
        "outputId": "f3b8068c-3fd5-4de2-83ee-9cc230aa7475"
      },
      "execution_count": 60,
      "outputs": [
        {
          "output_type": "execute_result",
          "data": {
            "text/plain": [
              "<KerasTensor: shape=(None, 768) dtype=float32 (created by layer 'keras_layer')>"
            ]
          },
          "metadata": {},
          "execution_count": 60
        }
      ]
    },
    {
      "cell_type": "code",
      "source": [
        "import sys\n",
        "from absl import flags\n",
        "sys.argv=['preserve_unused_tokens=False']\n",
        "flags.FLAGS(sys.argv)\n",
        "\n",
        "X_train_tokens, X_train_mask, X_train_segment=bert_preprocess(X_train.Text.values,tokenizer,55)\n",
        "X_test_tokens, X_test_mask, X_test_segment=bert_preprocess(X_test.Text.values,tokenizer,55)"
      ],
      "metadata": {
        "id": "jBRDEOsuRY2L"
      },
      "execution_count": 61,
      "outputs": []
    },
    {
      "cell_type": "markdown",
      "source": [],
      "metadata": {
        "id": "PQMTafuu5HpK"
      }
    },
    {
      "cell_type": "code",
      "source": [
        "X_train_pooled_output=bert_model.predict([X_train_tokens,X_train_mask,X_train_segment])\n",
        "X_test_pooled_output=bert_model.predict([X_test_tokens,X_test_mask,X_test_segment])"
      ],
      "metadata": {
        "colab": {
          "base_uri": "https://localhost:8080/"
        },
        "id": "_npqG-tUUMv_",
        "outputId": "fa0f978e-a031-4aec-fe8a-cc587aef0a45"
      },
      "execution_count": 62,
      "outputs": [
        {
          "output_type": "stream",
          "name": "stdout",
          "text": [
            "104/104 [==============================] - 712s 7s/step\n",
            "26/26 [==============================] - 175s 7s/step\n"
          ]
        }
      ]
    },
    {
      "cell_type": "code",
      "source": [
        "from tensorflow.keras.layers import Input, Dense, Activation, Dropout\n",
        "from tensorflow.keras.models import Model\n",
        "\n",
        "import datetime\n",
        "from sklearn.metrics import roc_auc_score"
      ],
      "metadata": {
        "id": "QS7ff1lXbilA"
      },
      "execution_count": 63,
      "outputs": []
    },
    {
      "cell_type": "code",
      "source": [
        "auc=[]\n",
        "val_auc=[]\n",
        "class LossHistory(tf.keras.callbacks.Callback):\n",
        "    \n",
        "    def on_train_begin(self, logs={}):\n",
        "        self.history={'val_accuracy': []}\n",
        "\n",
        "\n",
        "    def on_epoch_end(self, epoch, logs={}):\n",
        "        ## on end of each epoch, we will get logs and update the self.history dict\n",
        "        if logs.get('val_accuracy', -1) != -1:\n",
        "            self.history['val_accuracy'].append(logs.get('val_accuracy'))\n",
        "        auc_tr=(roc_auc_score(y_train,(self.model.predict(X_train_pooled_output))) )\n",
        "        auc_test=(roc_auc_score (y_test, (self.model.predict(X_test_pooled_output) ) ) )\n",
        "        print('\\n  train_auc : ',auc_tr)\n",
        "        print('  val_auc : ',auc_test)\n",
        "        auc.append(auc_tr)\n",
        "        val_auc.append(auc_test)\n",
        "        loss=logs.get('loss')"
      ],
      "metadata": {
        "id": "f08XHobCbszN"
      },
      "execution_count": 64,
      "outputs": []
    },
    {
      "cell_type": "code",
      "source": [
        "#Callbacks\n",
        "filepath=\"model1_save/weights-{epoch:02d}-{val_accuracy:.4f}.hdf5\"\n",
        "checkpoint = tf.keras.callbacks.ModelCheckpoint(filepath=filepath, monitor='val_loss',  verbose=1, save_best_only=True, mode='auto')\n",
        "\n",
        "history_own = LossHistory()\n",
        "\n",
        "earlystop = tf.keras.callbacks.EarlyStopping(monitor='val_accuracy',mode='max', patience=2, verbose=1)"
      ],
      "metadata": {
        "id": "vz61VK-XbtpU"
      },
      "execution_count": 65,
      "outputs": []
    },
    {
      "cell_type": "code",
      "source": [
        "##create an NN and \n",
        "input = Input(shape=[768,],name='input_layer')\n",
        "dense1=Dense(400, activation='relu',name='dense_1')(input)\n",
        "dense2=Dense(220, activation='relu',name='dense_2')(dense1)\n",
        "dense3=Dense(40, activation='relu',name='dense_3')(dense2)\n",
        "output=Dense(1, activation='sigmoid',name='dense_4')(dense3)\n",
        "model1 = Model(inputs=input, outputs=output)\n",
        "tf.keras.utils.plot_model(model1,\"model_1.png\",show_shapes=True)"
      ],
      "metadata": {
        "colab": {
          "base_uri": "https://localhost:8080/",
          "height": 533
        },
        "id": "T7BV1gN4bvQW",
        "outputId": "c38a885d-c1bd-4059-c08c-12655a69fbda"
      },
      "execution_count": 66,
      "outputs": [
        {
          "output_type": "execute_result",
          "data": {
            "image/png": "[encoded data removed]",
            "text/plain": [
              "<IPython.core.display.Image object>"
            ]
          },
          "metadata": {},
          "execution_count": 66
        }
      ]
    },
    {
      "cell_type": "code",
      "source": [
        "opt= tf.keras.optimizers.Adam(learning_rate=0.001)\n",
        "model1.compile(optimizer=opt,loss=tf.keras.losses.BinaryCrossentropy(),metrics='accuracy')"
      ],
      "metadata": {
        "id": "FLN8z0T3bxP2"
      },
      "execution_count": 67,
      "outputs": []
    },
    {
      "cell_type": "code",
      "source": [
        "X_test_pooled_output.shape"
      ],
      "metadata": {
        "colab": {
          "base_uri": "https://localhost:8080/"
        },
        "id": "29M4oI0hbzhL",
        "outputId": "ef5f226c-7abe-433e-b866-0715eab17ad8"
      },
      "execution_count": 68,
      "outputs": [
        {
          "output_type": "execute_result",
          "data": {
            "text/plain": [
              "(831, 768)"
            ]
          },
          "metadata": {},
          "execution_count": 68
        }
      ]
    },
    {
      "cell_type": "code",
      "source": [
        "!rm -rf ./logs_model1/ \n",
        "tf.keras.backend.clear_session()\n",
        "model1.fit(X_train_pooled_output,y_train,validation_data=(X_test_pooled_output,y_test),epochs=50,callbacks=[history_own])"
      ],
      "metadata": {
        "colab": {
          "base_uri": "https://localhost:8080/"
        },
        "id": "pSUgNjLFb2fI",
        "outputId": "19241a49-a4d9-46b5-9af3-10cacccbe5a9"
      },
      "execution_count": 69,
      "outputs": [
        {
          "output_type": "stream",
          "name": "stdout",
          "text": [
            "Epoch 1/50\n",
            "104/104 [==============================] - 0s 3ms/step\n",
            "26/26 [==============================] - 0s 3ms/step\n",
            "\n",
            "  train_auc :  0.831519008474711\n",
            "  val_auc :  0.7889145848687389\n",
            "104/104 [==============================] - 3s 19ms/step - loss: 0.4051 - accuracy: 0.8687 - val_loss: 0.3663 - val_accuracy: 0.8688\n",
            "Epoch 2/50\n",
            "104/104 [==============================] - 0s 3ms/step\n",
            "26/26 [==============================] - 0s 4ms/step\n",
            "\n",
            "  train_auc :  0.8594350722655939\n",
            "  val_auc :  0.8151668403263107\n",
            "104/104 [==============================] - 2s 18ms/step - loss: 0.3540 - accuracy: 0.8678 - val_loss: 0.4263 - val_accuracy: 0.8688\n",
            "Epoch 3/50\n",
            "104/104 [==============================] - 0s 3ms/step\n",
            "26/26 [==============================] - 0s 3ms/step\n",
            "\n",
            "  train_auc :  0.8991739939261921\n",
            "  val_auc :  0.8578489923505044\n",
            "104/104 [==============================] - 2s 15ms/step - loss: 0.3052 - accuracy: 0.8759 - val_loss: 0.3260 - val_accuracy: 0.8736\n",
            "Epoch 4/50\n",
            "104/104 [==============================] - 0s 3ms/step\n",
            "26/26 [==============================] - 0s 3ms/step\n",
            "\n",
            "  train_auc :  0.9247905172276724\n",
            "  val_auc :  0.8931866121121249\n",
            "104/104 [==============================] - 1s 14ms/step - loss: 0.2699 - accuracy: 0.8841 - val_loss: 0.2622 - val_accuracy: 0.8929\n",
            "Epoch 5/50\n",
            "104/104 [==============================] - 0s 4ms/step\n",
            "26/26 [==============================] - 0s 4ms/step\n",
            "\n",
            "  train_auc :  0.9335538136199577\n",
            "  val_auc :  0.9014968614196041\n",
            "104/104 [==============================] - 2s 18ms/step - loss: 0.2535 - accuracy: 0.8907 - val_loss: 0.2513 - val_accuracy: 0.8953\n",
            "Epoch 6/50\n",
            "104/104 [==============================] - 0s 4ms/step\n",
            "26/26 [==============================] - 0s 4ms/step\n",
            "\n",
            "  train_auc :  0.9389852606808389\n",
            "  val_auc :  0.9140257693969351\n",
            "104/104 [==============================] - 2s 23ms/step - loss: 0.2350 - accuracy: 0.8985 - val_loss: 0.2508 - val_accuracy: 0.8989\n",
            "Epoch 7/50\n",
            "104/104 [==============================] - 0s 3ms/step\n",
            "26/26 [==============================] - 0s 3ms/step\n",
            "\n",
            "  train_auc :  0.9404472675814478\n",
            "  val_auc :  0.9111286182622177\n",
            "104/104 [==============================] - 2s 22ms/step - loss: 0.2528 - accuracy: 0.8910 - val_loss: 0.2330 - val_accuracy: 0.9061\n",
            "Epoch 8/50\n",
            "104/104 [==============================] - 0s 3ms/step\n",
            "26/26 [==============================] - 0s 3ms/step\n",
            "\n",
            "  train_auc :  0.9432587887364254\n",
            "  val_auc :  0.9181046532313402\n",
            "104/104 [==============================] - 2s 18ms/step - loss: 0.2310 - accuracy: 0.8952 - val_loss: 0.2627 - val_accuracy: 0.8797\n",
            "Epoch 9/50\n",
            "104/104 [==============================] - 0s 3ms/step\n",
            "26/26 [==============================] - 0s 3ms/step\n",
            "\n",
            "  train_auc :  0.9437624218911485\n",
            "  val_auc :  0.9159317898803019\n",
            "104/104 [==============================] - 2s 16ms/step - loss: 0.2340 - accuracy: 0.9003 - val_loss: 0.2331 - val_accuracy: 0.9073\n",
            "Epoch 10/50\n",
            "104/104 [==============================] - 0s 3ms/step\n",
            "26/26 [==============================] - 0s 4ms/step\n",
            "\n",
            "  train_auc :  0.9465640055332072\n",
            "  val_auc :  0.920188568959821\n",
            "104/104 [==============================] - 2s 15ms/step - loss: 0.2295 - accuracy: 0.8985 - val_loss: 0.2261 - val_accuracy: 0.9146\n",
            "Epoch 11/50\n",
            "104/104 [==============================] - 0s 3ms/step\n",
            "26/26 [==============================] - 0s 3ms/step\n",
            "\n",
            "  train_auc :  0.9471801313341707\n",
            "  val_auc :  0.9214592492820656\n",
            "104/104 [==============================] - 1s 14ms/step - loss: 0.2241 - accuracy: 0.9018 - val_loss: 0.2383 - val_accuracy: 0.9122\n",
            "Epoch 12/50\n",
            "104/104 [==============================] - 0s 3ms/step\n",
            "26/26 [==============================] - 0s 3ms/step\n",
            "\n",
            "  train_auc :  0.9471674113176347\n",
            "  val_auc :  0.9171262293832118\n",
            "104/104 [==============================] - 2s 18ms/step - loss: 0.2145 - accuracy: 0.9100 - val_loss: 0.2239 - val_accuracy: 0.9170\n",
            "Epoch 13/50\n",
            "104/104 [==============================] - 0s 4ms/step\n",
            "26/26 [==============================] - 0s 4ms/step\n",
            "\n",
            "  train_auc :  0.9491811489354935\n",
            "  val_auc :  0.9181554804442298\n",
            "104/104 [==============================] - 2s 19ms/step - loss: 0.2178 - accuracy: 0.9027 - val_loss: 0.2776 - val_accuracy: 0.8953\n",
            "Epoch 14/50\n",
            "104/104 [==============================] - 0s 4ms/step\n",
            "26/26 [==============================] - 0s 5ms/step\n",
            "\n",
            "  train_auc :  0.9503577504650758\n",
            "  val_auc :  0.9237845942717732\n",
            "104/104 [==============================] - 2s 23ms/step - loss: 0.2106 - accuracy: 0.9109 - val_loss: 0.2198 - val_accuracy: 0.9122\n",
            "Epoch 15/50\n",
            "104/104 [==============================] - 0s 3ms/step\n",
            "26/26 [==============================] - 0s 3ms/step\n",
            "\n",
            "  train_auc :  0.9513515017569523\n",
            "  val_auc :  0.9219421078045186\n",
            "104/104 [==============================] - 2s 17ms/step - loss: 0.2129 - accuracy: 0.9094 - val_loss: 0.2310 - val_accuracy: 0.9025\n",
            "Epoch 16/50\n",
            "104/104 [==============================] - 0s 3ms/step\n",
            "26/26 [==============================] - 0s 3ms/step\n",
            "\n",
            "  train_auc :  0.9521027777336111\n",
            "  val_auc :  0.9273552059772803\n",
            "104/104 [==============================] - 2s 18ms/step - loss: 0.1931 - accuracy: 0.9178 - val_loss: 0.2359 - val_accuracy: 0.9182\n",
            "Epoch 17/50\n",
            "104/104 [==============================] - 0s 3ms/step\n",
            "26/26 [==============================] - 0s 3ms/step\n",
            "\n",
            "  train_auc :  0.9523269680250585\n",
            "  val_auc :  0.9278253576965106\n",
            "104/104 [==============================] - 2s 16ms/step - loss: 0.2064 - accuracy: 0.9145 - val_loss: 0.2218 - val_accuracy: 0.9122\n",
            "Epoch 18/50\n",
            "104/104 [==============================] - 0s 3ms/step\n",
            "26/26 [==============================] - 0s 3ms/step\n",
            "\n",
            "  train_auc :  0.9552219642885535\n",
            "  val_auc :  0.9275076876159496\n",
            "104/104 [==============================] - 2s 15ms/step - loss: 0.1998 - accuracy: 0.9148 - val_loss: 0.2144 - val_accuracy: 0.9170\n",
            "Epoch 19/50\n",
            "104/104 [==============================] - 0s 3ms/step\n",
            "26/26 [==============================] - 0s 3ms/step\n",
            "\n",
            "  train_auc :  0.9545577409250632\n",
            "  val_auc :  0.9265927977839336\n",
            "104/104 [==============================] - 2s 16ms/step - loss: 0.2083 - accuracy: 0.9103 - val_loss: 0.2332 - val_accuracy: 0.8989\n",
            "Epoch 20/50\n",
            "104/104 [==============================] - 0s 3ms/step\n",
            "26/26 [==============================] - 0s 3ms/step\n",
            "\n",
            "  train_auc :  0.9554298570588141\n",
            "  val_auc :  0.925233169839132\n",
            "104/104 [==============================] - 2s 18ms/step - loss: 0.2016 - accuracy: 0.9175 - val_loss: 0.2224 - val_accuracy: 0.9061\n",
            "Epoch 21/50\n",
            "104/104 [==============================] - 0s 4ms/step\n",
            "26/26 [==============================] - 0s 4ms/step\n",
            "\n",
            "  train_auc :  0.9562359881067846\n",
            "  val_auc :  0.9280794937609596\n",
            "104/104 [==============================] - 2s 21ms/step - loss: 0.1876 - accuracy: 0.9217 - val_loss: 0.2153 - val_accuracy: 0.9218\n",
            "Epoch 22/50\n",
            "104/104 [==============================] - 0s 5ms/step\n",
            "26/26 [==============================] - 0s 4ms/step\n",
            "\n",
            "  train_auc :  0.9550347415451641\n",
            "  val_auc :  0.9264784365549316\n",
            "104/104 [==============================] - 2s 22ms/step - loss: 0.1967 - accuracy: 0.9157 - val_loss: 0.2371 - val_accuracy: 0.9182\n",
            "Epoch 23/50\n",
            "104/104 [==============================] - 0s 3ms/step\n",
            "26/26 [==============================] - 0s 3ms/step\n",
            "\n",
            "  train_auc :  0.9574714197128457\n",
            "  val_auc :  0.9264403161452641\n",
            "104/104 [==============================] - 2s 19ms/step - loss: 0.1997 - accuracy: 0.9151 - val_loss: 0.2183 - val_accuracy: 0.9122\n",
            "Epoch 24/50\n",
            "104/104 [==============================] - 0s 3ms/step\n",
            "26/26 [==============================] - 0s 3ms/step\n",
            "\n",
            "  train_auc :  0.9553539344601147\n",
            "  val_auc :  0.9279143053190678\n",
            "104/104 [==============================] - 1s 14ms/step - loss: 0.1954 - accuracy: 0.9169 - val_loss: 0.2184 - val_accuracy: 0.9122\n",
            "Epoch 25/50\n",
            "104/104 [==============================] - 0s 3ms/step\n",
            "26/26 [==============================] - 0s 3ms/step\n",
            "\n",
            "  train_auc :  0.9563107182039335\n",
            "  val_auc :  0.9262497140969275\n",
            "104/104 [==============================] - 2s 19ms/step - loss: 0.1939 - accuracy: 0.9196 - val_loss: 0.2241 - val_accuracy: 0.9146\n",
            "Epoch 26/50\n",
            "104/104 [==============================] - 0s 3ms/step\n",
            "26/26 [==============================] - 0s 3ms/step\n",
            "\n",
            "  train_auc :  0.95858044615458\n",
            "  val_auc :  0.9276474624513966\n",
            "104/104 [==============================] - 2s 18ms/step - loss: 0.1979 - accuracy: 0.9154 - val_loss: 0.2153 - val_accuracy: 0.9218\n",
            "Epoch 27/50\n",
            "104/104 [==============================] - 0s 3ms/step\n",
            "26/26 [==============================] - 0s 3ms/step\n",
            "\n",
            "  train_auc :  0.9572178143831587\n",
            "  val_auc :  0.9298647996137133\n",
            "104/104 [==============================] - 2s 18ms/step - loss: 0.1933 - accuracy: 0.9196 - val_loss: 0.2402 - val_accuracy: 0.9158\n",
            "Epoch 28/50\n",
            "104/104 [==============================] - 0s 3ms/step\n",
            "26/26 [==============================] - 0s 4ms/step\n",
            "\n",
            "  train_auc :  0.957627239915412\n",
            "  val_auc :  0.9312307809601261\n",
            "104/104 [==============================] - 2s 19ms/step - loss: 0.1978 - accuracy: 0.9169 - val_loss: 0.2360 - val_accuracy: 0.9158\n",
            "Epoch 29/50\n",
            "104/104 [==============================] - 0s 4ms/step\n",
            "26/26 [==============================] - 0s 4ms/step\n",
            "\n",
            "  train_auc :  0.9587450113685148\n",
            "  val_auc :  0.9261099392614806\n",
            "104/104 [==============================] - 2s 21ms/step - loss: 0.1837 - accuracy: 0.9241 - val_loss: 0.2265 - val_accuracy: 0.9073\n",
            "Epoch 30/50\n",
            "104/104 [==============================] - 0s 4ms/step\n",
            "26/26 [==============================] - 0s 3ms/step\n",
            "\n",
            "  train_auc :  0.9591667594167873\n",
            "  val_auc :  0.9309639380924546\n",
            "104/104 [==============================] - 2s 20ms/step - loss: 0.1868 - accuracy: 0.9256 - val_loss: 0.2127 - val_accuracy: 0.9254\n",
            "Epoch 31/50\n",
            "104/104 [==============================] - 0s 3ms/step\n",
            "26/26 [==============================] - 0s 3ms/step\n",
            "\n",
            "  train_auc :  0.9606951489036936\n",
            "  val_auc :  0.9290070903961981\n",
            "104/104 [==============================] - 2s 15ms/step - loss: 0.1850 - accuracy: 0.9253 - val_loss: 0.2244 - val_accuracy: 0.9134\n",
            "Epoch 32/50\n",
            "104/104 [==============================] - 0s 3ms/step\n",
            "26/26 [==============================] - 0s 3ms/step\n",
            "\n",
            "  train_auc :  0.9593722671839474\n",
            "  val_auc :  0.9308241632570078\n",
            "104/104 [==============================] - 2s 15ms/step - loss: 0.1794 - accuracy: 0.9217 - val_loss: 0.2521 - val_accuracy: 0.9061\n",
            "Epoch 33/50\n",
            "104/104 [==============================] - 0s 3ms/step\n",
            "26/26 [==============================] - 0s 3ms/step\n",
            "\n",
            "  train_auc :  0.9610139443181276\n",
            "  val_auc :  0.9311291265343464\n",
            "104/104 [==============================] - 2s 19ms/step - loss: 0.1886 - accuracy: 0.9163 - val_loss: 0.2194 - val_accuracy: 0.9122\n",
            "Epoch 34/50\n",
            "104/104 [==============================] - 0s 3ms/step\n",
            "26/26 [==============================] - 0s 3ms/step\n",
            "\n",
            "  train_auc :  0.9612373396085415\n",
            "  val_auc :  0.9302650639152202\n",
            "104/104 [==============================] - 2s 15ms/step - loss: 0.1926 - accuracy: 0.9196 - val_loss: 0.2180 - val_accuracy: 0.9242\n",
            "Epoch 35/50\n",
            "104/104 [==============================] - 0s 3ms/step\n",
            "26/26 [==============================] - 0s 3ms/step\n",
            "\n",
            "  train_auc :  0.9607714690029097\n",
            "  val_auc :  0.9306970952247833\n",
            "104/104 [==============================] - 2s 15ms/step - loss: 0.1873 - accuracy: 0.9229 - val_loss: 0.2180 - val_accuracy: 0.9146\n",
            "Epoch 36/50\n",
            "104/104 [==============================] - 0s 3ms/step\n",
            "26/26 [==============================] - 0s 3ms/step\n",
            "\n",
            "  train_auc :  0.9623352360358068\n",
            "  val_auc :  0.9323489796437011\n",
            "104/104 [==============================] - 1s 14ms/step - loss: 0.1754 - accuracy: 0.9262 - val_loss: 0.2199 - val_accuracy: 0.9146\n",
            "Epoch 37/50\n",
            "104/104 [==============================] - 0s 4ms/step\n",
            "26/26 [==============================] - 0s 5ms/step\n",
            "\n",
            "  train_auc :  0.9621945208528772\n",
            "  val_auc :  0.9318407075148034\n",
            "104/104 [==============================] - 3s 24ms/step - loss: 0.1865 - accuracy: 0.9199 - val_loss: 0.2139 - val_accuracy: 0.9206\n",
            "Epoch 38/50\n",
            "104/104 [==============================] - 0s 4ms/step\n",
            "26/26 [==============================] - 0s 3ms/step\n",
            "\n",
            "  train_auc :  0.9604240535512695\n",
            "  val_auc :  0.929401001296094\n",
            "104/104 [==============================] - 2s 22ms/step - loss: 0.1895 - accuracy: 0.9193 - val_loss: 0.2671 - val_accuracy: 0.9182\n",
            "Epoch 39/50\n",
            "104/104 [==============================] - 0s 3ms/step\n",
            "26/26 [==============================] - 0s 3ms/step\n",
            "\n",
            "  train_auc :  0.962053010668914\n",
            "  val_auc :  0.9317390530890239\n",
            "104/104 [==============================] - 2s 18ms/step - loss: 0.1826 - accuracy: 0.9259 - val_loss: 0.2362 - val_accuracy: 0.9182\n",
            "Epoch 40/50\n",
            "104/104 [==============================] - 0s 3ms/step\n",
            "26/26 [==============================] - 0s 3ms/step\n",
            "\n",
            "  train_auc :  0.9627104765236194\n",
            "  val_auc :  0.933429057917609\n",
            "104/104 [==============================] - 2s 15ms/step - loss: 0.1789 - accuracy: 0.9265 - val_loss: 0.2220 - val_accuracy: 0.9182\n",
            "Epoch 41/50\n",
            "104/104 [==============================] - 0s 3ms/step\n",
            "26/26 [==============================] - 0s 3ms/step\n",
            "\n",
            "  train_auc :  0.9625844688598093\n",
            "  val_auc :  0.9328699585758214\n",
            "104/104 [==============================] - 2s 15ms/step - loss: 0.1793 - accuracy: 0.9259 - val_loss: 0.2363 - val_accuracy: 0.9182\n",
            "Epoch 42/50\n",
            "104/104 [==============================] - 0s 3ms/step\n",
            "26/26 [==============================] - 0s 3ms/step\n",
            "\n",
            "  train_auc :  0.9635865676625379\n",
            "  val_auc :  0.9330224402144908\n",
            "104/104 [==============================] - 2s 15ms/step - loss: 0.1778 - accuracy: 0.9307 - val_loss: 0.2198 - val_accuracy: 0.9230\n",
            "Epoch 43/50\n",
            "104/104 [==============================] - 0s 3ms/step\n",
            "26/26 [==============================] - 0s 3ms/step\n",
            "\n",
            "  train_auc :  0.9643712336826038\n",
            "  val_auc :  0.9337086075885028\n",
            "104/104 [==============================] - 2s 15ms/step - loss: 0.1779 - accuracy: 0.9238 - val_loss: 0.2235 - val_accuracy: 0.9122\n",
            "Epoch 44/50\n",
            "104/104 [==============================] - 0s 3ms/step\n",
            "26/26 [==============================] - 0s 3ms/step\n",
            "\n",
            "  train_auc :  0.964420523746681\n",
            "  val_auc :  0.9344201885689598\n",
            "104/104 [==============================] - 2s 15ms/step - loss: 0.1664 - accuracy: 0.9283 - val_loss: 0.2211 - val_accuracy: 0.9218\n",
            "Epoch 45/50\n",
            "104/104 [==============================] - 0s 4ms/step\n",
            "26/26 [==============================] - 0s 4ms/step\n",
            "\n",
            "  train_auc :  0.962310988504285\n",
            "  val_auc :  0.9333782307047193\n",
            "104/104 [==============================] - 2s 21ms/step - loss: 0.1812 - accuracy: 0.9238 - val_loss: 0.2663 - val_accuracy: 0.8965\n",
            "Epoch 46/50\n",
            "104/104 [==============================] - 0s 4ms/step\n",
            "26/26 [==============================] - 0s 4ms/step\n",
            "\n",
            "  train_auc :  0.9639928131906572\n",
            "  val_auc :  0.9309004040763426\n",
            "104/104 [==============================] - 2s 22ms/step - loss: 0.1762 - accuracy: 0.9226 - val_loss: 0.2227 - val_accuracy: 0.9230\n",
            "Epoch 47/50\n",
            "104/104 [==============================] - 0s 3ms/step\n",
            "26/26 [==============================] - 0s 4ms/step\n",
            "\n",
            "  train_auc :  0.9641120633456826\n",
            "  val_auc :  0.9327174769371522\n",
            "104/104 [==============================] - 2s 15ms/step - loss: 0.1769 - accuracy: 0.9283 - val_loss: 0.2189 - val_accuracy: 0.9242\n",
            "Epoch 48/50\n",
            "104/104 [==============================] - 0s 3ms/step\n",
            "26/26 [==============================] - 0s 3ms/step\n",
            "\n",
            "  train_auc :  0.9639896331865232\n",
            "  val_auc :  0.9325904089049278\n",
            "104/104 [==============================] - 2s 16ms/step - loss: 0.1835 - accuracy: 0.9250 - val_loss: 0.2303 - val_accuracy: 0.9194\n",
            "Epoch 49/50\n",
            "104/104 [==============================] - 0s 3ms/step\n",
            "26/26 [==============================] - 0s 3ms/step\n",
            "\n",
            "  train_auc :  0.96476316919212\n",
            "  val_auc :  0.9332384558692725\n",
            "104/104 [==============================] - 2s 18ms/step - loss: 0.1736 - accuracy: 0.9250 - val_loss: 0.2242 - val_accuracy: 0.9242\n",
            "Epoch 50/50\n",
            "104/104 [==============================] - 0s 3ms/step\n",
            "26/26 [==============================] - 0s 3ms/step\n",
            "\n",
            "  train_auc :  0.9655382951997836\n",
            "  val_auc :  0.9323299194388676\n",
            "104/104 [==============================] - 2s 18ms/step - loss: 0.1707 - accuracy: 0.9329 - val_loss: 0.2312 - val_accuracy: 0.9218\n"
          ]
        },
        {
          "output_type": "execute_result",
          "data": {
            "text/plain": [
              "<keras.callbacks.History at 0x7fa8fdc97dc0>"
            ]
          },
          "metadata": {},
          "execution_count": 69
        }
      ]
    },
    {
      "cell_type": "code",
      "source": [
        "import matplotlib.pyplot as plt\n",
        "plt.rcParams.update({'font.size': 18})\n",
        "plt.figure(figsize=(12,10))\n",
        "plt.plot(np.arange(len(auc)),auc,color=\"red\")\n",
        "plt.plot(np.arange(len(auc)),val_auc,color='blue')\n",
        "plt.scatter(np.arange(len(auc)),auc,color='red')\n",
        "plt.scatter(np.arange(len(auc)),val_auc,color='blue')\n",
        "plt.xticks(np.arange(0,len(auc)+1,5),rotation=-35)\n",
        "plt.xlabel('Epochs')\n",
        "plt.ylabel('AUC Score')\n",
        "plt.legend(['Train AUC','Test AUC'])\n",
        "plt.grid()\n",
        "plt.show()"
      ],
      "metadata": {
        "colab": {
          "base_uri": "https://localhost:8080/",
          "height": 884
        },
        "id": "rpREoqO_b63O",
        "outputId": "0266d184-5283-4716-99ce-5034274634b5"
      },
      "execution_count": 70,
      "outputs": [
        {
          "output_type": "display_data",
          "data": {
            "text/plain": [
              "<Figure size 1200x1000 with 1 Axes>"
            ],
            "image/png": "[encoded data removed]"
          },
          "metadata": {}
        }
      ]
    },
    {
      "cell_type": "code",
      "source": [
        "# Get predicted labels for test data\n",
        "y_pred = model1.predict(X_test_pooled_output)\n",
        "y_pred = (y_pred > 0.5).astype(int)  # Convert probabilities to binary predictions\n",
        "\n",
        "# Generate confusion matrix\n",
        "from sklearn.metrics import confusion_matrix\n",
        "conf_matrix = confusion_matrix(y_test, y_pred)\n",
        "\n",
        "print(\"Confusion Matrix:\")\n",
        "print(conf_matrix)"
      ],
      "metadata": {
        "colab": {
          "base_uri": "https://localhost:8080/"
        },
        "id": "g3orKkhtrJIA",
        "outputId": "fc4aed0e-22f2-4b07-a6c1-2a5bb4c0e7b4"
      },
      "execution_count": 71,
      "outputs": [
        {
          "output_type": "stream",
          "name": "stdout",
          "text": [
            "26/26 [==============================] - 0s 3ms/step\n",
            "Confusion Matrix:\n",
            "[[ 67  42]\n",
            " [ 23 699]]\n"
          ]
        }
      ]
    },
    {
      "cell_type": "code",
      "source": [
        "import matplotlib.pyplot as plt\n",
        "import seaborn as sns\n",
        "\n",
        "# Generate confusion matrix\n",
        "conf_matrix = confusion_matrix(y_test, y_pred)\n",
        "\n",
        "# Create labels for the confusion matrix\n",
        "labels = ['Negative', 'Positive']\n",
        "\n",
        "# Plot confusion matrix as a heatmap\n",
        "plt.figure(figsize=(8, 6))\n",
        "sns.heatmap(conf_matrix, annot=True, fmt=\"d\", cmap=\"Blues\", xticklabels=labels, yticklabels=labels)\n",
        "plt.title(\"Confusion Matrix\")\n",
        "plt.xlabel(\"Predicted\")\n",
        "plt.ylabel(\"Actual\")\n",
        "plt.show()\n"
      ],
      "metadata": {
        "colab": {
          "base_uri": "https://localhost:8080/",
          "height": 593
        },
        "id": "4ooYgtJ_Ccjb",
        "outputId": "8f04af5f-a8a1-4d32-94d1-d90228505171"
      },
      "execution_count": 72,
      "outputs": [
        {
          "output_type": "display_data",
          "data": {
            "text/plain": [
              "<Figure size 800x600 with 2 Axes>"
            ],
            "image/png": "[encoded data removed]"
          },
          "metadata": {}
        }
      ]
    },
    {
      "cell_type": "code",
      "source": [
        "from sklearn.metrics import precision_score, accuracy_score, f1_score, recall_score\n",
        "\n",
        "# Calculate metrics\n",
        "precision = precision_score(y_test, y_pred)\n",
        "accuracy = accuracy_score(y_test, y_pred)\n",
        "f1 = f1_score(y_test, y_pred)\n",
        "recall = recall_score(y_test, y_pred)\n",
        "\n",
        "print(\"Precision:\", precision)\n",
        "print(\"Accuracy:\", accuracy)\n",
        "print(\"F1-score:\", f1)\n",
        "print(\"Recall:\", recall)\n"
      ],
      "metadata": {
        "colab": {
          "base_uri": "https://localhost:8080/"
        },
        "id": "0FfavVfkVFCB",
        "outputId": "afdefd9b-b82a-4dfc-afd4-7b72bf5c3a9b"
      },
      "execution_count": 73,
      "outputs": [
        {
          "output_type": "stream",
          "name": "stdout",
          "text": [
            "Precision: 0.9433198380566802\n",
            "Accuracy: 0.9217809867629362\n",
            "F1-score: 0.9555707450444294\n",
            "Recall: 0.9681440443213296\n"
          ]
        }
      ]
    },
    {
      "cell_type": "code",
      "source": [
        "from sklearn.ensemble import RandomForestClassifier\n",
        "from sklearn.metrics import classification_report\n",
        "\n",
        "# Create a Random Forest classifier\n",
        "rf_classifier = RandomForestClassifier(n_estimators=100, random_state=42)\n",
        "\n",
        "# Train the Random Forest classifier\n",
        "rf_classifier.fit(X_train_pooled_output, y_train)\n",
        "\n",
        "# Predict labels for the test data\n",
        "y_pred_rf = rf_classifier.predict(X_test_pooled_output)\n",
        "\n",
        "# Calculate evaluation metrics\n",
        "precision_rf = precision_score(y_test, y_pred_rf)\n",
        "accuracy_rf = accuracy_score(y_test, y_pred_rf)\n",
        "f1_rf = f1_score(y_test, y_pred_rf)\n",
        "recall_rf = recall_score(y_test, y_pred_rf)\n",
        "\n",
        "# Print classification report\n",
        "print(\"Classification Report for Random Forest:\")\n",
        "print(classification_report(y_test, y_pred_rf))\n",
        "\n",
        "# Print evaluation metrics\n",
        "print(\"Precision (Random Forest):\", precision_rf)\n",
        "print(\"Accuracy (Random Forest):\", accuracy_rf)\n",
        "print(\"F1-score (Random Forest):\", f1_rf)\n",
        "print(\"Recall (Random Forest):\", recall_rf)\n"
      ],
      "metadata": {
        "colab": {
          "base_uri": "https://localhost:8080/"
        },
        "id": "PoapsLPsxbca",
        "outputId": "a77f6b74-018e-4e23-ee8f-3d080198ee2f"
      },
      "execution_count": 74,
      "outputs": [
        {
          "output_type": "stream",
          "name": "stdout",
          "text": [
            "Classification Report for Random Forest:\n",
            "              precision    recall  f1-score   support\n",
            "\n",
            "           0       0.62      0.07      0.13       109\n",
            "           1       0.88      0.99      0.93       722\n",
            "\n",
            "    accuracy                           0.87       831\n",
            "   macro avg       0.75      0.53      0.53       831\n",
            "weighted avg       0.84      0.87      0.83       831\n",
            "\n",
            "Precision (Random Forest): 0.8765281173594132\n",
            "Accuracy (Random Forest): 0.8724428399518652\n",
            "F1-score (Random Forest): 0.9311688311688312\n",
            "Recall (Random Forest): 0.9930747922437673\n"
          ]
        }
      ]
    }
  ]
}