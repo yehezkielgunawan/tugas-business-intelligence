{
  "nbformat": 4,
  "nbformat_minor": 0,
  "metadata": {
    "colab": {
      "provenance": [],
      "include_colab_link": true
    },
    "kernelspec": {
      "name": "python3",
      "display_name": "Python 3"
    },
    "language_info": {
      "name": "python"
    }
  },
  "cells": [
    {
      "cell_type": "markdown",
      "metadata": {
        "id": "view-in-github",
        "colab_type": "text"
      },
      "source": [
        "<a href=\"https://colab.research.google.com/github/yehezkielgunawan/tugas-business-intelligence/blob/main/tugas_business_intelligence.ipynb\" target=\"_parent\"><img src=\"https://colab.research.google.com/assets/colab-badge.svg\" alt=\"Open In Colab\"/></a>"
      ]
    },
    {
      "cell_type": "markdown",
      "source": [
        "# Import Dataset & Install Libraries"
      ],
      "metadata": {
        "id": "b0w95U7m55K1"
      }
    },
    {
      "cell_type": "code",
      "execution_count": 1,
      "metadata": {
        "id": "RuqDJRLC3Sqw",
        "colab": {
          "base_uri": "https://localhost:8080/"
        },
        "outputId": "3909877e-0895-4b8c-e2b8-09bfc6f0d0ef"
      },
      "outputs": [
        {
          "output_type": "stream",
          "name": "stdout",
          "text": [
            "Looking in indexes: https://pypi.org/simple, https://us-python.pkg.dev/colab-wheels/public/simple/\n",
            "Requirement already satisfied: bert-tensorflow in /usr/local/lib/python3.10/dist-packages (1.0.4)\n",
            "Requirement already satisfied: six in /usr/local/lib/python3.10/dist-packages (from bert-tensorflow) (1.16.0)\n"
          ]
        }
      ],
      "source": [
        "import numpy as np\n",
        "import pandas as pd\n",
        "import tensorflow as tf\n",
        "import tensorflow_hub as hub\n",
        "from tensorflow.keras.models import Model\n",
        "import os\n",
        "import warnings\n",
        "!pip install bert-tensorflow\n",
        "warnings.filterwarnings('ignore')\n",
        "os.environ['TF_CPP_MIN_LOG_LEVEL'] = '3'\n",
        "\n",
        "# Verbosity is now 5\n",
        "\n",
        "tf.autograph.set_verbosity(0)"
      ]
    },
    {
      "cell_type": "code",
      "source": [
        "from google.colab import drive\n",
        "drive.mount('/content/gdrive')"
      ],
      "metadata": {
        "colab": {
          "base_uri": "https://localhost:8080/"
        },
        "id": "jI9uX3_X6Efr",
        "outputId": "87d46cb6-af71-4a5f-8534-06e61b24a9cc"
      },
      "execution_count": 2,
      "outputs": [
        {
          "output_type": "stream",
          "name": "stdout",
          "text": [
            "Drive already mounted at /content/gdrive; to attempt to forcibly remount, call drive.mount(\"/content/gdrive\", force_remount=True).\n"
          ]
        }
      ]
    },
    {
      "cell_type": "code",
      "source": [
        "df1 = pd.read_csv('/content/gdrive/My Drive/Tugas Business Intelligence/Reviews.csv')\n",
        "df1.head(5)\n",
        "df1.head(5).to_json()"
      ],
      "metadata": {
        "colab": {
          "base_uri": "https://localhost:8080/",
          "height": 123
        },
        "id": "Gv7FdChB7q5g",
        "outputId": "60f84c09-9ae2-499d-8dfb-97039436487a"
      },
      "execution_count": 38,
      "outputs": [
        {
          "output_type": "execute_result",
          "data": {
            "text/plain": [
              "'{\"Id\":{\"0\":1,\"1\":2,\"2\":3,\"3\":4,\"4\":5},\"ProductId\":{\"0\":\"B001E4KFG0\",\"1\":\"B00813GRG4\",\"2\":\"B000LQOCH0\",\"3\":\"B000UA0QIQ\",\"4\":\"B006K2ZZ7K\"},\"UserId\":{\"0\":\"A3SGXH7AUHU8GW\",\"1\":\"A1D87F6ZCVE5NK\",\"2\":\"ABXLMWJIXXAIN\",\"3\":\"A395BORC6FGVXV\",\"4\":\"A1UQRSCLF8GW1T\"},\"ProfileName\":{\"0\":\"delmartian\",\"1\":\"dll pa\",\"2\":\"Natalia Corres \\\\\"Natalia Corres\\\\\"\",\"3\":\"Karl\",\"4\":\"Michael D. Bigham \\\\\"M. Wassir\\\\\"\"},\"HelpfulnessNumerator\":{\"0\":1,\"1\":0,\"2\":1,\"3\":3,\"4\":0},\"HelpfulnessDenominator\":{\"0\":1,\"1\":0,\"2\":1,\"3\":3,\"4\":0},\"Score\":{\"0\":5,\"1\":1,\"2\":4,\"3\":2,\"4\":5},\"Time\":{\"0\":1303862400,\"1\":1346976000,\"2\":1219017600,\"3\":1307923200,\"4\":1350777600},\"Summary\":{\"0\":\"Good Quality Dog Food\",\"1\":\"Not as Advertised\",\"2\":\"\\\\\"Delight\\\\\" says it all\",\"3\":\"Cough Medicine\",\"4\":\"Great taffy\"},\"Text\":{\"0\":\"I have bought several of the Vitality canned dog food products and have found them all to be of good quality. The product looks more like a stew than a processed meat and it smells better. My Labrador is finicky and she appreciates this product better than  most.\",\"1\":\"Product arrived labeled as Jumbo Salted Peanuts...the peanuts were actually small sized unsalted. Not sure if this was an error or if the vendor intended to represent the product as \\\\\"Jumbo\\\\\".\",\"2\":\"This is a confection that has been around a few centuries.  It is a light, pillowy citrus gelatin with nuts - in this case Filberts. And it is cut into tiny squares and then liberally coated with powdered sugar.  And it is a tiny mouthful of heaven.  Not too chewy, and very flavorful.  I highly recommend this yummy treat.  If you are familiar with the story of C.S. Lewis\\' \\\\\"The Lion, The Witch, and The Wardrobe\\\\\" - this is the treat that seduces Edmund into selling out his Brother and Sisters to the Witch.\",\"3\":\"If you are looking for the secret ingredient in Robitussin I believe I have found it.  I got this in addition to the Root Beer Extract I ordered (which was good) and made some cherry soda.  The flavor is very medicinal.\",\"4\":\"Great taffy at a great price.  There was a wide assortment of yummy taffy.  Delivery was very quick.  If your a taffy lover, this is a deal.\"}}'"
            ],
            "application/vnd.google.colaboratory.intrinsic+json": {
              "type": "string"
            }
          },
          "metadata": {},
          "execution_count": 38
        }
      ]
    },
    {
      "cell_type": "markdown",
      "source": [],
      "metadata": {
        "id": "e-JNRdyGGtAy"
      }
    },
    {
      "cell_type": "code",
      "source": [],
      "metadata": {
        "id": "s_An66i5Gzij"
      },
      "execution_count": 3,
      "outputs": []
    },
    {
      "cell_type": "markdown",
      "source": [],
      "metadata": {
        "id": "BEDm2a9eG0O9"
      }
    },
    {
      "cell_type": "code",
      "source": [],
      "metadata": {
        "id": "4GQtHjqGI6a7"
      },
      "execution_count": 3,
      "outputs": []
    },
    {
      "cell_type": "markdown",
      "source": [
        "# Preprocessing Data"
      ],
      "metadata": {
        "id": "uZCOqF9G-cpF"
      }
    },
    {
      "cell_type": "code",
      "source": [
        "df1.describe()"
      ],
      "metadata": {
        "colab": {
          "base_uri": "https://localhost:8080/",
          "height": 300
        },
        "id": "YMqyMDRy9mSV",
        "outputId": "ddda2595-f5eb-4c1f-9254-0fcfd3971d92"
      },
      "execution_count": 4,
      "outputs": [
        {
          "output_type": "execute_result",
          "data": {
            "text/plain": [
              "                  Id  HelpfulnessNumerator  HelpfulnessDenominator  \\\n",
              "count  568454.000000         568454.000000            568454.00000   \n",
              "mean   284227.500000              1.743817                 2.22881   \n",
              "std    164098.679298              7.636513                 8.28974   \n",
              "min         1.000000              0.000000                 0.00000   \n",
              "25%    142114.250000              0.000000                 0.00000   \n",
              "50%    284227.500000              0.000000                 1.00000   \n",
              "75%    426340.750000              2.000000                 2.00000   \n",
              "max    568454.000000            866.000000               923.00000   \n",
              "\n",
              "               Score          Time  \n",
              "count  568454.000000  5.684540e+05  \n",
              "mean        4.183199  1.296257e+09  \n",
              "std         1.310436  4.804331e+07  \n",
              "min         1.000000  9.393408e+08  \n",
              "25%         4.000000  1.271290e+09  \n",
              "50%         5.000000  1.311120e+09  \n",
              "75%         5.000000  1.332720e+09  \n",
              "max         5.000000  1.351210e+09  "
            ],
            "text/html": [
              "\n",
              "  <div id=\"df-119a33bc-0e3e-4976-9810-98f65e4bd5b0\">\n",
              "    <div class=\"colab-df-container\">\n",
              "      <div>\n",
              "<style scoped>\n",
              "    .dataframe tbody tr th:only-of-type {\n",
              "        vertical-align: middle;\n",
              "    }\n",
              "\n",
              "    .dataframe tbody tr th {\n",
              "        vertical-align: top;\n",
              "    }\n",
              "\n",
              "    .dataframe thead th {\n",
              "        text-align: right;\n",
              "    }\n",
              "</style>\n",
              "<table border=\"1\" class=\"dataframe\">\n",
              "  <thead>\n",
              "    <tr style=\"text-align: right;\">\n",
              "      <th></th>\n",
              "      <th>Id</th>\n",
              "      <th>HelpfulnessNumerator</th>\n",
              "      <th>HelpfulnessDenominator</th>\n",
              "      <th>Score</th>\n",
              "      <th>Time</th>\n",
              "    </tr>\n",
              "  </thead>\n",
              "  <tbody>\n",
              "    <tr>\n",
              "      <th>count</th>\n",
              "      <td>568454.000000</td>\n",
              "      <td>568454.000000</td>\n",
              "      <td>568454.00000</td>\n",
              "      <td>568454.000000</td>\n",
              "      <td>5.684540e+05</td>\n",
              "    </tr>\n",
              "    <tr>\n",
              "      <th>mean</th>\n",
              "      <td>284227.500000</td>\n",
              "      <td>1.743817</td>\n",
              "      <td>2.22881</td>\n",
              "      <td>4.183199</td>\n",
              "      <td>1.296257e+09</td>\n",
              "    </tr>\n",
              "    <tr>\n",
              "      <th>std</th>\n",
              "      <td>164098.679298</td>\n",
              "      <td>7.636513</td>\n",
              "      <td>8.28974</td>\n",
              "      <td>1.310436</td>\n",
              "      <td>4.804331e+07</td>\n",
              "    </tr>\n",
              "    <tr>\n",
              "      <th>min</th>\n",
              "      <td>1.000000</td>\n",
              "      <td>0.000000</td>\n",
              "      <td>0.00000</td>\n",
              "      <td>1.000000</td>\n",
              "      <td>9.393408e+08</td>\n",
              "    </tr>\n",
              "    <tr>\n",
              "      <th>25%</th>\n",
              "      <td>142114.250000</td>\n",
              "      <td>0.000000</td>\n",
              "      <td>0.00000</td>\n",
              "      <td>4.000000</td>\n",
              "      <td>1.271290e+09</td>\n",
              "    </tr>\n",
              "    <tr>\n",
              "      <th>50%</th>\n",
              "      <td>284227.500000</td>\n",
              "      <td>0.000000</td>\n",
              "      <td>1.00000</td>\n",
              "      <td>5.000000</td>\n",
              "      <td>1.311120e+09</td>\n",
              "    </tr>\n",
              "    <tr>\n",
              "      <th>75%</th>\n",
              "      <td>426340.750000</td>\n",
              "      <td>2.000000</td>\n",
              "      <td>2.00000</td>\n",
              "      <td>5.000000</td>\n",
              "      <td>1.332720e+09</td>\n",
              "    </tr>\n",
              "    <tr>\n",
              "      <th>max</th>\n",
              "      <td>568454.000000</td>\n",
              "      <td>866.000000</td>\n",
              "      <td>923.00000</td>\n",
              "      <td>5.000000</td>\n",
              "      <td>1.351210e+09</td>\n",
              "    </tr>\n",
              "  </tbody>\n",
              "</table>\n",
              "</div>\n",
              "      <button class=\"colab-df-convert\" onclick=\"convertToInteractive('df-119a33bc-0e3e-4976-9810-98f65e4bd5b0')\"\n",
              "              title=\"Convert this dataframe to an interactive table.\"\n",
              "              style=\"display:none;\">\n",
              "        \n",
              "  <svg xmlns=\"http://www.w3.org/2000/svg\" height=\"24px\"viewBox=\"0 0 24 24\"\n",
              "       width=\"24px\">\n",
              "    <path d=\"M0 0h24v24H0V0z\" fill=\"none\"/>\n",
              "    <path d=\"M18.56 5.44l.94 2.06.94-2.06 2.06-.94-2.06-.94-.94-2.06-.94 2.06-2.06.94zm-11 1L8.5 8.5l.94-2.06 2.06-.94-2.06-.94L8.5 2.5l-.94 2.06-2.06.94zm10 10l.94 2.06.94-2.06 2.06-.94-2.06-.94-.94-2.06-.94 2.06-2.06.94z\"/><path d=\"M17.41 7.96l-1.37-1.37c-.4-.4-.92-.59-1.43-.59-.52 0-1.04.2-1.43.59L10.3 9.45l-7.72 7.72c-.78.78-.78 2.05 0 2.83L4 21.41c.39.39.9.59 1.41.59.51 0 1.02-.2 1.41-.59l7.78-7.78 2.81-2.81c.8-.78.8-2.07 0-2.86zM5.41 20L4 18.59l7.72-7.72 1.47 1.35L5.41 20z\"/>\n",
              "  </svg>\n",
              "      </button>\n",
              "      \n",
              "  <style>\n",
              "    .colab-df-container {\n",
              "      display:flex;\n",
              "      flex-wrap:wrap;\n",
              "      gap: 12px;\n",
              "    }\n",
              "\n",
              "    .colab-df-convert {\n",
              "      background-color: #E8F0FE;\n",
              "      border: none;\n",
              "      border-radius: 50%;\n",
              "      cursor: pointer;\n",
              "      display: none;\n",
              "      fill: #1967D2;\n",
              "      height: 32px;\n",
              "      padding: 0 0 0 0;\n",
              "      width: 32px;\n",
              "    }\n",
              "\n",
              "    .colab-df-convert:hover {\n",
              "      background-color: #E2EBFA;\n",
              "      box-shadow: 0px 1px 2px rgba(60, 64, 67, 0.3), 0px 1px 3px 1px rgba(60, 64, 67, 0.15);\n",
              "      fill: #174EA6;\n",
              "    }\n",
              "\n",
              "    [theme=dark] .colab-df-convert {\n",
              "      background-color: #3B4455;\n",
              "      fill: #D2E3FC;\n",
              "    }\n",
              "\n",
              "    [theme=dark] .colab-df-convert:hover {\n",
              "      background-color: #434B5C;\n",
              "      box-shadow: 0px 1px 3px 1px rgba(0, 0, 0, 0.15);\n",
              "      filter: drop-shadow(0px 1px 2px rgba(0, 0, 0, 0.3));\n",
              "      fill: #FFFFFF;\n",
              "    }\n",
              "  </style>\n",
              "\n",
              "      <script>\n",
              "        const buttonEl =\n",
              "          document.querySelector('#df-119a33bc-0e3e-4976-9810-98f65e4bd5b0 button.colab-df-convert');\n",
              "        buttonEl.style.display =\n",
              "          google.colab.kernel.accessAllowed ? 'block' : 'none';\n",
              "\n",
              "        async function convertToInteractive(key) {\n",
              "          const element = document.querySelector('#df-119a33bc-0e3e-4976-9810-98f65e4bd5b0');\n",
              "          const dataTable =\n",
              "            await google.colab.kernel.invokeFunction('convertToInteractive',\n",
              "                                                     [key], {});\n",
              "          if (!dataTable) return;\n",
              "\n",
              "          const docLinkHtml = 'Like what you see? Visit the ' +\n",
              "            '<a target=\"_blank\" href=https://colab.research.google.com/notebooks/data_table.ipynb>data table notebook</a>'\n",
              "            + ' to learn more about interactive tables.';\n",
              "          element.innerHTML = '';\n",
              "          dataTable['output_type'] = 'display_data';\n",
              "          await google.colab.output.renderOutput(dataTable, element);\n",
              "          const docLink = document.createElement('div');\n",
              "          docLink.innerHTML = docLinkHtml;\n",
              "          element.appendChild(docLink);\n",
              "        }\n",
              "      </script>\n",
              "    </div>\n",
              "  </div>\n",
              "  "
            ]
          },
          "metadata": {},
          "execution_count": 4
        }
      ]
    },
    {
      "cell_type": "code",
      "source": [
        "df1.info()"
      ],
      "metadata": {
        "colab": {
          "base_uri": "https://localhost:8080/"
        },
        "id": "Yn-T4hmO9vs1",
        "outputId": "daf24d8b-4623-4b08-82e5-6d1758d8049e"
      },
      "execution_count": 5,
      "outputs": [
        {
          "output_type": "stream",
          "name": "stdout",
          "text": [
            "<class 'pandas.core.frame.DataFrame'>\n",
            "RangeIndex: 568454 entries, 0 to 568453\n",
            "Data columns (total 10 columns):\n",
            " #   Column                  Non-Null Count   Dtype \n",
            "---  ------                  --------------   ----- \n",
            " 0   Id                      568454 non-null  int64 \n",
            " 1   ProductId               568454 non-null  object\n",
            " 2   UserId                  568454 non-null  object\n",
            " 3   ProfileName             568438 non-null  object\n",
            " 4   HelpfulnessNumerator    568454 non-null  int64 \n",
            " 5   HelpfulnessDenominator  568454 non-null  int64 \n",
            " 6   Score                   568454 non-null  int64 \n",
            " 7   Time                    568454 non-null  int64 \n",
            " 8   Summary                 568427 non-null  object\n",
            " 9   Text                    568454 non-null  object\n",
            "dtypes: int64(5), object(5)\n",
            "memory usage: 43.4+ MB\n"
          ]
        }
      ]
    },
    {
      "cell_type": "markdown",
      "source": [
        "## We only use Text, and Score column for classification purpose"
      ],
      "metadata": {
        "id": "ePaZdaWkAHfK"
      }
    },
    {
      "cell_type": "code",
      "source": [
        "all_cols = df1.columns\n",
        "keep_cols = ['Score', 'Text']\n",
        "df1.drop([c for c in all_cols if c not in keep_cols], axis=1, inplace=True)\n",
        "df1.head(10)"
      ],
      "metadata": {
        "colab": {
          "base_uri": "https://localhost:8080/",
          "height": 363
        },
        "id": "ffiH55Jv9zdX",
        "outputId": "dd061f6a-fa7e-4961-bd3d-5efb4adc236c"
      },
      "execution_count": 6,
      "outputs": [
        {
          "output_type": "execute_result",
          "data": {
            "text/plain": [
              "   Score                                               Text\n",
              "0      5  I have bought several of the Vitality canned d...\n",
              "1      1  Product arrived labeled as Jumbo Salted Peanut...\n",
              "2      4  This is a confection that has been around a fe...\n",
              "3      2  If you are looking for the secret ingredient i...\n",
              "4      5  Great taffy at a great price.  There was a wid...\n",
              "5      4  I got a wild hair for taffy and ordered this f...\n",
              "6      5  This saltwater taffy had great flavors and was...\n",
              "7      5  This taffy is so good.  It is very soft and ch...\n",
              "8      5  Right now I'm mostly just sprouting this so my...\n",
              "9      5  This is a very healthy dog food. Good for thei..."
            ],
            "text/html": [
              "\n",
              "  <div id=\"df-ff33d3ed-3b2e-4384-9df4-819a053af4ce\">\n",
              "    <div class=\"colab-df-container\">\n",
              "      <div>\n",
              "<style scoped>\n",
              "    .dataframe tbody tr th:only-of-type {\n",
              "        vertical-align: middle;\n",
              "    }\n",
              "\n",
              "    .dataframe tbody tr th {\n",
              "        vertical-align: top;\n",
              "    }\n",
              "\n",
              "    .dataframe thead th {\n",
              "        text-align: right;\n",
              "    }\n",
              "</style>\n",
              "<table border=\"1\" class=\"dataframe\">\n",
              "  <thead>\n",
              "    <tr style=\"text-align: right;\">\n",
              "      <th></th>\n",
              "      <th>Score</th>\n",
              "      <th>Text</th>\n",
              "    </tr>\n",
              "  </thead>\n",
              "  <tbody>\n",
              "    <tr>\n",
              "      <th>0</th>\n",
              "      <td>5</td>\n",
              "      <td>I have bought several of the Vitality canned d...</td>\n",
              "    </tr>\n",
              "    <tr>\n",
              "      <th>1</th>\n",
              "      <td>1</td>\n",
              "      <td>Product arrived labeled as Jumbo Salted Peanut...</td>\n",
              "    </tr>\n",
              "    <tr>\n",
              "      <th>2</th>\n",
              "      <td>4</td>\n",
              "      <td>This is a confection that has been around a fe...</td>\n",
              "    </tr>\n",
              "    <tr>\n",
              "      <th>3</th>\n",
              "      <td>2</td>\n",
              "      <td>If you are looking for the secret ingredient i...</td>\n",
              "    </tr>\n",
              "    <tr>\n",
              "      <th>4</th>\n",
              "      <td>5</td>\n",
              "      <td>Great taffy at a great price.  There was a wid...</td>\n",
              "    </tr>\n",
              "    <tr>\n",
              "      <th>5</th>\n",
              "      <td>4</td>\n",
              "      <td>I got a wild hair for taffy and ordered this f...</td>\n",
              "    </tr>\n",
              "    <tr>\n",
              "      <th>6</th>\n",
              "      <td>5</td>\n",
              "      <td>This saltwater taffy had great flavors and was...</td>\n",
              "    </tr>\n",
              "    <tr>\n",
              "      <th>7</th>\n",
              "      <td>5</td>\n",
              "      <td>This taffy is so good.  It is very soft and ch...</td>\n",
              "    </tr>\n",
              "    <tr>\n",
              "      <th>8</th>\n",
              "      <td>5</td>\n",
              "      <td>Right now I'm mostly just sprouting this so my...</td>\n",
              "    </tr>\n",
              "    <tr>\n",
              "      <th>9</th>\n",
              "      <td>5</td>\n",
              "      <td>This is a very healthy dog food. Good for thei...</td>\n",
              "    </tr>\n",
              "  </tbody>\n",
              "</table>\n",
              "</div>\n",
              "      <button class=\"colab-df-convert\" onclick=\"convertToInteractive('df-ff33d3ed-3b2e-4384-9df4-819a053af4ce')\"\n",
              "              title=\"Convert this dataframe to an interactive table.\"\n",
              "              style=\"display:none;\">\n",
              "        \n",
              "  <svg xmlns=\"http://www.w3.org/2000/svg\" height=\"24px\"viewBox=\"0 0 24 24\"\n",
              "       width=\"24px\">\n",
              "    <path d=\"M0 0h24v24H0V0z\" fill=\"none\"/>\n",
              "    <path d=\"M18.56 5.44l.94 2.06.94-2.06 2.06-.94-2.06-.94-.94-2.06-.94 2.06-2.06.94zm-11 1L8.5 8.5l.94-2.06 2.06-.94-2.06-.94L8.5 2.5l-.94 2.06-2.06.94zm10 10l.94 2.06.94-2.06 2.06-.94-2.06-.94-.94-2.06-.94 2.06-2.06.94z\"/><path d=\"M17.41 7.96l-1.37-1.37c-.4-.4-.92-.59-1.43-.59-.52 0-1.04.2-1.43.59L10.3 9.45l-7.72 7.72c-.78.78-.78 2.05 0 2.83L4 21.41c.39.39.9.59 1.41.59.51 0 1.02-.2 1.41-.59l7.78-7.78 2.81-2.81c.8-.78.8-2.07 0-2.86zM5.41 20L4 18.59l7.72-7.72 1.47 1.35L5.41 20z\"/>\n",
              "  </svg>\n",
              "      </button>\n",
              "      \n",
              "  <style>\n",
              "    .colab-df-container {\n",
              "      display:flex;\n",
              "      flex-wrap:wrap;\n",
              "      gap: 12px;\n",
              "    }\n",
              "\n",
              "    .colab-df-convert {\n",
              "      background-color: #E8F0FE;\n",
              "      border: none;\n",
              "      border-radius: 50%;\n",
              "      cursor: pointer;\n",
              "      display: none;\n",
              "      fill: #1967D2;\n",
              "      height: 32px;\n",
              "      padding: 0 0 0 0;\n",
              "      width: 32px;\n",
              "    }\n",
              "\n",
              "    .colab-df-convert:hover {\n",
              "      background-color: #E2EBFA;\n",
              "      box-shadow: 0px 1px 2px rgba(60, 64, 67, 0.3), 0px 1px 3px 1px rgba(60, 64, 67, 0.15);\n",
              "      fill: #174EA6;\n",
              "    }\n",
              "\n",
              "    [theme=dark] .colab-df-convert {\n",
              "      background-color: #3B4455;\n",
              "      fill: #D2E3FC;\n",
              "    }\n",
              "\n",
              "    [theme=dark] .colab-df-convert:hover {\n",
              "      background-color: #434B5C;\n",
              "      box-shadow: 0px 1px 3px 1px rgba(0, 0, 0, 0.15);\n",
              "      filter: drop-shadow(0px 1px 2px rgba(0, 0, 0, 0.3));\n",
              "      fill: #FFFFFF;\n",
              "    }\n",
              "  </style>\n",
              "\n",
              "      <script>\n",
              "        const buttonEl =\n",
              "          document.querySelector('#df-ff33d3ed-3b2e-4384-9df4-819a053af4ce button.colab-df-convert');\n",
              "        buttonEl.style.display =\n",
              "          google.colab.kernel.accessAllowed ? 'block' : 'none';\n",
              "\n",
              "        async function convertToInteractive(key) {\n",
              "          const element = document.querySelector('#df-ff33d3ed-3b2e-4384-9df4-819a053af4ce');\n",
              "          const dataTable =\n",
              "            await google.colab.kernel.invokeFunction('convertToInteractive',\n",
              "                                                     [key], {});\n",
              "          if (!dataTable) return;\n",
              "\n",
              "          const docLinkHtml = 'Like what you see? Visit the ' +\n",
              "            '<a target=\"_blank\" href=https://colab.research.google.com/notebooks/data_table.ipynb>data table notebook</a>'\n",
              "            + ' to learn more about interactive tables.';\n",
              "          element.innerHTML = '';\n",
              "          dataTable['output_type'] = 'display_data';\n",
              "          await google.colab.output.renderOutput(dataTable, element);\n",
              "          const docLink = document.createElement('div');\n",
              "          docLink.innerHTML = docLinkHtml;\n",
              "          element.appendChild(docLink);\n",
              "        }\n",
              "      </script>\n",
              "    </div>\n",
              "  </div>\n",
              "  "
            ]
          },
          "metadata": {},
          "execution_count": 6
        }
      ]
    },
    {
      "cell_type": "code",
      "source": [
        "import seaborn as sns\n",
        "import matplotlib.pyplot as plt\n",
        "plt.figure(figsize=(8,6))\n",
        "plt.title('Score distribution')\n",
        "sns.histplot(df1['Score'], discrete=True);"
      ],
      "metadata": {
        "colab": {
          "base_uri": "https://localhost:8080/",
          "height": 564
        },
        "id": "56aI5pX4-oBd",
        "outputId": "c6d1c2df-f52a-49e2-92ca-5ae54168e1e4"
      },
      "execution_count": 7,
      "outputs": [
        {
          "output_type": "display_data",
          "data": {
            "text/plain": [
              "<Figure size 800x600 with 1 Axes>"
            ],
            "image/png": "[encoded data removed]"
          },
          "metadata": {}
        }
      ]
    },
    {
      "cell_type": "markdown",
      "source": [
        "## Take just 10k row data as sample, too much data takes more time to be trained"
      ],
      "metadata": {
        "id": "9HGbtLnnZ5bT"
      }
    },
    {
      "cell_type": "code",
      "source": [
        "df1 = df1.sample(n=10000, random_state=30)"
      ],
      "metadata": {
        "id": "a8IImT43Zf8D"
      },
      "execution_count": 8,
      "outputs": []
    },
    {
      "cell_type": "code",
      "source": [
        "import re\n",
        "df1['Text']=df1['Text'].apply(lambda row : re.sub('<.*?>','',row))"
      ],
      "metadata": {
        "id": "7B-fhYtPPCPH"
      },
      "execution_count": 9,
      "outputs": []
    },
    {
      "cell_type": "markdown",
      "source": [
        "We are doing sentiment analysis hence we will convert label to 0 or 1¶\n",
        "0: Negative Review\n",
        "1: Positive Review"
      ],
      "metadata": {
        "id": "4yKH0lbnTGLa"
      }
    },
    {
      "cell_type": "code",
      "source": [
        "df1.loc[df1['Score'] <=2, 'Score'] = 0\n",
        "df1.loc[df1['Score'] > 3, 'Score'] = 1"
      ],
      "metadata": {
        "id": "tzxW_qBITETr"
      },
      "execution_count": 10,
      "outputs": []
    },
    {
      "cell_type": "code",
      "source": [
        "df1.drop(df1[df1['Score']==3].index,inplace=True)"
      ],
      "metadata": {
        "id": "YM-lLc3_TNtv"
      },
      "execution_count": 11,
      "outputs": []
    },
    {
      "cell_type": "code",
      "source": [
        "df1['len'] = df1.Text.apply(lambda x: len(x.split()))"
      ],
      "metadata": {
        "id": "006269ttTOci"
      },
      "execution_count": 12,
      "outputs": []
    },
    {
      "cell_type": "code",
      "source": [
        "df1 = df1[df1.len<50]"
      ],
      "metadata": {
        "id": "7oiNXM98TT7T"
      },
      "execution_count": 13,
      "outputs": []
    },
    {
      "cell_type": "markdown",
      "source": [
        "# Train Test Split the Dataset"
      ],
      "metadata": {
        "id": "WT7Nu533BL5y"
      }
    },
    {
      "cell_type": "code",
      "source": [
        "from sklearn.model_selection import train_test_split\n",
        "\n",
        "X_train, X_test, y_train, y_test = train_test_split(df1[['Text','len']],df1.Score, test_size=0.2, random_state=42, stratify=df1.Score)"
      ],
      "metadata": {
        "id": "NEDhd9vLAuwD"
      },
      "execution_count": 14,
      "outputs": []
    },
    {
      "cell_type": "code",
      "source": [
        "X_train.shape,X_test.shape"
      ],
      "metadata": {
        "colab": {
          "base_uri": "https://localhost:8080/"
        },
        "id": "-Vvd02kzOdAW",
        "outputId": "4b020daa-3742-41d2-efd3-ffb3d07a8d76"
      },
      "execution_count": 15,
      "outputs": [
        {
          "output_type": "execute_result",
          "data": {
            "text/plain": [
              "((3321, 2), (831, 2))"
            ]
          },
          "metadata": {},
          "execution_count": 15
        }
      ]
    },
    {
      "cell_type": "markdown",
      "source": [
        "# Classification using BERT"
      ],
      "metadata": {
        "id": "uvJNcoW1Dfx5"
      }
    },
    {
      "cell_type": "code",
      "source": [
        "max_seq_length = 55\n",
        "tf.keras.backend.clear_session()\n",
        "input_word_ids = tf.keras.layers.Input(shape=(max_seq_length,), dtype=tf.int32, name=\"input_word_ids\")\n",
        "                # ids of words\n",
        "input_mask = tf.keras.layers.Input(shape=(max_seq_length,), dtype=tf.int32, name=\"input_mask\")\n",
        "                # masking of ids\n",
        "segment_ids = tf.keras.layers.Input(shape=(max_seq_length,), dtype=tf.int32, name=\"segment_ids\")\n",
        "                # segment of ids\n",
        "bert_layer = hub.KerasLayer(\"https://tfhub.dev/tensorflow/bert_en_uncased_L-12_H-768_A-12/1\", trainable=False)\n",
        "pooled_output, sequence_output = bert_layer([input_word_ids, input_mask, segment_ids])\n",
        "\n",
        "bert_model = Model(inputs=[input_word_ids, input_mask, segment_ids], outputs=pooled_output)"
      ],
      "metadata": {
        "id": "Y_pUKe_ICnMD"
      },
      "execution_count": 16,
      "outputs": []
    },
    {
      "cell_type": "code",
      "source": [
        "bert_model.summary()"
      ],
      "metadata": {
        "colab": {
          "base_uri": "https://localhost:8080/"
        },
        "id": "nrlEYqEGDed3",
        "outputId": "975c35a0-b8ff-48e9-bc34-bbde2194e4b0"
      },
      "execution_count": 17,
      "outputs": [
        {
          "output_type": "stream",
          "name": "stdout",
          "text": [
            "Model: \"model\"\n",
            "__________________________________________________________________________________________________\n",
            " Layer (type)                   Output Shape         Param #     Connected to                     \n",
            "==================================================================================================\n",
            " input_word_ids (InputLayer)    [(None, 55)]         0           []                               \n",
            "                                                                                                  \n",
            " input_mask (InputLayer)        [(None, 55)]         0           []                               \n",
            "                                                                                                  \n",
            " segment_ids (InputLayer)       [(None, 55)]         0           []                               \n",
            "                                                                                                  \n",
            " keras_layer (KerasLayer)       [(None, 768),        109482241   ['input_word_ids[0][0]',         \n",
            "                                 (None, 55, 768)]                 'input_mask[0][0]',             \n",
            "                                                                  'segment_ids[0][0]']            \n",
            "                                                                                                  \n",
            "==================================================================================================\n",
            "Total params: 109,482,241\n",
            "Trainable params: 0\n",
            "Non-trainable params: 109,482,241\n",
            "__________________________________________________________________________________________________\n"
          ]
        }
      ]
    },
    {
      "cell_type": "code",
      "source": [
        "vocab_file = bert_layer.resolved_object.vocab_file.asset_path.numpy()\n",
        "do_lower_case = bert_layer.resolved_object.do_lower_case.numpy()"
      ],
      "metadata": {
        "id": "D_rNZXZwQMpq"
      },
      "execution_count": 18,
      "outputs": []
    },
    {
      "cell_type": "code",
      "source": [
        "!wget --quiet https://raw.githubusercontent.com/tensorflow/models/master/official/nlp/bert/tokenization.py"
      ],
      "metadata": {
        "id": "f8HL0lu1QPxP"
      },
      "execution_count": 19,
      "outputs": []
    },
    {
      "cell_type": "code",
      "source": [
        "def bert_preprocess(sentence,tokenizer,max_seq_len=512):\n",
        "    tokens=[]\n",
        "    masks=[]\n",
        "    segments=[]\n",
        "    for word in sentence:\n",
        "        word=tokenizer.tokenize(word)\n",
        "        word=word[:max_seq_len-2]\n",
        "        seq=[\"[CLS]\"] + word + [\"[SEP]\"]\n",
        "        token = tokenizer.convert_tokens_to_ids(seq)\n",
        "        padding_tokens=token+[0]*(max_seq_len-len(token))\n",
        "        mask=[1]*len(seq)\n",
        "        masking=mask+[0]*(max_seq_len-len(token))\n",
        "        segment=np.zeros(max_seq_length)\n",
        "        \n",
        "        tokens.append(padding_tokens)\n",
        "        masks.append(masking)\n",
        "        segments.append(segment)\n",
        "    return np.array(tokens),np.array(masks),np.array(segments)"
      ],
      "metadata": {
        "id": "--DtNVC8QUzl"
      },
      "execution_count": 20,
      "outputs": []
    },
    {
      "cell_type": "code",
      "source": [
        "from bert import tokenization\n",
        "tokenizer =tokenization.FullTokenizer(vocab_file,do_lower_case)"
      ],
      "metadata": {
        "id": "JeDvwkvgQblH"
      },
      "execution_count": 21,
      "outputs": []
    },
    {
      "cell_type": "code",
      "source": [
        "bert_model.input"
      ],
      "metadata": {
        "colab": {
          "base_uri": "https://localhost:8080/"
        },
        "id": "QEW_ninKRUbj",
        "outputId": "08b91294-8f7b-4066-ce91-5df8183877f5"
      },
      "execution_count": 22,
      "outputs": [
        {
          "output_type": "execute_result",
          "data": {
            "text/plain": [
              "[<KerasTensor: shape=(None, 55) dtype=int32 (created by layer 'input_word_ids')>,\n",
              " <KerasTensor: shape=(None, 55) dtype=int32 (created by layer 'input_mask')>,\n",
              " <KerasTensor: shape=(None, 55) dtype=int32 (created by layer 'segment_ids')>]"
            ]
          },
          "metadata": {},
          "execution_count": 22
        }
      ]
    },
    {
      "cell_type": "code",
      "source": [
        "bert_model.output"
      ],
      "metadata": {
        "colab": {
          "base_uri": "https://localhost:8080/"
        },
        "id": "FAxfPZtrRW0i",
        "outputId": "1dc5c1cf-c2d4-4012-a038-6cd47264e515"
      },
      "execution_count": 23,
      "outputs": [
        {
          "output_type": "execute_result",
          "data": {
            "text/plain": [
              "<KerasTensor: shape=(None, 768) dtype=float32 (created by layer 'keras_layer')>"
            ]
          },
          "metadata": {},
          "execution_count": 23
        }
      ]
    },
    {
      "cell_type": "code",
      "source": [
        "import sys\n",
        "from absl import flags\n",
        "sys.argv=['preserve_unused_tokens=False']\n",
        "flags.FLAGS(sys.argv)\n",
        "\n",
        "X_train_tokens, X_train_mask, X_train_segment=bert_preprocess(X_train.Text.values,tokenizer,55)\n",
        "X_test_tokens, X_test_mask, X_test_segment=bert_preprocess(X_test.Text.values,tokenizer,55)"
      ],
      "metadata": {
        "id": "jBRDEOsuRY2L"
      },
      "execution_count": 24,
      "outputs": []
    },
    {
      "cell_type": "markdown",
      "source": [],
      "metadata": {
        "id": "PQMTafuu5HpK"
      }
    },
    {
      "cell_type": "code",
      "source": [
        "X_train_pooled_output=bert_model.predict([X_train_tokens,X_train_mask,X_train_segment])\n",
        "X_test_pooled_output=bert_model.predict([X_test_tokens,X_test_mask,X_test_segment])"
      ],
      "metadata": {
        "colab": {
          "base_uri": "https://localhost:8080/"
        },
        "id": "_npqG-tUUMv_",
        "outputId": "cc28bcf2-a105-4e47-d40d-0ffedbf4c9d5"
      },
      "execution_count": 25,
      "outputs": [
        {
          "output_type": "stream",
          "name": "stdout",
          "text": [
            "104/104 [==============================] - 707s 7s/step\n",
            "26/26 [==============================] - 170s 7s/step\n"
          ]
        }
      ]
    },
    {
      "cell_type": "code",
      "source": [
        "from tensorflow.keras.layers import Input, Dense, Activation, Dropout\n",
        "from tensorflow.keras.models import Model\n",
        "\n",
        "import datetime\n",
        "from sklearn.metrics import roc_auc_score"
      ],
      "metadata": {
        "id": "QS7ff1lXbilA"
      },
      "execution_count": 26,
      "outputs": []
    },
    {
      "cell_type": "code",
      "source": [
        "auc=[]\n",
        "val_auc=[]\n",
        "class LossHistory(tf.keras.callbacks.Callback):\n",
        "    \n",
        "    def on_train_begin(self, logs={}):\n",
        "        self.history={'val_accuracy': []}\n",
        "\n",
        "\n",
        "    def on_epoch_end(self, epoch, logs={}):\n",
        "        ## on end of each epoch, we will get logs and update the self.history dict\n",
        "        if logs.get('val_accuracy', -1) != -1:\n",
        "            self.history['val_accuracy'].append(logs.get('val_accuracy'))\n",
        "        auc_tr=(roc_auc_score(y_train,(self.model.predict(X_train_pooled_output))) )\n",
        "        auc_test=(roc_auc_score (y_test, (self.model.predict(X_test_pooled_output) ) ) )\n",
        "        print('\\n  train_auc : ',auc_tr)\n",
        "        print('  val_auc : ',auc_test)\n",
        "        auc.append(auc_tr)\n",
        "        val_auc.append(auc_test)\n",
        "        loss=logs.get('loss')"
      ],
      "metadata": {
        "id": "f08XHobCbszN"
      },
      "execution_count": 27,
      "outputs": []
    },
    {
      "cell_type": "code",
      "source": [
        "#Callbacks\n",
        "filepath=\"model1_save/weights-{epoch:02d}-{val_accuracy:.4f}.hdf5\"\n",
        "checkpoint = tf.keras.callbacks.ModelCheckpoint(filepath=filepath, monitor='val_loss',  verbose=1, save_best_only=True, mode='auto')\n",
        "\n",
        "history_own = LossHistory()\n",
        "\n",
        "earlystop = tf.keras.callbacks.EarlyStopping(monitor='val_accuracy',mode='max', patience=2, verbose=1)"
      ],
      "metadata": {
        "id": "vz61VK-XbtpU"
      },
      "execution_count": 28,
      "outputs": []
    },
    {
      "cell_type": "code",
      "source": [
        "##create an NN and \n",
        "input = Input(shape=[768,],name='input_layer')\n",
        "dense1=Dense(400, activation='relu',name='dense_1')(input)\n",
        "dense2=Dense(220, activation='relu',name='dense_2')(dense1)\n",
        "dense3=Dense(40, activation='relu',name='dense_3')(dense2)\n",
        "output=Dense(1, activation='sigmoid',name='dense_4')(dense3)\n",
        "model1 = Model(inputs=input, outputs=output)\n",
        "tf.keras.utils.plot_model(model1,\"model_1.png\",show_shapes=True)"
      ],
      "metadata": {
        "colab": {
          "base_uri": "https://localhost:8080/",
          "height": 533
        },
        "id": "T7BV1gN4bvQW",
        "outputId": "b22466af-482a-4271-ae06-e0244fc26da0"
      },
      "execution_count": 29,
      "outputs": [
        {
          "output_type": "execute_result",
          "data": {
            "image/png": "[encoded data removed]",
            "text/plain": [
              "<IPython.core.display.Image object>"
            ]
          },
          "metadata": {},
          "execution_count": 29
        }
      ]
    },
    {
      "cell_type": "code",
      "source": [
        "opt= tf.keras.optimizers.Adam(learning_rate=0.001)\n",
        "model1.compile(optimizer=opt,loss=tf.keras.losses.BinaryCrossentropy(),metrics='accuracy')"
      ],
      "metadata": {
        "id": "FLN8z0T3bxP2"
      },
      "execution_count": 30,
      "outputs": []
    },
    {
      "cell_type": "code",
      "source": [
        "X_test_pooled_output.shape"
      ],
      "metadata": {
        "colab": {
          "base_uri": "https://localhost:8080/"
        },
        "id": "29M4oI0hbzhL",
        "outputId": "8cfcdb0b-0d94-4e1d-b92b-b7827365b13c"
      },
      "execution_count": 31,
      "outputs": [
        {
          "output_type": "execute_result",
          "data": {
            "text/plain": [
              "(831, 768)"
            ]
          },
          "metadata": {},
          "execution_count": 31
        }
      ]
    },
    {
      "cell_type": "code",
      "source": [
        "!rm -rf ./logs_model1/ \n",
        "tf.keras.backend.clear_session()\n",
        "model1.fit(X_train_pooled_output,y_train,validation_data=(X_test_pooled_output,y_test),epochs=50,callbacks=[history_own])"
      ],
      "metadata": {
        "colab": {
          "base_uri": "https://localhost:8080/"
        },
        "id": "pSUgNjLFb2fI",
        "outputId": "aa12c382-a844-41b9-e8ad-e5220508e1a5"
      },
      "execution_count": 32,
      "outputs": [
        {
          "output_type": "stream",
          "name": "stdout",
          "text": [
            "Epoch 1/50\n",
            "104/104 [==============================] - 0s 2ms/step\n",
            "26/26 [==============================] - 0s 2ms/step\n",
            "\n",
            "  train_auc :  0.8300335490436137\n",
            "  val_auc :  0.7826501308800732\n",
            "104/104 [==============================] - 3s 19ms/step - loss: 0.3783 - accuracy: 0.8606 - val_loss: 0.3378 - val_accuracy: 0.8652\n",
            "Epoch 2/50\n",
            "104/104 [==============================] - 0s 2ms/step\n",
            "26/26 [==============================] - 0s 3ms/step\n",
            "\n",
            "  train_auc :  0.896988536085097\n",
            "  val_auc :  0.8602442247579354\n",
            "104/104 [==============================] - 1s 13ms/step - loss: 0.3231 - accuracy: 0.8696 - val_loss: 0.3019 - val_accuracy: 0.8664\n",
            "Epoch 3/50\n",
            "104/104 [==============================] - 0s 2ms/step\n",
            "26/26 [==============================] - 0s 2ms/step\n",
            "\n",
            "  train_auc :  0.920103986135182\n",
            "  val_auc :  0.8924623243284455\n",
            "104/104 [==============================] - 1s 13ms/step - loss: 0.2844 - accuracy: 0.8814 - val_loss: 0.2667 - val_accuracy: 0.8724\n",
            "Epoch 4/50\n",
            "104/104 [==============================] - 0s 3ms/step\n",
            "26/26 [==============================] - 0s 5ms/step\n",
            "\n",
            "  train_auc :  0.929215095479624\n",
            "  val_auc :  0.8995018933136801\n",
            "104/104 [==============================] - 1s 14ms/step - loss: 0.2816 - accuracy: 0.8856 - val_loss: 0.2743 - val_accuracy: 0.8712\n",
            "Epoch 5/50\n",
            "104/104 [==============================] - 0s 3ms/step\n",
            "26/26 [==============================] - 0s 3ms/step\n",
            "\n",
            "  train_auc :  0.9321864118423354\n",
            "  val_auc :  0.9040890492769829\n",
            "104/104 [==============================] - 2s 21ms/step - loss: 0.2528 - accuracy: 0.8976 - val_loss: 0.2812 - val_accuracy: 0.8785\n",
            "Epoch 6/50\n",
            "104/104 [==============================] - 0s 3ms/step\n",
            "26/26 [==============================] - 0s 3ms/step\n",
            "\n",
            "  train_auc :  0.9350833956084144\n",
            "  val_auc :  0.9036824315738646\n",
            "104/104 [==============================] - 2s 21ms/step - loss: 0.2373 - accuracy: 0.9003 - val_loss: 0.2427 - val_accuracy: 0.9049\n",
            "Epoch 7/50\n",
            "104/104 [==============================] - 0s 2ms/step\n",
            "26/26 [==============================] - 0s 3ms/step\n",
            "\n",
            "  train_auc :  0.9398335267835848\n",
            "  val_auc :  0.9126661414521334\n",
            "104/104 [==============================] - 1s 14ms/step - loss: 0.2202 - accuracy: 0.9082 - val_loss: 0.2346 - val_accuracy: 0.9061\n",
            "Epoch 8/50\n",
            "104/104 [==============================] - 0s 2ms/step\n",
            "26/26 [==============================] - 0s 2ms/step\n",
            "\n",
            "  train_auc :  0.9475951218736582\n",
            "  val_auc :  0.9187018729827949\n",
            "104/104 [==============================] - 1s 13ms/step - loss: 0.2279 - accuracy: 0.9030 - val_loss: 0.2248 - val_accuracy: 0.9146\n",
            "Epoch 9/50\n",
            "104/104 [==============================] - 0s 2ms/step\n",
            "26/26 [==============================] - 0s 2ms/step\n",
            "\n",
            "  train_auc :  0.9457944445327778\n",
            "  val_auc :  0.9159572034867468\n",
            "104/104 [==============================] - 1s 12ms/step - loss: 0.2374 - accuracy: 0.8958 - val_loss: 0.2256 - val_accuracy: 0.9085\n",
            "Epoch 10/50\n",
            "104/104 [==============================] - 0s 2ms/step\n",
            "26/26 [==============================] - 0s 2ms/step\n",
            "\n",
            "  train_auc :  0.9475895568664239\n",
            "  val_auc :  0.9181936008538972\n",
            "104/104 [==============================] - 1s 13ms/step - loss: 0.2256 - accuracy: 0.9064 - val_loss: 0.2264 - val_accuracy: 0.9134\n",
            "Epoch 11/50\n",
            "104/104 [==============================] - 0s 2ms/step\n",
            "26/26 [==============================] - 0s 3ms/step\n",
            "\n",
            "  train_auc :  0.9483980729174949\n",
            "  val_auc :  0.9200615009275966\n",
            "104/104 [==============================] - 1s 13ms/step - loss: 0.2195 - accuracy: 0.9079 - val_loss: 0.2263 - val_accuracy: 0.9061\n",
            "Epoch 12/50\n",
            "104/104 [==============================] - 0s 2ms/step\n",
            "26/26 [==============================] - 0s 3ms/step\n",
            "\n",
            "  train_auc :  0.9522856279713166\n",
            "  val_auc :  0.923898955500775\n",
            "104/104 [==============================] - 1s 13ms/step - loss: 0.2105 - accuracy: 0.9124 - val_loss: 0.2185 - val_accuracy: 0.9182\n",
            "Epoch 13/50\n",
            "104/104 [==============================] - 0s 2ms/step\n",
            "26/26 [==============================] - 0s 3ms/step\n",
            "\n",
            "  train_auc :  0.9532595042373555\n",
            "  val_auc :  0.9257922691809195\n",
            "104/104 [==============================] - 1s 13ms/step - loss: 0.2080 - accuracy: 0.9127 - val_loss: 0.2581 - val_accuracy: 0.8821\n",
            "Epoch 14/50\n",
            "104/104 [==============================] - 0s 3ms/step\n",
            "26/26 [==============================] - 0s 4ms/step\n",
            "\n",
            "  train_auc :  0.9533048192962652\n",
            "  val_auc :  0.9243182800071158\n",
            "104/104 [==============================] - 2s 20ms/step - loss: 0.2097 - accuracy: 0.9148 - val_loss: 0.2210 - val_accuracy: 0.9049\n",
            "Epoch 15/50\n",
            "104/104 [==============================] - 1s 7ms/step\n",
            "26/26 [==============================] - 0s 4ms/step\n",
            "\n",
            "  train_auc :  0.9526227084095209\n",
            "  val_auc :  0.9215100764949553\n",
            "104/104 [==============================] - 4s 35ms/step - loss: 0.2058 - accuracy: 0.9118 - val_loss: 0.2845 - val_accuracy: 0.8652\n",
            "Epoch 16/50\n",
            "104/104 [==============================] - 0s 4ms/step\n",
            "26/26 [==============================] - 0s 5ms/step\n",
            "\n",
            "  train_auc :  0.9537253748429875\n",
            "  val_auc :  0.9258939236066991\n",
            "104/104 [==============================] - 3s 29ms/step - loss: 0.2270 - accuracy: 0.9018 - val_loss: 0.3384 - val_accuracy: 0.8761\n",
            "Epoch 17/50\n",
            "104/104 [==============================] - 0s 4ms/step\n",
            "26/26 [==============================] - 0s 3ms/step\n",
            "\n",
            "  train_auc :  0.9546157760005088\n",
            "  val_auc :  0.9261734732775929\n",
            "104/104 [==============================] - 3s 25ms/step - loss: 0.2199 - accuracy: 0.9106 - val_loss: 0.2257 - val_accuracy: 0.9001\n",
            "Epoch 18/50\n",
            "104/104 [==============================] - 0s 2ms/step\n",
            "26/26 [==============================] - 0s 3ms/step\n",
            "\n",
            "  train_auc :  0.9537396848615903\n",
            "  val_auc :  0.9230221860784263\n",
            "104/104 [==============================] - 1s 14ms/step - loss: 0.2030 - accuracy: 0.9157 - val_loss: 0.3147 - val_accuracy: 0.8736\n",
            "Epoch 19/50\n",
            "104/104 [==============================] - 0s 2ms/step\n",
            "26/26 [==============================] - 0s 3ms/step\n",
            "\n",
            "  train_auc :  0.9558496176045026\n",
            "  val_auc :  0.927520394419172\n",
            "104/104 [==============================] - 1s 14ms/step - loss: 0.2187 - accuracy: 0.9039 - val_loss: 0.2159 - val_accuracy: 0.9206\n",
            "Epoch 20/50\n",
            "104/104 [==============================] - 0s 4ms/step\n",
            "26/26 [==============================] - 0s 3ms/step\n",
            "\n",
            "  train_auc :  0.9571454692891102\n",
            "  val_auc :  0.9280540801545148\n",
            "104/104 [==============================] - 2s 19ms/step - loss: 0.1966 - accuracy: 0.9136 - val_loss: 0.2207 - val_accuracy: 0.9158\n",
            "Epoch 21/50\n",
            "104/104 [==============================] - 0s 4ms/step\n",
            "26/26 [==============================] - 0s 4ms/step\n",
            "\n",
            "  train_auc :  0.9567384287599573\n",
            "  val_auc :  0.9280159597448474\n",
            "104/104 [==============================] - 2s 22ms/step - loss: 0.1988 - accuracy: 0.9103 - val_loss: 0.2145 - val_accuracy: 0.9206\n",
            "Epoch 22/50\n",
            "104/104 [==============================] - 0s 3ms/step\n",
            "26/26 [==============================] - 0s 3ms/step\n",
            "\n",
            "  train_auc :  0.9578864102523332\n",
            "  val_auc :  0.9298076189992122\n",
            "104/104 [==============================] - 2s 17ms/step - loss: 0.1968 - accuracy: 0.9175 - val_loss: 0.2166 - val_accuracy: 0.9206\n",
            "Epoch 23/50\n",
            "104/104 [==============================] - 0s 2ms/step\n",
            "26/26 [==============================] - 0s 3ms/step\n",
            "\n",
            "  train_auc :  0.9582624457411795\n",
            "  val_auc :  0.9287656611349718\n",
            "104/104 [==============================] - 1s 14ms/step - loss: 0.1832 - accuracy: 0.9217 - val_loss: 0.2265 - val_accuracy: 0.9206\n",
            "Epoch 24/50\n",
            "104/104 [==============================] - 0s 2ms/step\n",
            "26/26 [==============================] - 0s 3ms/step\n",
            "\n",
            "  train_auc :  0.9571033342343345\n",
            "  val_auc :  0.9299219802282143\n",
            "104/104 [==============================] - 1s 14ms/step - loss: 0.2026 - accuracy: 0.9175 - val_loss: 0.2567 - val_accuracy: 0.8773\n",
            "Epoch 25/50\n",
            "104/104 [==============================] - 0s 2ms/step\n",
            "26/26 [==============================] - 0s 3ms/step\n",
            "\n",
            "  train_auc :  0.9546984561079932\n",
            "  val_auc :  0.9249790337746829\n",
            "104/104 [==============================] - 1s 13ms/step - loss: 0.1837 - accuracy: 0.9226 - val_loss: 0.2184 - val_accuracy: 0.9218\n",
            "Epoch 26/50\n",
            "104/104 [==============================] - 0s 2ms/step\n",
            "26/26 [==============================] - 0s 3ms/step\n",
            "\n",
            "  train_auc :  0.9589040115752152\n",
            "  val_auc :  0.9297059645734327\n",
            "104/104 [==============================] - 2s 15ms/step - loss: 0.1892 - accuracy: 0.9214 - val_loss: 0.2203 - val_accuracy: 0.9218\n",
            "Epoch 27/50\n",
            "104/104 [==============================] - 0s 3ms/step\n",
            "26/26 [==============================] - 0s 3ms/step\n",
            "\n",
            "  train_auc :  0.9602380233094303\n",
            "  val_auc :  0.9318280007115809\n",
            "104/104 [==============================] - 1s 14ms/step - loss: 0.1847 - accuracy: 0.9235 - val_loss: 0.2146 - val_accuracy: 0.9206\n",
            "Epoch 28/50\n",
            "104/104 [==============================] - 0s 2ms/step\n",
            "26/26 [==============================] - 0s 3ms/step\n",
            "\n",
            "  train_auc :  0.9601267231647401\n",
            "  val_auc :  0.9314340898116852\n",
            "104/104 [==============================] - 1s 14ms/step - loss: 0.1954 - accuracy: 0.9166 - val_loss: 0.2224 - val_accuracy: 0.9206\n",
            "Epoch 29/50\n",
            "104/104 [==============================] - 0s 4ms/step\n",
            "26/26 [==============================] - 0s 4ms/step\n",
            "\n",
            "  train_auc :  0.9572710794524034\n",
            "  val_auc :  0.9264021957355968\n",
            "104/104 [==============================] - 2s 19ms/step - loss: 0.1953 - accuracy: 0.9154 - val_loss: 0.2684 - val_accuracy: 0.8977\n",
            "Epoch 30/50\n",
            "104/104 [==============================] - 0s 4ms/step\n",
            "26/26 [==============================] - 0s 4ms/step\n",
            "\n",
            "  train_auc :  0.9607189989346985\n",
            "  val_auc :  0.9325649952984828\n",
            "104/104 [==============================] - 2s 22ms/step - loss: 0.1757 - accuracy: 0.9229 - val_loss: 0.2152 - val_accuracy: 0.9206\n",
            "Epoch 31/50\n",
            "104/104 [==============================] - 0s 3ms/step\n",
            "26/26 [==============================] - 0s 3ms/step\n",
            "\n",
            "  train_auc :  0.959358752166378\n",
            "  val_auc :  0.9286894203156371\n",
            "104/104 [==============================] - 2s 16ms/step - loss: 0.1973 - accuracy: 0.9166 - val_loss: 0.2264 - val_accuracy: 0.9085\n",
            "Epoch 32/50\n",
            "104/104 [==============================] - 0s 3ms/step\n",
            "26/26 [==============================] - 0s 2ms/step\n",
            "\n",
            "  train_auc :  0.9557852225207892\n",
            "  val_auc :  0.9268977610612722\n",
            "104/104 [==============================] - 2s 15ms/step - loss: 0.1952 - accuracy: 0.9169 - val_loss: 0.2596 - val_accuracy: 0.9182\n",
            "Epoch 33/50\n",
            "104/104 [==============================] - 0s 3ms/step\n",
            "26/26 [==============================] - 0s 3ms/step\n",
            "\n",
            "  train_auc :  0.9608104240535513\n",
            "  val_auc :  0.9298838598185469\n",
            "104/104 [==============================] - 1s 14ms/step - loss: 0.1883 - accuracy: 0.9238 - val_loss: 0.2196 - val_accuracy: 0.9290\n",
            "Epoch 34/50\n",
            "104/104 [==============================] - 0s 2ms/step\n",
            "26/26 [==============================] - 0s 3ms/step\n",
            "\n",
            "  train_auc :  0.9622517609272891\n",
            "  val_auc :  0.9319169483341381\n",
            "104/104 [==============================] - 1s 14ms/step - loss: 0.1809 - accuracy: 0.9262 - val_loss: 0.2232 - val_accuracy: 0.9194\n",
            "Epoch 35/50\n",
            "104/104 [==============================] - 0s 3ms/step\n",
            "26/26 [==============================] - 0s 3ms/step\n",
            "\n",
            "  train_auc :  0.9614798149237594\n",
            "  val_auc :  0.928231975399629\n",
            "104/104 [==============================] - 2s 17ms/step - loss: 0.1968 - accuracy: 0.9154 - val_loss: 0.2287 - val_accuracy: 0.9266\n",
            "Epoch 36/50\n",
            "104/104 [==============================] - 0s 3ms/step\n",
            "26/26 [==============================] - 0s 3ms/step\n",
            "\n",
            "  train_auc :  0.9631127470465711\n",
            "  val_auc :  0.9341787593077333\n",
            "104/104 [==============================] - 2s 18ms/step - loss: 0.1811 - accuracy: 0.9226 - val_loss: 0.2143 - val_accuracy: 0.9218\n",
            "Epoch 37/50\n",
            "104/104 [==============================] - 0s 3ms/step\n",
            "26/26 [==============================] - 0s 4ms/step\n",
            "\n",
            "  train_auc :  0.9630602769783602\n",
            "  val_auc :  0.9338102620142824\n",
            "104/104 [==============================] - 2s 16ms/step - loss: 0.1753 - accuracy: 0.9271 - val_loss: 0.2143 - val_accuracy: 0.9218\n",
            "Epoch 38/50\n",
            "104/104 [==============================] - 0s 3ms/step\n",
            "26/26 [==============================] - 0s 4ms/step\n",
            "\n",
            "  train_auc :  0.9624425611753296\n",
            "  val_auc :  0.9293247604767593\n",
            "104/104 [==============================] - 2s 22ms/step - loss: 0.1868 - accuracy: 0.9226 - val_loss: 0.2272 - val_accuracy: 0.9218\n",
            "Epoch 39/50\n",
            "104/104 [==============================] - 0s 3ms/step\n",
            "26/26 [==============================] - 0s 3ms/step\n",
            "\n",
            "  train_auc :  0.9616547151511298\n",
            "  val_auc :  0.930112582276551\n",
            "104/104 [==============================] - 2s 18ms/step - loss: 0.1787 - accuracy: 0.9211 - val_loss: 0.2458 - val_accuracy: 0.9110\n",
            "Epoch 40/50\n",
            "104/104 [==============================] - 0s 2ms/step\n",
            "26/26 [==============================] - 0s 2ms/step\n",
            "\n",
            "  train_auc :  0.9636509627462517\n",
            "  val_auc :  0.9324125136598134\n",
            "104/104 [==============================] - 1s 14ms/step - loss: 0.1896 - accuracy: 0.9193 - val_loss: 0.2132 - val_accuracy: 0.9242\n",
            "Epoch 41/50\n",
            "104/104 [==============================] - 0s 2ms/step\n",
            "26/26 [==============================] - 0s 3ms/step\n",
            "\n",
            "  train_auc :  0.9614082648307442\n",
            "  val_auc :  0.9287656611349717\n",
            "104/104 [==============================] - 1s 13ms/step - loss: 0.1846 - accuracy: 0.9193 - val_loss: 0.2257 - val_accuracy: 0.9206\n",
            "Epoch 42/50\n",
            "104/104 [==============================] - 0s 2ms/step\n",
            "26/26 [==============================] - 0s 2ms/step\n",
            "\n",
            "  train_auc :  0.9638441479973925\n",
            "  val_auc :  0.9332130422628275\n",
            "104/104 [==============================] - 1s 14ms/step - loss: 0.1677 - accuracy: 0.9316 - val_loss: 0.2264 - val_accuracy: 0.9230\n",
            "Epoch 43/50\n",
            "104/104 [==============================] - 0s 2ms/step\n",
            "26/26 [==============================] - 0s 3ms/step\n",
            "\n",
            "  train_auc :  0.965104224635492\n",
            "  val_auc :  0.9337213143917252\n",
            "104/104 [==============================] - 1s 13ms/step - loss: 0.1669 - accuracy: 0.9298 - val_loss: 0.2209 - val_accuracy: 0.9242\n",
            "Epoch 44/50\n",
            "104/104 [==============================] - 0s 2ms/step\n",
            "26/26 [==============================] - 0s 2ms/step\n",
            "\n",
            "  train_auc :  0.9640715182929738\n",
            "  val_auc :  0.9340135708658416\n",
            "104/104 [==============================] - 1s 14ms/step - loss: 0.1969 - accuracy: 0.9214 - val_loss: 0.2291 - val_accuracy: 0.9025\n",
            "Epoch 45/50\n",
            "104/104 [==============================] - 0s 2ms/step\n",
            "26/26 [==============================] - 0s 3ms/step\n",
            "\n",
            "  train_auc :  0.9633405148426694\n",
            "  val_auc :  0.9360212457749879\n",
            "104/104 [==============================] - 1s 13ms/step - loss: 0.1702 - accuracy: 0.9280 - val_loss: 0.2523 - val_accuracy: 0.9073\n",
            "Epoch 46/50\n",
            "104/104 [==============================] - 0s 2ms/step\n",
            "26/26 [==============================] - 0s 2ms/step\n",
            "\n",
            "  train_auc :  0.9579162227910897\n",
            "  val_auc :  0.9328445449693766\n",
            "104/104 [==============================] - 1s 14ms/step - loss: 0.1772 - accuracy: 0.9286 - val_loss: 0.2421 - val_accuracy: 0.9230\n",
            "Epoch 47/50\n",
            "104/104 [==============================] - 0s 3ms/step\n",
            "26/26 [==============================] - 0s 3ms/step\n",
            "\n",
            "  train_auc :  0.9658260855739114\n",
            "  val_auc :  0.9364532770845511\n",
            "104/104 [==============================] - 2s 21ms/step - loss: 0.1741 - accuracy: 0.9271 - val_loss: 0.2128 - val_accuracy: 0.9194\n",
            "Epoch 48/50\n",
            "104/104 [==============================] - 0s 4ms/step\n",
            "26/26 [==============================] - 0s 3ms/step\n",
            "\n",
            "  train_auc :  0.9659485157330703\n",
            "  val_auc :  0.9343820681592924\n",
            "104/104 [==============================] - 2s 21ms/step - loss: 0.1696 - accuracy: 0.9274 - val_loss: 0.2015 - val_accuracy: 0.9302\n",
            "Epoch 49/50\n",
            "104/104 [==============================] - 0s 2ms/step\n",
            "26/26 [==============================] - 0s 2ms/step\n",
            "\n",
            "  train_auc :  0.9654572050943667\n",
            "  val_auc :  0.9343058273399578\n",
            "104/104 [==============================] - 1s 13ms/step - loss: 0.1780 - accuracy: 0.9238 - val_loss: 0.2082 - val_accuracy: 0.9158\n",
            "Epoch 50/50\n",
            "104/104 [==============================] - 0s 3ms/step\n",
            "26/26 [==============================] - 0s 2ms/step\n",
            "\n",
            "  train_auc :  0.9666751466776907\n",
            "  val_auc :  0.9341406388980661\n",
            "104/104 [==============================] - 1s 13ms/step - loss: 0.1751 - accuracy: 0.9250 - val_loss: 0.2068 - val_accuracy: 0.9254\n"
          ]
        },
        {
          "output_type": "execute_result",
          "data": {
            "text/plain": [
              "<keras.callbacks.History at 0x7fb13954a9b0>"
            ]
          },
          "metadata": {},
          "execution_count": 32
        }
      ]
    },
    {
      "cell_type": "code",
      "source": [
        "import matplotlib.pyplot as plt\n",
        "plt.rcParams.update({'font.size': 18})\n",
        "plt.figure(figsize=(12,10))\n",
        "plt.plot(np.arange(len(auc)),auc,color=\"red\")\n",
        "plt.plot(np.arange(len(auc)),val_auc,color='blue')\n",
        "plt.scatter(np.arange(len(auc)),auc,color='red')\n",
        "plt.scatter(np.arange(len(auc)),val_auc,color='blue')\n",
        "plt.xticks(np.arange(0,len(auc)+1,5),rotation=-35)\n",
        "plt.xlabel('Epochs')\n",
        "plt.ylabel('AUC Score')\n",
        "plt.legend(['Train AUC','Test AUC'])\n",
        "plt.grid()\n",
        "plt.show()"
      ],
      "metadata": {
        "colab": {
          "base_uri": "https://localhost:8080/",
          "height": 890
        },
        "id": "rpREoqO_b63O",
        "outputId": "5d11db4b-6940-4b70-a160-79da559df4b0"
      },
      "execution_count": 33,
      "outputs": [
        {
          "output_type": "display_data",
          "data": {
            "text/plain": [
              "<Figure size 1200x1000 with 1 Axes>"
            ],
            "image/png": "[encoded data removed]"
          },
          "metadata": {}
        }
      ]
    },
    {
      "cell_type": "code",
      "source": [
        "# Get predicted labels\n",
        "y_pred = model1.predict(X_test_pooled_output)\n",
        "y_pred = (y_pred > 0.5).astype(int)  # Convert probabilities to binary predictions\n",
        "\n",
        "# Generate confusion matrix\n",
        "from sklearn.metrics import confusion_matrix\n",
        "conf_matrix = confusion_matrix(y_test, y_pred)\n",
        "\n",
        "print(\"Confusion Matrix:\")\n",
        "print(conf_matrix)"
      ],
      "metadata": {
        "colab": {
          "base_uri": "https://localhost:8080/"
        },
        "id": "g3orKkhtrJIA",
        "outputId": "13d5460e-1343-455a-be25-4611ca469ea5"
      },
      "execution_count": 39,
      "outputs": [
        {
          "output_type": "stream",
          "name": "stdout",
          "text": [
            "26/26 [==============================] - 0s 6ms/step\n",
            "Confusion Matrix:\n",
            "[[ 68  41]\n",
            " [ 21 701]]\n"
          ]
        }
      ]
    }
  ]
}