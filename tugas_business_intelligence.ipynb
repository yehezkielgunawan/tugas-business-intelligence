{
  "nbformat": 4,
  "nbformat_minor": 0,
  "metadata": {
    "colab": {
      "provenance": [],
      "include_colab_link": true
    },
    "kernelspec": {
      "name": "python3",
      "display_name": "Python 3"
    },
    "language_info": {
      "name": "python"
    }
  },
  "cells": [
    {
      "cell_type": "markdown",
      "metadata": {
        "id": "view-in-github",
        "colab_type": "text"
      },
      "source": [
        "<a href=\"https://colab.research.google.com/github/yehezkielgunawan/tugas-business-intelligence/blob/main/tugas_business_intelligence.ipynb\" target=\"_parent\"><img src=\"https://colab.research.google.com/assets/colab-badge.svg\" alt=\"Open In Colab\"/></a>"
      ]
    },
    {
      "cell_type": "markdown",
      "source": [
        "# Import Dataset & Install Libraries"
      ],
      "metadata": {
        "id": "b0w95U7m55K1"
      }
    },
    {
      "cell_type": "code",
      "execution_count": null,
      "metadata": {
        "id": "RuqDJRLC3Sqw",
        "colab": {
          "base_uri": "https://localhost:8080/"
        },
        "outputId": "dd936b36-654b-4cf7-a418-468efff017d6"
      },
      "outputs": [
        {
          "output_type": "stream",
          "name": "stdout",
          "text": [
            "Looking in indexes: https://pypi.org/simple, https://us-python.pkg.dev/colab-wheels/public/simple/\n",
            "Collecting bert-tensorflow\n",
            "  Downloading bert_tensorflow-1.0.4-py2.py3-none-any.whl (64 kB)\n",
            "\u001b[2K     \u001b[90m━━━━━━━━━━━━━━━━━━━━━━━━━━━━━━━━━━━━━━━━\u001b[0m \u001b[32m64.4/64.4 kB\u001b[0m \u001b[31m2.6 MB/s\u001b[0m eta \u001b[36m0:00:00\u001b[0m\n",
            "\u001b[?25hRequirement already satisfied: six in /usr/local/lib/python3.10/dist-packages (from bert-tensorflow) (1.16.0)\n",
            "Installing collected packages: bert-tensorflow\n",
            "Successfully installed bert-tensorflow-1.0.4\n"
          ]
        }
      ],
      "source": [
        "import numpy as np\n",
        "import pandas as pd\n",
        "import tensorflow as tf\n",
        "import tensorflow_hub as hub\n",
        "from tensorflow.keras.models import Model\n",
        "import os\n",
        "import warnings\n",
        "!pip install bert-tensorflow\n",
        "warnings.filterwarnings('ignore')\n",
        "os.environ['TF_CPP_MIN_LOG_LEVEL'] = '3'\n",
        "\n",
        "# Verbosity is now 5\n",
        "\n",
        "tf.autograph.set_verbosity(0)"
      ]
    },
    {
      "cell_type": "code",
      "source": [
        "from google.colab import drive\n",
        "drive.mount('/content/gdrive')"
      ],
      "metadata": {
        "colab": {
          "base_uri": "https://localhost:8080/"
        },
        "id": "jI9uX3_X6Efr",
        "outputId": "d420e7cf-523d-4e69-a4d8-7bfd64007226"
      },
      "execution_count": null,
      "outputs": [
        {
          "output_type": "stream",
          "name": "stdout",
          "text": [
            "Mounted at /content/gdrive\n"
          ]
        }
      ]
    },
    {
      "cell_type": "code",
      "source": [
        "df1 = pd.read_csv('/content/gdrive/My Drive/Tugas Business Intelligence/Reviews.csv')\n",
        "df1.head(5)\n",
        "df1.head(5).to_json()"
      ],
      "metadata": {
        "colab": {
          "base_uri": "https://localhost:8080/",
          "height": 143
        },
        "id": "Gv7FdChB7q5g",
        "outputId": "4aa7147d-f14b-42fa-8324-3b51d75b4dd4"
      },
      "execution_count": null,
      "outputs": [
        {
          "output_type": "execute_result",
          "data": {
            "text/plain": [
              "'{\"Id\":{\"0\":1,\"1\":2,\"2\":3,\"3\":4,\"4\":5},\"ProductId\":{\"0\":\"B001E4KFG0\",\"1\":\"B00813GRG4\",\"2\":\"B000LQOCH0\",\"3\":\"B000UA0QIQ\",\"4\":\"B006K2ZZ7K\"},\"UserId\":{\"0\":\"A3SGXH7AUHU8GW\",\"1\":\"A1D87F6ZCVE5NK\",\"2\":\"ABXLMWJIXXAIN\",\"3\":\"A395BORC6FGVXV\",\"4\":\"A1UQRSCLF8GW1T\"},\"ProfileName\":{\"0\":\"delmartian\",\"1\":\"dll pa\",\"2\":\"Natalia Corres \\\\\"Natalia Corres\\\\\"\",\"3\":\"Karl\",\"4\":\"Michael D. Bigham \\\\\"M. Wassir\\\\\"\"},\"HelpfulnessNumerator\":{\"0\":1,\"1\":0,\"2\":1,\"3\":3,\"4\":0},\"HelpfulnessDenominator\":{\"0\":1,\"1\":0,\"2\":1,\"3\":3,\"4\":0},\"Score\":{\"0\":5,\"1\":1,\"2\":4,\"3\":2,\"4\":5},\"Time\":{\"0\":1303862400,\"1\":1346976000,\"2\":1219017600,\"3\":1307923200,\"4\":1350777600},\"Summary\":{\"0\":\"Good Quality Dog Food\",\"1\":\"Not as Advertised\",\"2\":\"\\\\\"Delight\\\\\" says it all\",\"3\":\"Cough Medicine\",\"4\":\"Great taffy\"},\"Text\":{\"0\":\"I have bought several of the Vitality canned dog food products and have found them all to be of good quality. The product looks more like a stew than a processed meat and it smells better. My Labrador is finicky and she appreciates this product better than  most.\",\"1\":\"Product arrived labeled as Jumbo Salted Peanuts...the peanuts were actually small sized unsalted. Not sure if this was an error or if the vendor intended to represent the product as \\\\\"Jumbo\\\\\".\",\"2\":\"This is a confection that has been around a few centuries.  It is a light, pillowy citrus gelatin with nuts - in this case Filberts. And it is cut into tiny squares and then liberally coated with powdered sugar.  And it is a tiny mouthful of heaven.  Not too chewy, and very flavorful.  I highly recommend this yummy treat.  If you are familiar with the story of C.S. Lewis\\' \\\\\"The Lion, The Witch, and The Wardrobe\\\\\" - this is the treat that seduces Edmund into selling out his Brother and Sisters to the Witch.\",\"3\":\"If you are looking for the secret ingredient in Robitussin I believe I have found it.  I got this in addition to the Root Beer Extract I ordered (which was good) and made some cherry soda.  The flavor is very medicinal.\",\"4\":\"Great taffy at a great price.  There was a wide assortment of yummy taffy.  Delivery was very quick.  If your a taffy lover, this is a deal.\"}}'"
            ],
            "application/vnd.google.colaboratory.intrinsic+json": {
              "type": "string"
            }
          },
          "metadata": {},
          "execution_count": 3
        }
      ]
    },
    {
      "cell_type": "markdown",
      "source": [
        "# Preprocessing Data"
      ],
      "metadata": {
        "id": "uZCOqF9G-cpF"
      }
    },
    {
      "cell_type": "code",
      "source": [
        "df1.describe()"
      ],
      "metadata": {
        "colab": {
          "base_uri": "https://localhost:8080/",
          "height": 300
        },
        "id": "YMqyMDRy9mSV",
        "outputId": "25388f8e-cf5f-476e-8d10-2401be7d59ba"
      },
      "execution_count": null,
      "outputs": [
        {
          "output_type": "execute_result",
          "data": {
            "text/plain": [
              "                  Id  HelpfulnessNumerator  HelpfulnessDenominator  \\\n",
              "count  568454.000000         568454.000000            568454.00000   \n",
              "mean   284227.500000              1.743817                 2.22881   \n",
              "std    164098.679298              7.636513                 8.28974   \n",
              "min         1.000000              0.000000                 0.00000   \n",
              "25%    142114.250000              0.000000                 0.00000   \n",
              "50%    284227.500000              0.000000                 1.00000   \n",
              "75%    426340.750000              2.000000                 2.00000   \n",
              "max    568454.000000            866.000000               923.00000   \n",
              "\n",
              "               Score          Time  \n",
              "count  568454.000000  5.684540e+05  \n",
              "mean        4.183199  1.296257e+09  \n",
              "std         1.310436  4.804331e+07  \n",
              "min         1.000000  9.393408e+08  \n",
              "25%         4.000000  1.271290e+09  \n",
              "50%         5.000000  1.311120e+09  \n",
              "75%         5.000000  1.332720e+09  \n",
              "max         5.000000  1.351210e+09  "
            ],
            "text/html": [
              "\n",
              "  <div id=\"df-6bfcf72e-b50f-45aa-9f37-920c271d71fe\">\n",
              "    <div class=\"colab-df-container\">\n",
              "      <div>\n",
              "<style scoped>\n",
              "    .dataframe tbody tr th:only-of-type {\n",
              "        vertical-align: middle;\n",
              "    }\n",
              "\n",
              "    .dataframe tbody tr th {\n",
              "        vertical-align: top;\n",
              "    }\n",
              "\n",
              "    .dataframe thead th {\n",
              "        text-align: right;\n",
              "    }\n",
              "</style>\n",
              "<table border=\"1\" class=\"dataframe\">\n",
              "  <thead>\n",
              "    <tr style=\"text-align: right;\">\n",
              "      <th></th>\n",
              "      <th>Id</th>\n",
              "      <th>HelpfulnessNumerator</th>\n",
              "      <th>HelpfulnessDenominator</th>\n",
              "      <th>Score</th>\n",
              "      <th>Time</th>\n",
              "    </tr>\n",
              "  </thead>\n",
              "  <tbody>\n",
              "    <tr>\n",
              "      <th>count</th>\n",
              "      <td>568454.000000</td>\n",
              "      <td>568454.000000</td>\n",
              "      <td>568454.00000</td>\n",
              "      <td>568454.000000</td>\n",
              "      <td>5.684540e+05</td>\n",
              "    </tr>\n",
              "    <tr>\n",
              "      <th>mean</th>\n",
              "      <td>284227.500000</td>\n",
              "      <td>1.743817</td>\n",
              "      <td>2.22881</td>\n",
              "      <td>4.183199</td>\n",
              "      <td>1.296257e+09</td>\n",
              "    </tr>\n",
              "    <tr>\n",
              "      <th>std</th>\n",
              "      <td>164098.679298</td>\n",
              "      <td>7.636513</td>\n",
              "      <td>8.28974</td>\n",
              "      <td>1.310436</td>\n",
              "      <td>4.804331e+07</td>\n",
              "    </tr>\n",
              "    <tr>\n",
              "      <th>min</th>\n",
              "      <td>1.000000</td>\n",
              "      <td>0.000000</td>\n",
              "      <td>0.00000</td>\n",
              "      <td>1.000000</td>\n",
              "      <td>9.393408e+08</td>\n",
              "    </tr>\n",
              "    <tr>\n",
              "      <th>25%</th>\n",
              "      <td>142114.250000</td>\n",
              "      <td>0.000000</td>\n",
              "      <td>0.00000</td>\n",
              "      <td>4.000000</td>\n",
              "      <td>1.271290e+09</td>\n",
              "    </tr>\n",
              "    <tr>\n",
              "      <th>50%</th>\n",
              "      <td>284227.500000</td>\n",
              "      <td>0.000000</td>\n",
              "      <td>1.00000</td>\n",
              "      <td>5.000000</td>\n",
              "      <td>1.311120e+09</td>\n",
              "    </tr>\n",
              "    <tr>\n",
              "      <th>75%</th>\n",
              "      <td>426340.750000</td>\n",
              "      <td>2.000000</td>\n",
              "      <td>2.00000</td>\n",
              "      <td>5.000000</td>\n",
              "      <td>1.332720e+09</td>\n",
              "    </tr>\n",
              "    <tr>\n",
              "      <th>max</th>\n",
              "      <td>568454.000000</td>\n",
              "      <td>866.000000</td>\n",
              "      <td>923.00000</td>\n",
              "      <td>5.000000</td>\n",
              "      <td>1.351210e+09</td>\n",
              "    </tr>\n",
              "  </tbody>\n",
              "</table>\n",
              "</div>\n",
              "      <button class=\"colab-df-convert\" onclick=\"convertToInteractive('df-6bfcf72e-b50f-45aa-9f37-920c271d71fe')\"\n",
              "              title=\"Convert this dataframe to an interactive table.\"\n",
              "              style=\"display:none;\">\n",
              "        \n",
              "  <svg xmlns=\"http://www.w3.org/2000/svg\" height=\"24px\"viewBox=\"0 0 24 24\"\n",
              "       width=\"24px\">\n",
              "    <path d=\"M0 0h24v24H0V0z\" fill=\"none\"/>\n",
              "    <path d=\"M18.56 5.44l.94 2.06.94-2.06 2.06-.94-2.06-.94-.94-2.06-.94 2.06-2.06.94zm-11 1L8.5 8.5l.94-2.06 2.06-.94-2.06-.94L8.5 2.5l-.94 2.06-2.06.94zm10 10l.94 2.06.94-2.06 2.06-.94-2.06-.94-.94-2.06-.94 2.06-2.06.94z\"/><path d=\"M17.41 7.96l-1.37-1.37c-.4-.4-.92-.59-1.43-.59-.52 0-1.04.2-1.43.59L10.3 9.45l-7.72 7.72c-.78.78-.78 2.05 0 2.83L4 21.41c.39.39.9.59 1.41.59.51 0 1.02-.2 1.41-.59l7.78-7.78 2.81-2.81c.8-.78.8-2.07 0-2.86zM5.41 20L4 18.59l7.72-7.72 1.47 1.35L5.41 20z\"/>\n",
              "  </svg>\n",
              "      </button>\n",
              "      \n",
              "  <style>\n",
              "    .colab-df-container {\n",
              "      display:flex;\n",
              "      flex-wrap:wrap;\n",
              "      gap: 12px;\n",
              "    }\n",
              "\n",
              "    .colab-df-convert {\n",
              "      background-color: #E8F0FE;\n",
              "      border: none;\n",
              "      border-radius: 50%;\n",
              "      cursor: pointer;\n",
              "      display: none;\n",
              "      fill: #1967D2;\n",
              "      height: 32px;\n",
              "      padding: 0 0 0 0;\n",
              "      width: 32px;\n",
              "    }\n",
              "\n",
              "    .colab-df-convert:hover {\n",
              "      background-color: #E2EBFA;\n",
              "      box-shadow: 0px 1px 2px rgba(60, 64, 67, 0.3), 0px 1px 3px 1px rgba(60, 64, 67, 0.15);\n",
              "      fill: #174EA6;\n",
              "    }\n",
              "\n",
              "    [theme=dark] .colab-df-convert {\n",
              "      background-color: #3B4455;\n",
              "      fill: #D2E3FC;\n",
              "    }\n",
              "\n",
              "    [theme=dark] .colab-df-convert:hover {\n",
              "      background-color: #434B5C;\n",
              "      box-shadow: 0px 1px 3px 1px rgba(0, 0, 0, 0.15);\n",
              "      filter: drop-shadow(0px 1px 2px rgba(0, 0, 0, 0.3));\n",
              "      fill: #FFFFFF;\n",
              "    }\n",
              "  </style>\n",
              "\n",
              "      <script>\n",
              "        const buttonEl =\n",
              "          document.querySelector('#df-6bfcf72e-b50f-45aa-9f37-920c271d71fe button.colab-df-convert');\n",
              "        buttonEl.style.display =\n",
              "          google.colab.kernel.accessAllowed ? 'block' : 'none';\n",
              "\n",
              "        async function convertToInteractive(key) {\n",
              "          const element = document.querySelector('#df-6bfcf72e-b50f-45aa-9f37-920c271d71fe');\n",
              "          const dataTable =\n",
              "            await google.colab.kernel.invokeFunction('convertToInteractive',\n",
              "                                                     [key], {});\n",
              "          if (!dataTable) return;\n",
              "\n",
              "          const docLinkHtml = 'Like what you see? Visit the ' +\n",
              "            '<a target=\"_blank\" href=https://colab.research.google.com/notebooks/data_table.ipynb>data table notebook</a>'\n",
              "            + ' to learn more about interactive tables.';\n",
              "          element.innerHTML = '';\n",
              "          dataTable['output_type'] = 'display_data';\n",
              "          await google.colab.output.renderOutput(dataTable, element);\n",
              "          const docLink = document.createElement('div');\n",
              "          docLink.innerHTML = docLinkHtml;\n",
              "          element.appendChild(docLink);\n",
              "        }\n",
              "      </script>\n",
              "    </div>\n",
              "  </div>\n",
              "  "
            ]
          },
          "metadata": {},
          "execution_count": 4
        }
      ]
    },
    {
      "cell_type": "code",
      "source": [
        "df1.info()"
      ],
      "metadata": {
        "colab": {
          "base_uri": "https://localhost:8080/"
        },
        "id": "Yn-T4hmO9vs1",
        "outputId": "43655530-2cc9-4ece-b6e3-6fe384ed2d6d"
      },
      "execution_count": null,
      "outputs": [
        {
          "output_type": "stream",
          "name": "stdout",
          "text": [
            "<class 'pandas.core.frame.DataFrame'>\n",
            "RangeIndex: 568454 entries, 0 to 568453\n",
            "Data columns (total 10 columns):\n",
            " #   Column                  Non-Null Count   Dtype \n",
            "---  ------                  --------------   ----- \n",
            " 0   Id                      568454 non-null  int64 \n",
            " 1   ProductId               568454 non-null  object\n",
            " 2   UserId                  568454 non-null  object\n",
            " 3   ProfileName             568438 non-null  object\n",
            " 4   HelpfulnessNumerator    568454 non-null  int64 \n",
            " 5   HelpfulnessDenominator  568454 non-null  int64 \n",
            " 6   Score                   568454 non-null  int64 \n",
            " 7   Time                    568454 non-null  int64 \n",
            " 8   Summary                 568427 non-null  object\n",
            " 9   Text                    568454 non-null  object\n",
            "dtypes: int64(5), object(5)\n",
            "memory usage: 43.4+ MB\n"
          ]
        }
      ]
    },
    {
      "cell_type": "markdown",
      "source": [
        "## We only use Text, and Score column for classification purpose"
      ],
      "metadata": {
        "id": "ePaZdaWkAHfK"
      }
    },
    {
      "cell_type": "code",
      "source": [
        "all_cols = df1.columns\n",
        "keep_cols = ['Score', 'Text']\n",
        "df1.drop([c for c in all_cols if c not in keep_cols], axis=1, inplace=True)\n",
        "df1.head(10)"
      ],
      "metadata": {
        "colab": {
          "base_uri": "https://localhost:8080/",
          "height": 363
        },
        "id": "ffiH55Jv9zdX",
        "outputId": "18d353c3-2ede-441c-b6d4-e32518c0e40f"
      },
      "execution_count": null,
      "outputs": [
        {
          "output_type": "execute_result",
          "data": {
            "text/plain": [
              "   Score                                               Text\n",
              "0      5  I have bought several of the Vitality canned d...\n",
              "1      1  Product arrived labeled as Jumbo Salted Peanut...\n",
              "2      4  This is a confection that has been around a fe...\n",
              "3      2  If you are looking for the secret ingredient i...\n",
              "4      5  Great taffy at a great price.  There was a wid...\n",
              "5      4  I got a wild hair for taffy and ordered this f...\n",
              "6      5  This saltwater taffy had great flavors and was...\n",
              "7      5  This taffy is so good.  It is very soft and ch...\n",
              "8      5  Right now I'm mostly just sprouting this so my...\n",
              "9      5  This is a very healthy dog food. Good for thei..."
            ],
            "text/html": [
              "\n",
              "  <div id=\"df-72bf98c1-eb4a-45cd-95a5-62c6daf7c71e\">\n",
              "    <div class=\"colab-df-container\">\n",
              "      <div>\n",
              "<style scoped>\n",
              "    .dataframe tbody tr th:only-of-type {\n",
              "        vertical-align: middle;\n",
              "    }\n",
              "\n",
              "    .dataframe tbody tr th {\n",
              "        vertical-align: top;\n",
              "    }\n",
              "\n",
              "    .dataframe thead th {\n",
              "        text-align: right;\n",
              "    }\n",
              "</style>\n",
              "<table border=\"1\" class=\"dataframe\">\n",
              "  <thead>\n",
              "    <tr style=\"text-align: right;\">\n",
              "      <th></th>\n",
              "      <th>Score</th>\n",
              "      <th>Text</th>\n",
              "    </tr>\n",
              "  </thead>\n",
              "  <tbody>\n",
              "    <tr>\n",
              "      <th>0</th>\n",
              "      <td>5</td>\n",
              "      <td>I have bought several of the Vitality canned d...</td>\n",
              "    </tr>\n",
              "    <tr>\n",
              "      <th>1</th>\n",
              "      <td>1</td>\n",
              "      <td>Product arrived labeled as Jumbo Salted Peanut...</td>\n",
              "    </tr>\n",
              "    <tr>\n",
              "      <th>2</th>\n",
              "      <td>4</td>\n",
              "      <td>This is a confection that has been around a fe...</td>\n",
              "    </tr>\n",
              "    <tr>\n",
              "      <th>3</th>\n",
              "      <td>2</td>\n",
              "      <td>If you are looking for the secret ingredient i...</td>\n",
              "    </tr>\n",
              "    <tr>\n",
              "      <th>4</th>\n",
              "      <td>5</td>\n",
              "      <td>Great taffy at a great price.  There was a wid...</td>\n",
              "    </tr>\n",
              "    <tr>\n",
              "      <th>5</th>\n",
              "      <td>4</td>\n",
              "      <td>I got a wild hair for taffy and ordered this f...</td>\n",
              "    </tr>\n",
              "    <tr>\n",
              "      <th>6</th>\n",
              "      <td>5</td>\n",
              "      <td>This saltwater taffy had great flavors and was...</td>\n",
              "    </tr>\n",
              "    <tr>\n",
              "      <th>7</th>\n",
              "      <td>5</td>\n",
              "      <td>This taffy is so good.  It is very soft and ch...</td>\n",
              "    </tr>\n",
              "    <tr>\n",
              "      <th>8</th>\n",
              "      <td>5</td>\n",
              "      <td>Right now I'm mostly just sprouting this so my...</td>\n",
              "    </tr>\n",
              "    <tr>\n",
              "      <th>9</th>\n",
              "      <td>5</td>\n",
              "      <td>This is a very healthy dog food. Good for thei...</td>\n",
              "    </tr>\n",
              "  </tbody>\n",
              "</table>\n",
              "</div>\n",
              "      <button class=\"colab-df-convert\" onclick=\"convertToInteractive('df-72bf98c1-eb4a-45cd-95a5-62c6daf7c71e')\"\n",
              "              title=\"Convert this dataframe to an interactive table.\"\n",
              "              style=\"display:none;\">\n",
              "        \n",
              "  <svg xmlns=\"http://www.w3.org/2000/svg\" height=\"24px\"viewBox=\"0 0 24 24\"\n",
              "       width=\"24px\">\n",
              "    <path d=\"M0 0h24v24H0V0z\" fill=\"none\"/>\n",
              "    <path d=\"M18.56 5.44l.94 2.06.94-2.06 2.06-.94-2.06-.94-.94-2.06-.94 2.06-2.06.94zm-11 1L8.5 8.5l.94-2.06 2.06-.94-2.06-.94L8.5 2.5l-.94 2.06-2.06.94zm10 10l.94 2.06.94-2.06 2.06-.94-2.06-.94-.94-2.06-.94 2.06-2.06.94z\"/><path d=\"M17.41 7.96l-1.37-1.37c-.4-.4-.92-.59-1.43-.59-.52 0-1.04.2-1.43.59L10.3 9.45l-7.72 7.72c-.78.78-.78 2.05 0 2.83L4 21.41c.39.39.9.59 1.41.59.51 0 1.02-.2 1.41-.59l7.78-7.78 2.81-2.81c.8-.78.8-2.07 0-2.86zM5.41 20L4 18.59l7.72-7.72 1.47 1.35L5.41 20z\"/>\n",
              "  </svg>\n",
              "      </button>\n",
              "      \n",
              "  <style>\n",
              "    .colab-df-container {\n",
              "      display:flex;\n",
              "      flex-wrap:wrap;\n",
              "      gap: 12px;\n",
              "    }\n",
              "\n",
              "    .colab-df-convert {\n",
              "      background-color: #E8F0FE;\n",
              "      border: none;\n",
              "      border-radius: 50%;\n",
              "      cursor: pointer;\n",
              "      display: none;\n",
              "      fill: #1967D2;\n",
              "      height: 32px;\n",
              "      padding: 0 0 0 0;\n",
              "      width: 32px;\n",
              "    }\n",
              "\n",
              "    .colab-df-convert:hover {\n",
              "      background-color: #E2EBFA;\n",
              "      box-shadow: 0px 1px 2px rgba(60, 64, 67, 0.3), 0px 1px 3px 1px rgba(60, 64, 67, 0.15);\n",
              "      fill: #174EA6;\n",
              "    }\n",
              "\n",
              "    [theme=dark] .colab-df-convert {\n",
              "      background-color: #3B4455;\n",
              "      fill: #D2E3FC;\n",
              "    }\n",
              "\n",
              "    [theme=dark] .colab-df-convert:hover {\n",
              "      background-color: #434B5C;\n",
              "      box-shadow: 0px 1px 3px 1px rgba(0, 0, 0, 0.15);\n",
              "      filter: drop-shadow(0px 1px 2px rgba(0, 0, 0, 0.3));\n",
              "      fill: #FFFFFF;\n",
              "    }\n",
              "  </style>\n",
              "\n",
              "      <script>\n",
              "        const buttonEl =\n",
              "          document.querySelector('#df-72bf98c1-eb4a-45cd-95a5-62c6daf7c71e button.colab-df-convert');\n",
              "        buttonEl.style.display =\n",
              "          google.colab.kernel.accessAllowed ? 'block' : 'none';\n",
              "\n",
              "        async function convertToInteractive(key) {\n",
              "          const element = document.querySelector('#df-72bf98c1-eb4a-45cd-95a5-62c6daf7c71e');\n",
              "          const dataTable =\n",
              "            await google.colab.kernel.invokeFunction('convertToInteractive',\n",
              "                                                     [key], {});\n",
              "          if (!dataTable) return;\n",
              "\n",
              "          const docLinkHtml = 'Like what you see? Visit the ' +\n",
              "            '<a target=\"_blank\" href=https://colab.research.google.com/notebooks/data_table.ipynb>data table notebook</a>'\n",
              "            + ' to learn more about interactive tables.';\n",
              "          element.innerHTML = '';\n",
              "          dataTable['output_type'] = 'display_data';\n",
              "          await google.colab.output.renderOutput(dataTable, element);\n",
              "          const docLink = document.createElement('div');\n",
              "          docLink.innerHTML = docLinkHtml;\n",
              "          element.appendChild(docLink);\n",
              "        }\n",
              "      </script>\n",
              "    </div>\n",
              "  </div>\n",
              "  "
            ]
          },
          "metadata": {},
          "execution_count": 6
        }
      ]
    },
    {
      "cell_type": "code",
      "source": [
        "import seaborn as sns\n",
        "import matplotlib.pyplot as plt\n",
        "plt.figure(figsize=(8,6))\n",
        "plt.title('Score distribution')\n",
        "sns.histplot(df1['Score'], discrete=True);"
      ],
      "metadata": {
        "colab": {
          "base_uri": "https://localhost:8080/",
          "height": 564
        },
        "id": "56aI5pX4-oBd",
        "outputId": "9912f9fc-9b58-406b-bec0-d0eb0d4c055a"
      },
      "execution_count": null,
      "outputs": [
        {
          "output_type": "display_data",
          "data": {
            "text/plain": [
              "<Figure size 800x600 with 1 Axes>"
            ],
            "image/png": "[encoded data removed]"
          },
          "metadata": {}
        }
      ]
    },
    {
      "cell_type": "markdown",
      "source": [
        "## Take just 10k row data as sample, too much data takes more time to be trained"
      ],
      "metadata": {
        "id": "9HGbtLnnZ5bT"
      }
    },
    {
      "cell_type": "code",
      "source": [
        "df1 = df1.sample(n=10000, random_state=30)"
      ],
      "metadata": {
        "id": "a8IImT43Zf8D"
      },
      "execution_count": null,
      "outputs": []
    },
    {
      "cell_type": "code",
      "source": [
        "import re\n",
        "df1['Text']=df1['Text'].apply(lambda row : re.sub('<.*?>','',row))"
      ],
      "metadata": {
        "id": "7B-fhYtPPCPH"
      },
      "execution_count": null,
      "outputs": []
    },
    {
      "cell_type": "markdown",
      "source": [
        "We are doing sentiment analysis hence we will convert label to 0 or 1¶\n",
        "0: Negative Review\n",
        "1: Positive Review"
      ],
      "metadata": {
        "id": "4yKH0lbnTGLa"
      }
    },
    {
      "cell_type": "code",
      "source": [
        "df1.loc[df1['Score'] <=2, 'Score'] = 0\n",
        "df1.loc[df1['Score'] > 3, 'Score'] = 1"
      ],
      "metadata": {
        "id": "tzxW_qBITETr"
      },
      "execution_count": null,
      "outputs": []
    },
    {
      "cell_type": "code",
      "source": [
        "df1.drop(df1[df1['Score']==3].index,inplace=True)"
      ],
      "metadata": {
        "id": "YM-lLc3_TNtv"
      },
      "execution_count": null,
      "outputs": []
    },
    {
      "cell_type": "code",
      "source": [
        "df1['len'] = df1.Text.apply(lambda x: len(x.split()))"
      ],
      "metadata": {
        "id": "006269ttTOci"
      },
      "execution_count": null,
      "outputs": []
    },
    {
      "cell_type": "code",
      "source": [
        "df1 = df1[df1.len<50]"
      ],
      "metadata": {
        "id": "7oiNXM98TT7T"
      },
      "execution_count": null,
      "outputs": []
    },
    {
      "cell_type": "markdown",
      "source": [
        "# Train Test Split the Dataset"
      ],
      "metadata": {
        "id": "WT7Nu533BL5y"
      }
    },
    {
      "cell_type": "code",
      "source": [
        "from sklearn.model_selection import train_test_split\n",
        "\n",
        "X_train, X_test, y_train, y_test = train_test_split(df1[['Text','len']],df1.Score, test_size=0.2, random_state=42, stratify=df1.Score)"
      ],
      "metadata": {
        "id": "NEDhd9vLAuwD"
      },
      "execution_count": null,
      "outputs": []
    },
    {
      "cell_type": "code",
      "source": [
        "X_train.shape,X_test.shape"
      ],
      "metadata": {
        "colab": {
          "base_uri": "https://localhost:8080/"
        },
        "id": "-Vvd02kzOdAW",
        "outputId": "e66a325b-f0b7-49ac-a5c0-dcd524dcfa6a"
      },
      "execution_count": null,
      "outputs": [
        {
          "output_type": "execute_result",
          "data": {
            "text/plain": [
              "((3321, 2), (831, 2))"
            ]
          },
          "metadata": {},
          "execution_count": 15
        }
      ]
    },
    {
      "cell_type": "markdown",
      "source": [
        "# Classification using BERT"
      ],
      "metadata": {
        "id": "uvJNcoW1Dfx5"
      }
    },
    {
      "cell_type": "code",
      "source": [
        "max_seq_length = 55\n",
        "tf.keras.backend.clear_session()\n",
        "input_word_ids = tf.keras.layers.Input(shape=(max_seq_length,), dtype=tf.int32, name=\"input_word_ids\")\n",
        "                # ids of words\n",
        "input_mask = tf.keras.layers.Input(shape=(max_seq_length,), dtype=tf.int32, name=\"input_mask\")\n",
        "                # masking of ids\n",
        "segment_ids = tf.keras.layers.Input(shape=(max_seq_length,), dtype=tf.int32, name=\"segment_ids\")\n",
        "                # segment of ids\n",
        "bert_layer = hub.KerasLayer(\"https://tfhub.dev/tensorflow/bert_en_uncased_L-12_H-768_A-12/1\", trainable=False)\n",
        "pooled_output, sequence_output = bert_layer([input_word_ids, input_mask, segment_ids])\n",
        "\n",
        "bert_model = Model(inputs=[input_word_ids, input_mask, segment_ids], outputs=pooled_output)"
      ],
      "metadata": {
        "id": "Y_pUKe_ICnMD"
      },
      "execution_count": null,
      "outputs": []
    },
    {
      "cell_type": "code",
      "source": [
        "bert_model.summary()"
      ],
      "metadata": {
        "colab": {
          "base_uri": "https://localhost:8080/"
        },
        "id": "nrlEYqEGDed3",
        "outputId": "2f997e27-1320-4e4f-fe53-5905de50171e"
      },
      "execution_count": null,
      "outputs": [
        {
          "output_type": "stream",
          "name": "stdout",
          "text": [
            "Model: \"model\"\n",
            "__________________________________________________________________________________________________\n",
            " Layer (type)                   Output Shape         Param #     Connected to                     \n",
            "==================================================================================================\n",
            " input_word_ids (InputLayer)    [(None, 55)]         0           []                               \n",
            "                                                                                                  \n",
            " input_mask (InputLayer)        [(None, 55)]         0           []                               \n",
            "                                                                                                  \n",
            " segment_ids (InputLayer)       [(None, 55)]         0           []                               \n",
            "                                                                                                  \n",
            " keras_layer (KerasLayer)       [(None, 768),        109482241   ['input_word_ids[0][0]',         \n",
            "                                 (None, 55, 768)]                 'input_mask[0][0]',             \n",
            "                                                                  'segment_ids[0][0]']            \n",
            "                                                                                                  \n",
            "==================================================================================================\n",
            "Total params: 109,482,241\n",
            "Trainable params: 0\n",
            "Non-trainable params: 109,482,241\n",
            "__________________________________________________________________________________________________\n"
          ]
        }
      ]
    },
    {
      "cell_type": "code",
      "source": [
        "vocab_file = bert_layer.resolved_object.vocab_file.asset_path.numpy()\n",
        "do_lower_case = bert_layer.resolved_object.do_lower_case.numpy()"
      ],
      "metadata": {
        "id": "D_rNZXZwQMpq"
      },
      "execution_count": null,
      "outputs": []
    },
    {
      "cell_type": "code",
      "source": [
        "!wget --quiet https://raw.githubusercontent.com/tensorflow/models/master/official/nlp/bert/tokenization.py"
      ],
      "metadata": {
        "id": "f8HL0lu1QPxP"
      },
      "execution_count": null,
      "outputs": []
    },
    {
      "cell_type": "code",
      "source": [
        "def bert_preprocess(sentence,tokenizer,max_seq_len=512):\n",
        "    tokens=[]\n",
        "    masks=[]\n",
        "    segments=[]\n",
        "    for word in sentence:\n",
        "        word=tokenizer.tokenize(word)\n",
        "        word=word[:max_seq_len-2]\n",
        "        seq=[\"[CLS]\"] + word + [\"[SEP]\"]\n",
        "        token = tokenizer.convert_tokens_to_ids(seq)\n",
        "        padding_tokens=token+[0]*(max_seq_len-len(token))\n",
        "        mask=[1]*len(seq)\n",
        "        masking=mask+[0]*(max_seq_len-len(token))\n",
        "        segment=np.zeros(max_seq_length)\n",
        "        \n",
        "        tokens.append(padding_tokens)\n",
        "        masks.append(masking)\n",
        "        segments.append(segment)\n",
        "    return np.array(tokens),np.array(masks),np.array(segments)"
      ],
      "metadata": {
        "id": "--DtNVC8QUzl"
      },
      "execution_count": null,
      "outputs": []
    },
    {
      "cell_type": "code",
      "source": [
        "from bert import tokenization\n",
        "tokenizer =tokenization.FullTokenizer(vocab_file,do_lower_case)"
      ],
      "metadata": {
        "id": "JeDvwkvgQblH"
      },
      "execution_count": null,
      "outputs": []
    },
    {
      "cell_type": "code",
      "source": [
        "bert_model.input"
      ],
      "metadata": {
        "colab": {
          "base_uri": "https://localhost:8080/"
        },
        "id": "QEW_ninKRUbj",
        "outputId": "bd2b3deb-7765-42d8-b4c0-99af3ef8c922"
      },
      "execution_count": null,
      "outputs": [
        {
          "output_type": "execute_result",
          "data": {
            "text/plain": [
              "[<KerasTensor: shape=(None, 55) dtype=int32 (created by layer 'input_word_ids')>,\n",
              " <KerasTensor: shape=(None, 55) dtype=int32 (created by layer 'input_mask')>,\n",
              " <KerasTensor: shape=(None, 55) dtype=int32 (created by layer 'segment_ids')>]"
            ]
          },
          "metadata": {},
          "execution_count": 22
        }
      ]
    },
    {
      "cell_type": "code",
      "source": [
        "bert_model.output"
      ],
      "metadata": {
        "colab": {
          "base_uri": "https://localhost:8080/"
        },
        "id": "FAxfPZtrRW0i",
        "outputId": "f903dd49-9dfa-466b-de17-84f8b1f87db7"
      },
      "execution_count": null,
      "outputs": [
        {
          "output_type": "execute_result",
          "data": {
            "text/plain": [
              "<KerasTensor: shape=(None, 768) dtype=float32 (created by layer 'keras_layer')>"
            ]
          },
          "metadata": {},
          "execution_count": 23
        }
      ]
    },
    {
      "cell_type": "code",
      "source": [
        "import sys\n",
        "from absl import flags\n",
        "sys.argv=['preserve_unused_tokens=False']\n",
        "flags.FLAGS(sys.argv)\n",
        "\n",
        "X_train_tokens, X_train_mask, X_train_segment=bert_preprocess(X_train.Text.values,tokenizer,55)\n",
        "X_test_tokens, X_test_mask, X_test_segment=bert_preprocess(X_test.Text.values,tokenizer,55)"
      ],
      "metadata": {
        "id": "jBRDEOsuRY2L"
      },
      "execution_count": null,
      "outputs": []
    },
    {
      "cell_type": "markdown",
      "source": [],
      "metadata": {
        "id": "PQMTafuu5HpK"
      }
    },
    {
      "cell_type": "code",
      "source": [
        "X_train_pooled_output=bert_model.predict([X_train_tokens,X_train_mask,X_train_segment])\n",
        "X_test_pooled_output=bert_model.predict([X_test_tokens,X_test_mask,X_test_segment])"
      ],
      "metadata": {
        "colab": {
          "base_uri": "https://localhost:8080/"
        },
        "id": "_npqG-tUUMv_",
        "outputId": "39df06e8-8fb8-4e25-a214-9b34c6797241"
      },
      "execution_count": null,
      "outputs": [
        {
          "output_type": "stream",
          "name": "stdout",
          "text": [
            "104/104 [==============================] - 739s 7s/step\n",
            "26/26 [==============================] - 177s 7s/step\n"
          ]
        }
      ]
    },
    {
      "cell_type": "code",
      "source": [
        "from tensorflow.keras.layers import Input, Dense, Activation, Dropout\n",
        "from tensorflow.keras.models import Model\n",
        "\n",
        "import datetime\n",
        "from sklearn.metrics import roc_auc_score"
      ],
      "metadata": {
        "id": "QS7ff1lXbilA"
      },
      "execution_count": null,
      "outputs": []
    },
    {
      "cell_type": "code",
      "source": [
        "auc=[]\n",
        "val_auc=[]\n",
        "class LossHistory(tf.keras.callbacks.Callback):\n",
        "    \n",
        "    def on_train_begin(self, logs={}):\n",
        "        self.history={'val_accuracy': []}\n",
        "\n",
        "\n",
        "    def on_epoch_end(self, epoch, logs={}):\n",
        "        ## on end of each epoch, we will get logs and update the self.history dict\n",
        "        if logs.get('val_accuracy', -1) != -1:\n",
        "            self.history['val_accuracy'].append(logs.get('val_accuracy'))\n",
        "        auc_tr=(roc_auc_score(y_train,(self.model.predict(X_train_pooled_output))) )\n",
        "        auc_test=(roc_auc_score (y_test, (self.model.predict(X_test_pooled_output) ) ) )\n",
        "        print('\\n  train_auc : ',auc_tr)\n",
        "        print('  val_auc : ',auc_test)\n",
        "        auc.append(auc_tr)\n",
        "        val_auc.append(auc_test)\n",
        "        loss=logs.get('loss')"
      ],
      "metadata": {
        "id": "f08XHobCbszN"
      },
      "execution_count": null,
      "outputs": []
    },
    {
      "cell_type": "code",
      "source": [
        "#Callbacks\n",
        "filepath=\"model1_save/weights-{epoch:02d}-{val_accuracy:.4f}.hdf5\"\n",
        "checkpoint = tf.keras.callbacks.ModelCheckpoint(filepath=filepath, monitor='val_loss',  verbose=1, save_best_only=True, mode='auto')\n",
        "\n",
        "history_own = LossHistory()\n",
        "\n",
        "earlystop = tf.keras.callbacks.EarlyStopping(monitor='val_accuracy',mode='max', patience=2, verbose=1)"
      ],
      "metadata": {
        "id": "vz61VK-XbtpU"
      },
      "execution_count": null,
      "outputs": []
    },
    {
      "cell_type": "code",
      "source": [
        "##create an NN and \n",
        "input = Input(shape=[768,],name='input_layer')\n",
        "dense1=Dense(400, activation='relu',name='dense_1')(input)\n",
        "dense2=Dense(220, activation='relu',name='dense_2')(dense1)\n",
        "dense3=Dense(40, activation='relu',name='dense_3')(dense2)\n",
        "output=Dense(1, activation='sigmoid',name='dense_4')(dense3)\n",
        "model1 = Model(inputs=input, outputs=output)\n",
        "tf.keras.utils.plot_model(model1,\"model_1.png\",show_shapes=True)"
      ],
      "metadata": {
        "colab": {
          "base_uri": "https://localhost:8080/",
          "height": 533
        },
        "id": "T7BV1gN4bvQW",
        "outputId": "15a5eee5-5694-4eea-96f6-86968ac5747b"
      },
      "execution_count": null,
      "outputs": [
        {
          "output_type": "execute_result",
          "data": {
            "image/png": "[encoded data removed]",
            "text/plain": [
              "<IPython.core.display.Image object>"
            ]
          },
          "metadata": {},
          "execution_count": 29
        }
      ]
    },
    {
      "cell_type": "code",
      "source": [
        "opt= tf.keras.optimizers.Adam(learning_rate=0.001)\n",
        "model1.compile(optimizer=opt,loss=tf.keras.losses.BinaryCrossentropy(),metrics='accuracy')"
      ],
      "metadata": {
        "id": "FLN8z0T3bxP2"
      },
      "execution_count": null,
      "outputs": []
    },
    {
      "cell_type": "code",
      "source": [
        "X_test_pooled_output.shape"
      ],
      "metadata": {
        "colab": {
          "base_uri": "https://localhost:8080/"
        },
        "id": "29M4oI0hbzhL",
        "outputId": "3de28fc0-e4f4-4b41-bd8c-9c87719c5ede"
      },
      "execution_count": null,
      "outputs": [
        {
          "output_type": "execute_result",
          "data": {
            "text/plain": [
              "(831, 768)"
            ]
          },
          "metadata": {},
          "execution_count": 31
        }
      ]
    },
    {
      "cell_type": "code",
      "source": [
        "!rm -rf ./logs_model1/ \n",
        "tf.keras.backend.clear_session()\n",
        "model1.fit(X_train_pooled_output,y_train,validation_data=(X_test_pooled_output,y_test),epochs=50,callbacks=[history_own])"
      ],
      "metadata": {
        "colab": {
          "base_uri": "https://localhost:8080/"
        },
        "id": "pSUgNjLFb2fI",
        "outputId": "d694d467-df51-4c96-8cb2-8638d6537614"
      },
      "execution_count": null,
      "outputs": [
        {
          "output_type": "stream",
          "name": "stdout",
          "text": [
            "Epoch 1/50\n",
            "104/104 [==============================] - 0s 3ms/step\n",
            "26/26 [==============================] - 0s 3ms/step\n",
            "\n",
            "  train_auc :  0.8065007234509405\n",
            "  val_auc :  0.7579099850059721\n",
            "104/104 [==============================] - 3s 19ms/step - loss: 0.3906 - accuracy: 0.8636 - val_loss: 0.3612 - val_accuracy: 0.8688\n",
            "Epoch 2/50\n",
            "104/104 [==============================] - 0s 3ms/step\n",
            "26/26 [==============================] - 0s 3ms/step\n",
            "\n",
            "  train_auc :  0.8591250218625284\n",
            "  val_auc :  0.8144806729522986\n",
            "104/104 [==============================] - 2s 16ms/step - loss: 0.3419 - accuracy: 0.8675 - val_loss: 0.3240 - val_accuracy: 0.8688\n",
            "Epoch 3/50\n",
            "104/104 [==============================] - 0s 3ms/step\n",
            "26/26 [==============================] - 0s 3ms/step\n",
            "\n",
            "  train_auc :  0.8960273798355938\n",
            "  val_auc :  0.8622074258558032\n",
            "104/104 [==============================] - 1s 14ms/step - loss: 0.3157 - accuracy: 0.8729 - val_loss: 0.2923 - val_accuracy: 0.8664\n",
            "Epoch 4/50\n",
            "104/104 [==============================] - 1s 5ms/step\n",
            "26/26 [==============================] - 0s 5ms/step\n",
            "\n",
            "  train_auc :  0.9183589588666464\n",
            "  val_auc :  0.8816488347861446\n",
            "104/104 [==============================] - 2s 22ms/step - loss: 0.2876 - accuracy: 0.8780 - val_loss: 0.2757 - val_accuracy: 0.8821\n",
            "Epoch 5/50\n",
            "104/104 [==============================] - 0s 4ms/step\n",
            "26/26 [==============================] - 0s 3ms/step\n",
            "\n",
            "  train_auc :  0.9271802903343775\n",
            "  val_auc :  0.8998449770006861\n",
            "104/104 [==============================] - 2s 23ms/step - loss: 0.2687 - accuracy: 0.8835 - val_loss: 0.2894 - val_accuracy: 0.8785\n",
            "Epoch 6/50\n",
            "104/104 [==============================] - 0s 3ms/step\n",
            "26/26 [==============================] - 0s 3ms/step\n",
            "\n",
            "  train_auc :  0.9366837326888525\n",
            "  val_auc :  0.9090955297466262\n",
            "104/104 [==============================] - 2s 18ms/step - loss: 0.2435 - accuracy: 0.9003 - val_loss: 0.2428 - val_accuracy: 0.8965\n",
            "Epoch 7/50\n",
            "104/104 [==============================] - 0s 3ms/step\n",
            "26/26 [==============================] - 0s 3ms/step\n",
            "\n",
            "  train_auc :  0.9348568203138664\n",
            "  val_auc :  0.9021830287936161\n",
            "104/104 [==============================] - 2s 18ms/step - loss: 0.2505 - accuracy: 0.8949 - val_loss: 0.2697 - val_accuracy: 0.8724\n",
            "Epoch 8/50\n",
            "104/104 [==============================] - 0s 4ms/step\n",
            "26/26 [==============================] - 0s 4ms/step\n",
            "\n",
            "  train_auc :  0.9408280730764951\n",
            "  val_auc :  0.9131617067778088\n",
            "104/104 [==============================] - 2s 17ms/step - loss: 0.2435 - accuracy: 0.9015 - val_loss: 0.2325 - val_accuracy: 0.9073\n",
            "Epoch 9/50\n",
            "104/104 [==============================] - 0s 4ms/step\n",
            "26/26 [==============================] - 0s 4ms/step\n",
            "\n",
            "  train_auc :  0.9424184726440145\n",
            "  val_auc :  0.9174057790541056\n",
            "104/104 [==============================] - 2s 19ms/step - loss: 0.2375 - accuracy: 0.8988 - val_loss: 0.2510 - val_accuracy: 0.9061\n",
            "Epoch 10/50\n",
            "104/104 [==============================] - 1s 5ms/step\n",
            "26/26 [==============================] - 0s 6ms/step\n",
            "\n",
            "  train_auc :  0.9425413003036904\n",
            "  val_auc :  0.9115860631782257\n",
            "104/104 [==============================] - 3s 28ms/step - loss: 0.2274 - accuracy: 0.9015 - val_loss: 0.2354 - val_accuracy: 0.9073\n",
            "Epoch 11/50\n",
            "104/104 [==============================] - 0s 4ms/step\n",
            "26/26 [==============================] - 0s 5ms/step\n",
            "\n",
            "  train_auc :  0.9457038144149589\n",
            "  val_auc :  0.9221200030496328\n",
            "104/104 [==============================] - 3s 30ms/step - loss: 0.2111 - accuracy: 0.9076 - val_loss: 0.2440 - val_accuracy: 0.9061\n",
            "Epoch 12/50\n",
            "104/104 [==============================] - 0s 4ms/step\n",
            "26/26 [==============================] - 0s 3ms/step\n",
            "\n",
            "  train_auc :  0.9470966562256531\n",
            "  val_auc :  0.9165417164349792\n",
            "104/104 [==============================] - 2s 23ms/step - loss: 0.2230 - accuracy: 0.9097 - val_loss: 0.3552 - val_accuracy: 0.8123\n",
            "Epoch 13/50\n",
            "104/104 [==============================] - 0s 3ms/step\n",
            "26/26 [==============================] - 0s 3ms/step\n",
            "\n",
            "  train_auc :  0.9490555387722004\n",
            "  val_auc :  0.9222851914915245\n",
            "104/104 [==============================] - 2s 19ms/step - loss: 0.2262 - accuracy: 0.9021 - val_loss: 0.2242 - val_accuracy: 0.9122\n",
            "Epoch 14/50\n",
            "104/104 [==============================] - 0s 3ms/step\n",
            "26/26 [==============================] - 0s 3ms/step\n",
            "\n",
            "  train_auc :  0.9490054537070898\n",
            "  val_auc :  0.9211415792015044\n",
            "104/104 [==============================] - 2s 18ms/step - loss: 0.2179 - accuracy: 0.9109 - val_loss: 0.3012 - val_accuracy: 0.8785\n",
            "Epoch 15/50\n",
            "104/104 [==============================] - 0s 3ms/step\n",
            "26/26 [==============================] - 0s 3ms/step\n",
            "\n",
            "  train_auc :  0.950572400744121\n",
            "  val_auc :  0.920925563546723\n",
            "104/104 [==============================] - 2s 17ms/step - loss: 0.2280 - accuracy: 0.9061 - val_loss: 0.2224 - val_accuracy: 0.9158\n",
            "Epoch 16/50\n",
            "104/104 [==============================] - 0s 3ms/step\n",
            "26/26 [==============================] - 0s 3ms/step\n",
            "\n",
            "  train_auc :  0.9516758621786209\n",
            "  val_auc :  0.9219802282141859\n",
            "104/104 [==============================] - 2s 17ms/step - loss: 0.2172 - accuracy: 0.9094 - val_loss: 0.2405 - val_accuracy: 0.9025\n",
            "Epoch 17/50\n",
            "104/104 [==============================] - 0s 3ms/step\n",
            "26/26 [==============================] - 0s 3ms/step\n",
            "\n",
            "  train_auc :  0.9515073219595185\n",
            "  val_auc :  0.9210907519886147\n",
            "104/104 [==============================] - 2s 15ms/step - loss: 0.1966 - accuracy: 0.9163 - val_loss: 0.3049 - val_accuracy: 0.8460\n",
            "Epoch 18/50\n",
            "104/104 [==============================] - 0s 5ms/step\n",
            "26/26 [==============================] - 0s 4ms/step\n",
            "\n",
            "  train_auc :  0.9534956195443053\n",
            "  val_auc :  0.9259955780324787\n",
            "104/104 [==============================] - 2s 22ms/step - loss: 0.2059 - accuracy: 0.9124 - val_loss: 0.2209 - val_accuracy: 0.9170\n",
            "Epoch 19/50\n",
            "104/104 [==============================] - 1s 5ms/step\n",
            "26/26 [==============================] - 0s 5ms/step\n",
            "\n",
            "  train_auc :  0.9538947100631231\n",
            "  val_auc :  0.9256524943454725\n",
            "104/104 [==============================] - 2s 23ms/step - loss: 0.1901 - accuracy: 0.9190 - val_loss: 0.2328 - val_accuracy: 0.9158\n",
            "Epoch 20/50\n",
            "104/104 [==============================] - 0s 3ms/step\n",
            "26/26 [==============================] - 0s 3ms/step\n",
            "\n",
            "  train_auc :  0.9548809088451813\n",
            "  val_auc :  0.9250171541843504\n",
            "104/104 [==============================] - 2s 17ms/step - loss: 0.1935 - accuracy: 0.9139 - val_loss: 0.2211 - val_accuracy: 0.9158\n",
            "Epoch 21/50\n",
            "104/104 [==============================] - 0s 3ms/step\n",
            "26/26 [==============================] - 0s 3ms/step\n",
            "\n",
            "  train_auc :  0.9551690967198257\n",
            "  val_auc :  0.9255254263132481\n",
            "104/104 [==============================] - 2s 18ms/step - loss: 0.1926 - accuracy: 0.9181 - val_loss: 0.2184 - val_accuracy: 0.9206\n",
            "Epoch 22/50\n",
            "104/104 [==============================] - 0s 3ms/step\n",
            "26/26 [==============================] - 0s 3ms/step\n",
            "\n",
            "  train_auc :  0.9561230979600274\n",
            "  val_auc :  0.9267706930290478\n",
            "104/104 [==============================] - 2s 16ms/step - loss: 0.1875 - accuracy: 0.9199 - val_loss: 0.2398 - val_accuracy: 0.9158\n",
            "Epoch 23/50\n",
            "104/104 [==============================] - 0s 3ms/step\n",
            "26/26 [==============================] - 0s 3ms/step\n",
            "\n",
            "  train_auc :  0.9558027125435262\n",
            "  val_auc :  0.9248265521360136\n",
            "104/104 [==============================] - 2s 15ms/step - loss: 0.1926 - accuracy: 0.9199 - val_loss: 0.2205 - val_accuracy: 0.9242\n",
            "Epoch 24/50\n",
            "104/104 [==============================] - 0s 3ms/step\n",
            "26/26 [==============================] - 0s 3ms/step\n",
            "\n",
            "  train_auc :  0.9565627335315535\n",
            "  val_auc :  0.9261480596711479\n",
            "104/104 [==============================] - 2s 16ms/step - loss: 0.1894 - accuracy: 0.9247 - val_loss: 0.2232 - val_accuracy: 0.9097\n",
            "Epoch 25/50\n",
            "104/104 [==============================] - 0s 3ms/step\n",
            "26/26 [==============================] - 0s 3ms/step\n",
            "\n",
            "  train_auc :  0.9571287742674066\n",
            "  val_auc :  0.928409870644743\n",
            "104/104 [==============================] - 2s 16ms/step - loss: 0.1979 - accuracy: 0.9130 - val_loss: 0.2486 - val_accuracy: 0.9146\n",
            "Epoch 26/50\n",
            "104/104 [==============================] - 0s 4ms/step\n",
            "26/26 [==============================] - 0s 5ms/step\n",
            "\n",
            "  train_auc :  0.9575572798244637\n",
            "  val_auc :  0.9279905461384025\n",
            "104/104 [==============================] - 2s 23ms/step - loss: 0.2072 - accuracy: 0.9142 - val_loss: 0.2157 - val_accuracy: 0.9158\n",
            "Epoch 27/50\n",
            "104/104 [==============================] - 0s 4ms/step\n",
            "26/26 [==============================] - 0s 4ms/step\n",
            "\n",
            "  train_auc :  0.9572830044679058\n",
            "  val_auc :  0.9282573890060738\n",
            "104/104 [==============================] - 2s 22ms/step - loss: 0.1918 - accuracy: 0.9235 - val_loss: 0.2538 - val_accuracy: 0.9134\n",
            "Epoch 28/50\n",
            "104/104 [==============================] - 0s 3ms/step\n",
            "26/26 [==============================] - 0s 3ms/step\n",
            "\n",
            "  train_auc :  0.9580128154166601\n",
            "  val_auc :  0.9305573203893364\n",
            "104/104 [==============================] - 2s 16ms/step - loss: 0.1782 - accuracy: 0.9259 - val_loss: 0.2272 - val_accuracy: 0.9230\n",
            "Epoch 29/50\n",
            "104/104 [==============================] - 0s 3ms/step\n",
            "26/26 [==============================] - 0s 3ms/step\n",
            "\n",
            "  train_auc :  0.9590431367560779\n",
            "  val_auc :  0.9294772421154287\n",
            "104/104 [==============================] - 2s 15ms/step - loss: 0.1816 - accuracy: 0.9220 - val_loss: 0.2187 - val_accuracy: 0.9242\n",
            "Epoch 30/50\n",
            "104/104 [==============================] - 0s 3ms/step\n",
            "26/26 [==============================] - 0s 3ms/step\n",
            "\n",
            "  train_auc :  0.9588046364460274\n",
            "  val_auc :  0.9284225774479657\n",
            "104/104 [==============================] - 2s 15ms/step - loss: 0.2016 - accuracy: 0.9157 - val_loss: 0.2141 - val_accuracy: 0.9230\n",
            "Epoch 31/50\n",
            "104/104 [==============================] - 0s 3ms/step\n",
            "26/26 [==============================] - 0s 3ms/step\n",
            "\n",
            "  train_auc :  0.9582696007504811\n",
            "  val_auc :  0.9290833312155328\n",
            "104/104 [==============================] - 2s 15ms/step - loss: 0.1868 - accuracy: 0.9181 - val_loss: 0.2971 - val_accuracy: 0.9013\n",
            "Epoch 32/50\n",
            "104/104 [==============================] - 0s 3ms/step\n",
            "26/26 [==============================] - 0s 3ms/step\n",
            "\n",
            "  train_auc :  0.9596525050482566\n",
            "  val_auc :  0.928943556380086\n",
            "104/104 [==============================] - 2s 17ms/step - loss: 0.2043 - accuracy: 0.9151 - val_loss: 0.2197 - val_accuracy: 0.9158\n",
            "Epoch 33/50\n",
            "104/104 [==============================] - 0s 3ms/step\n",
            "26/26 [==============================] - 0s 3ms/step\n",
            "\n",
            "  train_auc :  0.9605679487383334\n",
            "  val_auc :  0.9302396503087753\n",
            "104/104 [==============================] - 2s 16ms/step - loss: 0.1826 - accuracy: 0.9184 - val_loss: 0.2176 - val_accuracy: 0.9218\n",
            "Epoch 34/50\n",
            "104/104 [==============================] - 0s 4ms/step\n",
            "26/26 [==============================] - 0s 5ms/step\n",
            "\n",
            "  train_auc :  0.9606482438427171\n",
            "  val_auc :  0.9296551373605428\n",
            "104/104 [==============================] - 2s 21ms/step - loss: 0.1776 - accuracy: 0.9247 - val_loss: 0.2367 - val_accuracy: 0.9001\n",
            "Epoch 35/50\n",
            "104/104 [==============================] - 0s 4ms/step\n",
            "26/26 [==============================] - 0s 4ms/step\n",
            "\n",
            "  train_auc :  0.9611570445041578\n",
            "  val_auc :  0.9302777707184426\n",
            "104/104 [==============================] - 2s 22ms/step - loss: 0.1761 - accuracy: 0.9283 - val_loss: 0.2245 - val_accuracy: 0.9146\n",
            "Epoch 36/50\n",
            "104/104 [==============================] - 0s 3ms/step\n",
            "26/26 [==============================] - 0s 3ms/step\n",
            "\n",
            "  train_auc :  0.960718203933665\n",
            "  val_auc :  0.928803781544639\n",
            "104/104 [==============================] - 2s 19ms/step - loss: 0.1733 - accuracy: 0.9241 - val_loss: 0.2196 - val_accuracy: 0.9266\n",
            "Epoch 37/50\n",
            "104/104 [==============================] - 0s 3ms/step\n",
            "26/26 [==============================] - 0s 3ms/step\n",
            "\n",
            "  train_auc :  0.9609185441941073\n",
            "  val_auc :  0.9321837912018094\n",
            "104/104 [==============================] - 2s 18ms/step - loss: 0.1857 - accuracy: 0.9244 - val_loss: 0.3021 - val_accuracy: 0.9001\n",
            "Epoch 38/50\n",
            "104/104 [==============================] - 0s 3ms/step\n",
            "26/26 [==============================] - 0s 3ms/step\n",
            "\n",
            "  train_auc :  0.9605496637145627\n",
            "  val_auc :  0.931141833337569\n",
            "104/104 [==============================] - 2s 15ms/step - loss: 0.1775 - accuracy: 0.9244 - val_loss: 0.2343 - val_accuracy: 0.9230\n",
            "Epoch 39/50\n",
            "104/104 [==============================] - 0s 3ms/step\n",
            "26/26 [==============================] - 0s 3ms/step\n",
            "\n",
            "  train_auc :  0.9466776906809978\n",
            "  val_auc :  0.9233398561589876\n",
            "104/104 [==============================] - 2s 17ms/step - loss: 0.1917 - accuracy: 0.9202 - val_loss: 0.2278 - val_accuracy: 0.9266\n",
            "Epoch 40/50\n",
            "104/104 [==============================] - 0s 3ms/step\n",
            "26/26 [==============================] - 0s 3ms/step\n",
            "\n",
            "  train_auc :  0.962170670821872\n",
            "  val_auc :  0.9312434877633485\n",
            "104/104 [==============================] - 2s 18ms/step - loss: 0.1809 - accuracy: 0.9232 - val_loss: 0.2226 - val_accuracy: 0.9049\n",
            "Epoch 41/50\n",
            "104/104 [==============================] - 0s 4ms/step\n",
            "26/26 [==============================] - 0s 5ms/step\n",
            "\n",
            "  train_auc :  0.9603850985006281\n",
            "  val_auc :  0.9296805509669878\n",
            "104/104 [==============================] - 2s 18ms/step - loss: 0.1979 - accuracy: 0.9178 - val_loss: 0.2574 - val_accuracy: 0.9110\n",
            "Epoch 42/50\n",
            "104/104 [==============================] - 0s 4ms/step\n",
            "26/26 [==============================] - 0s 5ms/step\n",
            "\n",
            "  train_auc :  0.9625300112890147\n",
            "  val_auc :  0.9311545401407914\n",
            "104/104 [==============================] - 2s 22ms/step - loss: 0.1759 - accuracy: 0.9313 - val_loss: 0.2159 - val_accuracy: 0.9170\n",
            "Epoch 43/50\n",
            "104/104 [==============================] - 0s 3ms/step\n",
            "26/26 [==============================] - 0s 3ms/step\n",
            "\n",
            "  train_auc :  0.9595662474361216\n",
            "  val_auc :  0.9292231060509798\n",
            "104/104 [==============================] - 2s 19ms/step - loss: 0.2070 - accuracy: 0.9121 - val_loss: 0.3203 - val_accuracy: 0.8857\n",
            "Epoch 44/50\n",
            "104/104 [==============================] - 0s 3ms/step\n",
            "26/26 [==============================] - 0s 3ms/step\n",
            "\n",
            "  train_auc :  0.962462436201167\n",
            "  val_auc :  0.9313959694020179\n",
            "104/104 [==============================] - 2s 18ms/step - loss: 0.1832 - accuracy: 0.9226 - val_loss: 0.2301 - val_accuracy: 0.9013\n",
            "Epoch 45/50\n",
            "104/104 [==============================] - 0s 3ms/step\n",
            "26/26 [==============================] - 0s 3ms/step\n",
            "\n",
            "  train_auc :  0.9597192851350707\n",
            "  val_auc :  0.9289943835929756\n",
            "104/104 [==============================] - 2s 16ms/step - loss: 0.1974 - accuracy: 0.9181 - val_loss: 0.2881 - val_accuracy: 0.8809\n",
            "Epoch 46/50\n",
            "104/104 [==============================] - 0s 3ms/step\n",
            "26/26 [==============================] - 0s 3ms/step\n",
            "\n",
            "  train_auc :  0.9625284212869476\n",
            "  val_auc :  0.9304556659635569\n",
            "104/104 [==============================] - 2s 16ms/step - loss: 0.1863 - accuracy: 0.9205 - val_loss: 0.2175 - val_accuracy: 0.9194\n",
            "Epoch 47/50\n",
            "104/104 [==============================] - 0s 3ms/step\n",
            "26/26 [==============================] - 0s 3ms/step\n",
            "\n",
            "  train_auc :  0.9636128026966435\n",
            "  val_auc :  0.9333528170982743\n",
            "104/104 [==============================] - 2s 15ms/step - loss: 0.1701 - accuracy: 0.9283 - val_loss: 0.2296 - val_accuracy: 0.9073\n",
            "Epoch 48/50\n",
            "104/104 [==============================] - 0s 3ms/step\n",
            "26/26 [==============================] - 0s 3ms/step\n",
            "\n",
            "  train_auc :  0.9653602149682795\n",
            "  val_auc :  0.9323489796437013\n",
            "104/104 [==============================] - 2s 18ms/step - loss: 0.1677 - accuracy: 0.9280 - val_loss: 0.2139 - val_accuracy: 0.9242\n",
            "Epoch 49/50\n",
            "104/104 [==============================] - 0s 4ms/step\n",
            "26/26 [==============================] - 0s 5ms/step\n",
            "\n",
            "  train_auc :  0.9648967293657481\n",
            "  val_auc :  0.9321964980050318\n",
            "104/104 [==============================] - 2s 20ms/step - loss: 0.1687 - accuracy: 0.9277 - val_loss: 0.2122 - val_accuracy: 0.9266\n",
            "Epoch 50/50\n",
            "104/104 [==============================] - 0s 4ms/step\n",
            "26/26 [==============================] - 0s 5ms/step\n",
            "\n",
            "  train_auc :  0.9646447140381282\n",
            "  val_auc :  0.933111387837048\n",
            "104/104 [==============================] - 2s 24ms/step - loss: 0.1787 - accuracy: 0.9223 - val_loss: 0.2091 - val_accuracy: 0.9182\n"
          ]
        },
        {
          "output_type": "execute_result",
          "data": {
            "text/plain": [
              "<keras.callbacks.History at 0x7fa8fd5b9a20>"
            ]
          },
          "metadata": {},
          "execution_count": 32
        }
      ]
    },
    {
      "cell_type": "code",
      "source": [
        "import matplotlib.pyplot as plt\n",
        "plt.rcParams.update({'font.size': 18})\n",
        "plt.figure(figsize=(12,10))\n",
        "plt.plot(np.arange(len(auc)),auc,color=\"red\")\n",
        "plt.plot(np.arange(len(auc)),val_auc,color='blue')\n",
        "plt.scatter(np.arange(len(auc)),auc,color='red')\n",
        "plt.scatter(np.arange(len(auc)),val_auc,color='blue')\n",
        "plt.xticks(np.arange(0,len(auc)+1,5),rotation=-35)\n",
        "plt.xlabel('Epochs')\n",
        "plt.ylabel('AUC Score')\n",
        "plt.legend(['Train AUC','Test AUC'])\n",
        "plt.grid()\n",
        "plt.show()"
      ],
      "metadata": {
        "colab": {
          "base_uri": "https://localhost:8080/",
          "height": 884
        },
        "id": "rpREoqO_b63O",
        "outputId": "bfe042a7-5fc7-4aec-dafd-244f9cf3b613"
      },
      "execution_count": null,
      "outputs": [
        {
          "output_type": "display_data",
          "data": {
            "text/plain": [
              "<Figure size 1200x1000 with 1 Axes>"
            ],
            "image/png": "[encoded data removed]"
          },
          "metadata": {}
        }
      ]
    },
    {
      "cell_type": "code",
      "source": [
        "# Get predicted labels for test data\n",
        "y_pred = model1.predict(X_test_pooled_output)\n",
        "y_pred = (y_pred > 0.5).astype(int)  # Convert probabilities to binary predictions\n",
        "\n",
        "# Generate confusion matrix\n",
        "from sklearn.metrics import confusion_matrix\n",
        "conf_matrix = confusion_matrix(y_test, y_pred)\n",
        "\n",
        "print(\"Confusion Matrix:\")\n",
        "print(conf_matrix)"
      ],
      "metadata": {
        "colab": {
          "base_uri": "https://localhost:8080/"
        },
        "id": "g3orKkhtrJIA",
        "outputId": "aa3092c6-1397-4024-c880-4c542fe4d076"
      },
      "execution_count": null,
      "outputs": [
        {
          "output_type": "stream",
          "name": "stdout",
          "text": [
            "26/26 [==============================] - 0s 3ms/step\n",
            "Confusion Matrix:\n",
            "[[ 67  42]\n",
            " [ 26 696]]\n"
          ]
        }
      ]
    },
    {
      "cell_type": "code",
      "source": [
        "import matplotlib.pyplot as plt\n",
        "import seaborn as sns\n",
        "\n",
        "# Generate confusion matrix\n",
        "conf_matrix = confusion_matrix(y_test, y_pred)\n",
        "\n",
        "# Create labels for the confusion matrix\n",
        "labels = ['Negative', 'Positive']\n",
        "\n",
        "# Plot confusion matrix as a heatmap\n",
        "plt.figure(figsize=(8, 6))\n",
        "sns.heatmap(conf_matrix, annot=True, fmt=\"d\", cmap=\"Blues\", xticklabels=labels, yticklabels=labels)\n",
        "plt.title(\"Confusion Matrix\")\n",
        "plt.xlabel(\"Predicted\")\n",
        "plt.ylabel(\"Actual\")\n",
        "plt.show()\n"
      ],
      "metadata": {
        "colab": {
          "base_uri": "https://localhost:8080/",
          "height": 593
        },
        "id": "4ooYgtJ_Ccjb",
        "outputId": "ed948a18-20c1-441c-926f-4e40ca1b07d8"
      },
      "execution_count": null,
      "outputs": [
        {
          "output_type": "display_data",
          "data": {
            "text/plain": [
              "<Figure size 800x600 with 2 Axes>"
            ],
            "image/png": "[encoded data removed]"
          },
          "metadata": {}
        }
      ]
    },
    {
      "cell_type": "code",
      "source": [
        "from sklearn.metrics import precision_score, accuracy_score, f1_score, recall_score\n",
        "\n",
        "# Calculate metrics\n",
        "precision = precision_score(y_test, y_pred)\n",
        "accuracy = accuracy_score(y_test, y_pred)\n",
        "f1 = f1_score(y_test, y_pred)\n",
        "recall = recall_score(y_test, y_pred)\n",
        "\n",
        "print(\"Precision:\", precision)\n",
        "print(\"Accuracy:\", accuracy)\n",
        "print(\"F1-score:\", f1)\n",
        "print(\"Recall:\", recall)\n"
      ],
      "metadata": {
        "colab": {
          "base_uri": "https://localhost:8080/"
        },
        "id": "0FfavVfkVFCB",
        "outputId": "6bc88f82-683c-40fa-c887-231204ee6dc2"
      },
      "execution_count": 36,
      "outputs": [
        {
          "output_type": "stream",
          "name": "stdout",
          "text": [
            "Precision: 0.943089430894309\n",
            "Accuracy: 0.9181708784596871\n",
            "F1-score: 0.9534246575342467\n",
            "Recall: 0.96398891966759\n"
          ]
        }
      ]
    }
  ]
}